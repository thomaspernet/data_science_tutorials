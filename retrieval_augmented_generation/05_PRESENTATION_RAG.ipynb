{
 "cells": [
  {
   "cell_type": "markdown",
   "metadata": {
    "id": "bmlY54tKjVfg"
   },
   "source": [
    "# Retrieval Augmented Generation\n",
    "\n",
    "## What is a RAG\n",
    "\n",
    "Retrieval-Augmented Generation (RAG) is a machine learning framework that combines the benefits of pre-trained language models with external knowledge retrieval. It's designed to enhance the capabilities of large language models by enabling them to access and incorporate information from external data sources.\n",
    "\n",
    "\n",
    "Use Cases: Information retrieval systems, chatbots, document summarization tools, and other knowledge-intensive tasks.​\n",
    "\n",
    "RAG operates in a structured, three-stage manner, each stage playing a pivotal role in the generation of accurate and contextually enriched responses:\n",
    "\n",
    "- The Retriever: This initial stage is akin to a diligent librarian. It scours through a vast corpus of text, seeking out documents or passages that resonate with the query. The retriever is the gateway to relevant knowledge, setting the stage for insightful responses.\n",
    "- Post Node Processing: Think of this as the refining crucible. It takes the raw, retrieved information and polishes it, ensuring that the final response is not just relevant but also refined and of high quality.\n",
    "- Response Synthesizer: The final flourish comes from this stage. It weaves together the processed information and the original query to generate a response that's coherent, contextually appropriate, and seemingly conjured from the depths of human-like understanding.\n",
    "\n",
    "![](https://lucid.app/publicSegments/view/92bbd8e3-3eca-4949-9e6f-0d3a923fec1f/image.png)\n",
    "\n",
    "\n",
    "\n",
    "\n"
   ]
  },
  {
   "cell_type": "markdown",
   "metadata": {
    "id": "vBrBKCAyPs4G"
   },
   "source": [
    "## What are the main challenges of RAG\n",
    "\n",
    "Data Quality and Diversity:\n",
    "\n",
    "- Quality of Source Documents: Quality affects the output; inaccuracies in source documents can lead to errors in generated responses.​\n",
    "- Document Diversity and Style Variations: Documents vary in style, structure, and format, posing a challenge for uniform processing.​\n",
    "\n",
    "\n",
    "Domain-Specific Considerations:\n",
    "\n",
    "- Domain-Specific Jargon and Context: Specialized fields often use specific jargon, requiring customization to ensure the model's effectiveness.​\n",
    "- Semantic Understanding and Embeddings: Ensuring that embeddings accurately capture the semantic meaning and nuances of texts is a challenge.​\n",
    "\n",
    "Precision and Coherence in Responses:\n",
    "\n",
    "- Balance Between Precision and Response Quality: A trade-off exists between the precision of retrieved documents and the coherence of the generated response.\n",
    "- Chunk Text and Contextual Limitations: The size of text chunks impacts performance, with larger chunks providing more context but being computationally intensive.\n",
    "\n",
    "\n",
    "Relevance and Comprehensiveness:\n",
    "\n",
    "- Handling of False Positives: Systems may retrieve irrelevant documents appearing relevant due to keyword matching, necessitating mechanisms to discern true relevance.\n",
    "- Management of Open-Ended Queries and Summarization: The system must collate and synthesize information from various sources for broad queries or comprehensive summarizations without missing key details.\n",
    "\n",
    "Coherence and Consistency in Information:\n",
    "- Document Coherence and Contradictions: With a large number of documents, inconsistencies or contradictions may arise, challenging the system's ability to generate coherent and accurate responses.\n",
    "- Temporal Relevance and Outdated Information: Documents may become outdated over time. The system's ability to discern and prioritize the most current and relevant information is crucial to avoid basing responses on outdated or obsolete data."
   ]
  },
  {
   "cell_type": "markdown",
   "metadata": {},
   "source": [
    "## Common techniques for each stage\n",
    "\n",
    "### Commonly used Retrievers\n",
    "\n",
    "- Basic Retriever: Similarity search algorithm between the query and the documents in the vector store\n",
    "- BM25: BM25 algorithm is a method that ranks documents based on how often the words in your search query appear in those documents, while also considering the length of the documents\n",
    "- Fusion retriever: Combine the use of two retrievers to find candidates, sort and extract the top n \n",
    "\n",
    "### Node Post Processor\n",
    "\n",
    "- Similarity: This postprocessor filters nodes based on a similarity threshold. It ensures that only nodes with a similarity score above a certain threshold are considered in the final results. This is particularly useful in maintaining a high relevance standard in the retrieved information.\n",
    "- Embedding Optimizer: Optimizes the retrieval process by considering sentence embeddings. This postprocessor takes into account the contextual similarity at a sentence level\n",
    "- LLm Reranker: This postprocessor leverages the capabilities of a Large Language Model (LLM) to rerank the nodes. By understanding the content and context at a deeper level, the LLM reranks the nodes, ensuring that the most contextually relevant and informative nodes are prioritized.\n",
    "\n",
    "### Response Synthetizer\n",
    "\n",
    "- Simple summarize: Merge all text chunks into one and make a call to the LLM.\n",
    "- Refine: This method involves an iterative process of response generation. It uses the context in the first node, along with the query, to generate an initial answer\n",
    "- Tree summarize: Build a tree index over the candidate nodes, starting with a summary prompt seeded with the query"
   ]
  },
  {
   "cell_type": "code",
   "execution_count": null,
   "metadata": {
    "id": "dGoAG-WQjJxw"
   },
   "outputs": [],
   "source": [
    "#import locale\n",
    "#def getpreferredencoding(do_setlocale = True):\n",
    "#    return \"UTF-8\"\n",
    "#locale.getpreferredencoding = getpreferredencoding"
   ]
  },
  {
   "cell_type": "code",
   "execution_count": null,
   "metadata": {
    "colab": {
     "base_uri": "https://localhost:8080/"
    },
    "executionInfo": {
     "elapsed": 18222,
     "status": "ok",
     "timestamp": 1706367869353,
     "user": {
      "displayName": "Thomas Pernet",
      "userId": "12184844431429654860"
     },
     "user_tz": 300
    },
    "id": "bi7GAkyljcLL",
    "outputId": "7b222b1d-a73f-4cd1-ce8b-fadbb47a5e44"
   },
   "outputs": [],
   "source": [
    "#from google.colab import drive\n",
    "#drive.mount('/content/drive', force_remount=True)"
   ]
  },
  {
   "cell_type": "code",
   "execution_count": null,
   "metadata": {
    "colab": {
     "base_uri": "https://localhost:8080/"
    },
    "executionInfo": {
     "elapsed": 58963,
     "status": "ok",
     "timestamp": 1706367814232,
     "user": {
      "displayName": "Thomas Pernet",
      "userId": "12184844431429654860"
     },
     "user_tz": 300
    },
    "id": "JbYC8-swjdyz",
    "outputId": "8784af7b-6975-40db-ee78-3092ef3961cf"
   },
   "outputs": [],
   "source": [
    "#!pip install peft\n",
    "#!pip install bitsandbytes\n",
    "#!pip install accelerate\n",
    "#!pip install llama_index\n",
    "#!pip install pyvis\n",
    "#!pip install rank_bm25\n",
    "#!pip install langdetect"
   ]
  },
  {
   "cell_type": "markdown",
   "metadata": {
    "id": "dgPEPA6-6okP"
   },
   "source": [
    "# Prepare data and LLm\n",
    "## Load LLm model\n",
    "\n",
    "This section details the process of integrating an LLM (Large Language Model) with the Llama Index, focusing on preparing and configuring the Mistral model for use. The Llama Index serves as an advanced backend, designed for complex search and retrieval operations. The primary aim is to set up the Mistral model, a variant of LLM optimized for generating high-quality text based on given instructions and context.\n",
    "\n",
    "**Environment Setup**\n",
    "\n",
    "First, we import the necessary libraries and configure the computing environment. The `transformers` library is used for accessing models and utilities for natural language processing. The `PeftModel` from `peft` aids in optimizing model parallelism and execution time, crucial for handling large models like Mistral."
   ]
  },
  {
   "cell_type": "code",
   "execution_count": null,
   "metadata": {
    "id": "XS__N_e_jgKT"
   },
   "outputs": [],
   "source": [
    "import os\n",
    "from transformers import AutoTokenizer, AutoModelForCausalLM, BitsAndBytesConfig\n",
    "from peft import PeftModel\n",
    "import torch"
   ]
  },
  {
   "cell_type": "markdown",
   "metadata": {
    "id": "5s-F7hB-7Ugf"
   },
   "source": [
    "We set the default device to GPU if available, to leverage faster computation capabilities essential for handling computationally intensive tasks of large language models."
   ]
  },
  {
   "cell_type": "code",
   "execution_count": null,
   "metadata": {
    "id": "0qZpwGJsjgfi"
   },
   "outputs": [],
   "source": [
    "torch.set_default_device('cuda')"
   ]
  },
  {
   "cell_type": "markdown",
   "metadata": {
    "id": "KHu6n9pa7XPj"
   },
   "source": [
    "The `BitsAndBytesConfig` is configured to minimize the model's memory usage. By loading the model in a 4-bit precision format, applying double quantization, and specifying a computation data type, we optimize the model's performance efficiently."
   ]
  },
  {
   "cell_type": "code",
   "execution_count": null,
   "metadata": {
    "id": "yJ0zYa1qjgjS"
   },
   "outputs": [],
   "source": [
    "device = torch.device(\"cuda\" if torch.cuda.is_available() else \"cpu\")\n",
    "bnb_config = BitsAndBytesConfig(\n",
    "    load_in_4bit=True,\n",
    "    bnb_4bit_use_double_quant=True,\n",
    "    bnb_4bit_quant_type=\"nf4\",\n",
    "    bnb_4bit_compute_dtype=torch.bfloat16\n",
    ")\n"
   ]
  },
  {
   "cell_type": "markdown",
   "metadata": {
    "id": "DA__H8yH7ba2"
   },
   "source": [
    "We load the `Mistral-7B-Instruct-v0.2` model using the `AutoModelForCausalLM` class, designed for causal language modeling tasks. The model predicts the next token in a sequence, making it well-suited for generating coherent and contextually relevant text. The `BitsAndBytesConfig` settings are applied to ensure an efficient use of resources."
   ]
  },
  {
   "cell_type": "code",
   "execution_count": null,
   "metadata": {
    "colab": {
     "base_uri": "https://localhost:8080/",
     "height": 400,
     "referenced_widgets": [
      "1704d3f50d3d4ada8827261030e3e68c",
      "4d4f6b51456a45df95390bf5e508b37c",
      "1f0c1042dd734f5aa61a4e10eb3c9933",
      "c02b5d3363bd4406b9787bb621b50b3d",
      "1a8b3013427e47c08cb40fc730683248",
      "ac8d9f457ed843068e0458cfd81cb43c",
      "d94ea4a55d59466f962f128b41859767",
      "9e2c534ca9fc4ef3b5d7eb852ca78dd4",
      "8e35df83bc47457e9aa9d885009978d8",
      "48b1908998b24b4c89b1493afa1a7a03",
      "932bc9fae1be47f9af6b9041781cd6b6",
      "ac2eb52a63bd4e318ecee4b511c37af9",
      "8e78d05d622449479027cb6190d46ac1",
      "62c05a4e04324f429fa55647ac7ff51e",
      "dc5abb9c990e4bab953b07fd295195e6",
      "8bc375d10359456da3441816bd217162",
      "9d9e1a84ef304ccfb9fdd34dcd330de1",
      "6b38aa472aad4ff6b55afab71ff0081f",
      "6dfad769809548f699c52323ff16cdd4",
      "65ad8d83a6a14c9e8876c8ff5ec86670",
      "a489daf348ec4c39aef6f813eb210f29",
      "1e951806d6ee482b98d94438afa11561",
      "ef0831617eee48d2b6be978fffaccaa9",
      "7fd5cd30508c4a7388a1b3981f613901",
      "f7f5257e580046ebbe766dbd8716d77b",
      "de633d347208477991ba40968ac3053e",
      "3195e701137e425fbb46c9fdc27f90d0",
      "a54e512d892b45ecab41976d6c340d16",
      "1e105edf90784b639354bf0f11600b70",
      "62ada286282b4a709f0a97be76bb5a74",
      "e16c946e63aa4da4b7020c94bc5dc214",
      "250e143ceffa451c88b3085311f09a53",
      "33d8d0105ed44269bd133fc31e73b64e",
      "d40824643a454f008439faff8e6979f8",
      "18242c28358f49af8480699fdf2aea76",
      "59b56e5b31f5467bbf3787270d1efd32",
      "e439509840aa49048d188e72e02e03d2",
      "ef08df7f48f94dbf8c5bb3d6cf1d0f24",
      "1fbb5df8bc2d4bf8bb67857526c629bd",
      "5df8de8a443c4df68e38b972cca8e9db",
      "ee3af3128c5a488e882a15caea29639e",
      "8601d0418be44d92ac0959646e0819f2",
      "ba51610b3eef46fabbf656168f210df2",
      "528ed3aa2bba4295b0284bac5020d65e",
      "b7e44bab58624d5898cde1b26db5dbe9",
      "03402be3c0cc4e3da4ac00e2b644ebb2",
      "b135c321cf5841419b61eca47ab53516",
      "22ba9da434fd4f0aaa7cb0a02b1b8215",
      "851a71702fbb4ee392ffc31021c9d71b",
      "d9f42b968a6e49ea8f8b17f15e0c27ed",
      "f222945cafa74c0f99079d03397b8ea6",
      "554b711d8eaf4aa8ba021ea07cf0969a",
      "cbf84cd25ba74b3cbe000cf410918346",
      "1415e2bc5ecc43d1b54431cf2d7bf86e",
      "4f4d9d34386c40dfbe0e140947d0b959",
      "d566defb3fb04bae8541626ad9af99d9",
      "e7f63058cf1241599238aa78414e4534",
      "1ea816a596a04099af860f303ae3730c",
      "4a0bfb833cb6463b89d00ae4b7e9a44c",
      "3c3423dbb7d14b439dbb1c8fe58d2db9",
      "00cf0bb3b649425c9152ac76630c482d",
      "1b081205729d4f8c808ee684dc09c56a",
      "d4e4eeac406f46a98d9cd03aecd04678",
      "a9f6442f0d474f638e7c80099e8f9806",
      "0a2a476708204e15af1bbafadd2fa6fd",
      "6ce88b29d0f94333a2dda4abd3e4c165",
      "fefeae156ad74efc9d44e1529e1112db",
      "e752e42e29b3445ebe5193af580cd7fa",
      "d8743e58968c417fb6031be23fa06b14",
      "184e3da22f0d42b3b59a9315dd64658c",
      "98a3df0404ea4bad9807d946862cea8a",
      "e90faa423a7d48efbf2f583b6ba64446",
      "d2dd4c01d45143b592966372ae6ae30b",
      "c4a011027239401fa5969ea0291571f7",
      "37347ad986984a4fb2579c9158d62acb",
      "e04bb049434c4023813b394aa7ee3ac1",
      "c73f6f12a69744e0a873f102917265ea",
      "fad8e78e6173458cae9f16b470791f70",
      "c56b7de117a8465886aaa87360cd7276",
      "2b6b898e332247b992b94edacc369ab8",
      "1c68ef2091694f6781a3c4522d7d2e3a",
      "de45745342c84150a6be4764dc8e3705",
      "55f1ff79df554ae6bbc35db9f20834c6",
      "f6453d0922054e96a887f947a3b07593",
      "7d7b63bc41e946ef857292a73e445416",
      "556181afb6d042349492b881e2571767",
      "f9712d0b0b4f4d508ca5b319022d92b3",
      "de464a4dd60449af8e9b722f7f51a070"
     ]
    },
    "executionInfo": {
     "elapsed": 314419,
     "status": "ok",
     "timestamp": 1706368193704,
     "user": {
      "displayName": "Thomas Pernet",
      "userId": "12184844431429654860"
     },
     "user_tz": 300
    },
    "id": "KDNaZNNV7eT2",
    "outputId": "5b42dce6-ced7-43d6-80d2-052d4db0bc75"
   },
   "outputs": [],
   "source": [
    "model_base = AutoModelForCausalLM.from_pretrained(\n",
    "     \"mistralai/Mistral-7B-Instruct-v0.2\",\n",
    "    quantization_config=bnb_config,\n",
    "    device_map={\"\": 0})\n"
   ]
  },
  {
   "cell_type": "markdown",
   "metadata": {
    "id": "6O7_otwW7gho"
   },
   "source": [
    "The tokenizer is responsible for converting text input into a format that the model can understand, ensuring that the input text is appropriately preprocessed."
   ]
  },
  {
   "cell_type": "code",
   "execution_count": null,
   "metadata": {
    "colab": {
     "base_uri": "https://localhost:8080/",
     "height": 145,
     "referenced_widgets": [
      "14b2054428d945eb9b90f20462c73557",
      "e6749126264b4d9da81ac2dd8310e290",
      "cd449e751eb4493ab7e0fc6cdf9c707b",
      "fefa75b78563471eb1644064166cfc51",
      "4935a85f54bd41aeacdbb0a75a5d4638",
      "e16d452d04524f46a347002177a8b528",
      "67a769e450494d658a725bea7a0f2c08",
      "4ff40ccf7e0a4de987e1c03e401bd701",
      "f7b8c713ea8147fd938cd19fd3d4efa2",
      "009097ea2c2c46b3a406dd398a200e07",
      "f1623525aafa49238b5a7192e3631aa4",
      "98ce2d14b573402cad3a7787ad7eb150",
      "5df131cd34384574a028f8a762bac424",
      "1fd054bc0fde4c9098c9a6a134b1063c",
      "1a99f358634b49858f54ab836fc30152",
      "b3ce2429429e474baf137257dca4b76c",
      "703f369f1413400f8c50d7fa50081ed9",
      "a72b84f943d64c8c97c1dfcd5446386c",
      "2ab40ff1831743c18e7048a734c67e5b",
      "b8630829046341cd908166d8a7fd77fe",
      "54d7c73ecb854591a5ac9350aeb0edfd",
      "b62bfac304484f879727ca756964ccd0",
      "eb45ee68476a4df6a9db3f1b7ef6247c",
      "b9091d21ad4249fd8aceda64fce24164",
      "b93259d2f4384a18a1de62b22226e9ab",
      "3025de5cd61b4c79abef6f88b4c5dc8d",
      "a03af6cc9c714f4eb8b30bf2ad7d3712",
      "681586af52b840f2ba2187966e176eb1",
      "f5930ffbe47043d189ed3a83838adec6",
      "f59c4db97921495a8e6620fc81c80bef",
      "67af698972744071be510e4182f4864b",
      "597c2a2ab9824a2db41f7386de63b16a",
      "c7f3af1b1c8b42a2889edb7213ecb605",
      "5bbf84b9f7554b44b45ae300c2fd3477",
      "2e006d12291047caa5edf871a8ab1cca",
      "9e45175502d24659b081e1453627275a",
      "54b9ab3c7ad947ce916313689820b600",
      "83580db20f01460babe8910ece57e00a",
      "97923435a8b545a29127d4c41aed8977",
      "b15f08b15f1c4e9b87925af4893683c0",
      "22456e4d77a24e5da4df63578cf3f7fe",
      "aa9cf8a5f0f649d589a9546f69e369e9",
      "f2c90a2b9b8b4369860dc8bfbf57076e",
      "530b76008d2b47e1bd1ae1bb98f60231"
     ]
    },
    "executionInfo": {
     "elapsed": 1559,
     "status": "ok",
     "timestamp": 1706368195259,
     "user": {
      "displayName": "Thomas Pernet",
      "userId": "12184844431429654860"
     },
     "user_tz": 300
    },
    "id": "ufyxcv0i7gwC",
    "outputId": "3db18441-95bc-4cc1-a4fd-c6e75703632d"
   },
   "outputs": [],
   "source": [
    "tokenizer = AutoTokenizer.from_pretrained( \"mistralai/Mistral-7B-Instruct-v0.2\")"
   ]
  },
  {
   "cell_type": "markdown",
   "metadata": {
    "id": "pIhRmTwd7sQY"
   },
   "source": [
    "We set up a system prompt that defines the model's role as a Q&A assistant, guiding its behavior and responses. The `query_wrapper_prompt` is a template for processing queries, ensuring they are formatted correctly for the model."
   ]
  },
  {
   "cell_type": "code",
   "execution_count": null,
   "metadata": {
    "id": "mIZg7KnOmqe4"
   },
   "outputs": [],
   "source": [
    "system_prompt = \"You are a Q&A assistant. Your goal is to answer questions as accurately as possible based on the instructions and context provided.\"\n",
    "# This will wrap the default prompts that are internal to llama-index\n",
    "query_wrapper_prompt = \"<|USER|>{query_str}<|ASSISTANT|>\""
   ]
  },
  {
   "cell_type": "markdown",
   "metadata": {
    "id": "jxQqyppG70Ev"
   },
   "source": [
    "We import the `HuggingFaceLLM` from `llama_index.llms`, which is a wrapper for interfacing with Hugging Face's transformer models."
   ]
  },
  {
   "cell_type": "code",
   "execution_count": null,
   "metadata": {
    "id": "3wukdVWVjgp-"
   },
   "outputs": [],
   "source": [
    "from llama_index.llms import HuggingFaceLLM"
   ]
  },
  {
   "cell_type": "markdown",
   "metadata": {
    "id": "Ei1POkEF8BfQ"
   },
   "source": [
    "Finally, we instantiate the `HuggingFaceLLM` with the loaded Mistral model, tokenizer, and specified settings.\n",
    "\n",
    "- `context_window`: This parameter defines the maximum length of the context that the model can consider for generating responses. A context window of 4096 tokens allows the model to consider a substantial amount of preceding text, enabling it to generate responses that are coherent and contextually relevant.\n",
    "- `max_new_tokens`: This sets the maximum number of tokens that the model can generate in a single inference call. A limit of 500 tokens ensures that the model's responses are concise and focused, preventing excessively long or off-topic content generation.\n",
    "-  The `temperature` parameter controls the randomness in the text generation process; a lower temperature (0.3 in this case) makes the model's responses more deterministic and less random.\n",
    "- The `do_sample` parameter, when set to True, allows the model to sample multiple candidate responses, adding diversity to the generated content."
   ]
  },
  {
   "cell_type": "code",
   "execution_count": null,
   "metadata": {
    "id": "6qomvr8tjgs4"
   },
   "outputs": [],
   "source": [
    "llm = HuggingFaceLLM(\n",
    "    context_window=4096,\n",
    "    max_new_tokens=500,\n",
    "    generate_kwargs={\"temperature\": 0.3, \"do_sample\": True},\n",
    "    system_prompt=system_prompt,\n",
    "    query_wrapper_prompt=query_wrapper_prompt,\n",
    "    tokenizer=tokenizer,\n",
    "    model=model_base,\n",
    "    device_map=\"auto\",\n",
    "    tokenizer_kwargs={\"max_length\": 4096},\n",
    "    model_kwargs={\"torch_dtype\": torch.float16}\n",
    "\n",
    ")"
   ]
  },
  {
   "cell_type": "markdown",
   "metadata": {},
   "source": [
    "# Euroquity Project\n",
    "\n",
    "**Project Objective**: The Euroquity project aims to create a sophisticated matching algorithm. This algorithm will leverage the data amassed by Euroquity to seamlessly connect fund seekers with the right investors.\n",
    "\n",
    "**Data Utilization**: Our primary data sources are the descriptions of companies and investors, along with investment information. This data forms the foundation of our matching process.\n",
    "Leveraging RAG Technology: We employ Retrieval-Augmented Generation (RAG) technology to enhance our matching capabilities. RAG allows us to generate new, relevant information from the text data (title, industry, summary, tags, question) of each company.\n",
    "\n",
    "The Matching Process:\n",
    "\n",
    "- We generate a unique query for each company seeking funds. This query encapsulates the company's specific needs and characteristics.\n",
    "- We then use this query to find potential investors whose profiles align with the company's needs.\n",
    "- Finally, we provide a rationale for each match, explaining why the investor is a good fit for the company."
   ]
  },
  {
   "cell_type": "markdown",
   "metadata": {
    "id": "aicnOnWX8p5o"
   },
   "source": [
    "## Load text data from Pandas\n",
    "\n",
    "I load the data into a pandas dataframe to get some information about the dataset. There is a column 'markdown' containing the notes, along with a few extra columns like 'title', 'tags', and 'date'. These additional columns can be instrumental in enhancing the accuracy of the search in the retrieval system."
   ]
  },
  {
   "cell_type": "code",
   "execution_count": null,
   "metadata": {
    "id": "nVs7FzLJjgvv"
   },
   "outputs": [],
   "source": [
    "from nltk.tokenize import word_tokenize\n",
    "import pandas as pd\n",
    "import os\n",
    "import glob\n",
    "import numpy as np\n",
    "from langdetect import detect\n",
    "import nltk\n",
    "pd.set_option(\"max_colwidth\", None)"
   ]
  },
  {
   "cell_type": "code",
   "execution_count": null,
   "metadata": {
    "colab": {
     "base_uri": "https://localhost:8080/"
    },
    "executionInfo": {
     "elapsed": 379,
     "status": "ok",
     "timestamp": 1706368199966,
     "user": {
      "displayName": "Thomas Pernet",
      "userId": "12184844431429654860"
     },
     "user_tz": 300
    },
    "id": "OdgES_09JGI4",
    "outputId": "8770abdc-e6ff-4409-b38e-49945e01fd26"
   },
   "outputs": [],
   "source": [
    "nltk.download('punkt')"
   ]
  },
  {
   "cell_type": "code",
   "execution_count": null,
   "metadata": {
    "id": "fmENqDqfI_Hs"
   },
   "outputs": [],
   "source": [
    "pd.set_option('display.max_columns', None)"
   ]
  },
  {
   "cell_type": "code",
   "execution_count": null,
   "metadata": {
    "id": "A6kocu0Dj_IU",
    "tags": []
   },
   "outputs": [],
   "source": [
    "def count_tokens(text):\n",
    "    tokens = word_tokenize(text)\n",
    "    return len(tokens)\n",
    "\n",
    "\n",
    "def detect_language(text):\n",
    "    try:\n",
    "        return detect(text)\n",
    "    except Exception as e:\n",
    "        return \"Error: \" + str(e)"
   ]
  },
  {
   "cell_type": "code",
   "execution_count": null,
   "metadata": {
    "id": "avXOOJahJIgO"
   },
   "outputs": [],
   "source": [
    "path_drive = \"drive/MyDrive/PROJECT/BUSINESS/FINDIT/EUROQUITY/DOCUMENTS_EUROQUITY\"\n",
    "path_project = os.getcwd()#os.path.join(os.getcwd(), path_drive)"
   ]
  },
  {
   "cell_type": "code",
   "execution_count": null,
   "metadata": {
    "id": "57ZynSYxJKol"
   },
   "outputs": [],
   "source": [
    "card = \"\"\"Company name: {}\n",
    "\n",
    "Members of the following communities: {}\n",
    "\n",
    "About the company:\n",
    "{}\n",
    "\n",
    "About the investment:\n",
    "{}\n",
    "\"\"\"\n",
    "def fill_template(row):\n",
    "    return card.format(row[\"Nom organisation\"], row['Noms communautés'], row[\"À propos de votre organisation/profil\"], row[\"À propos de votre thèse d’investissement\"])\n"
   ]
  },
  {
   "cell_type": "code",
   "execution_count": null,
   "metadata": {
    "id": "VsKlzz4RJKrc"
   },
   "outputs": [],
   "source": [
    "df = (\n",
    "     pd.read_csv(os.path.join(path_project,\"investors.csv\"))\n",
    ")\n",
    "df = (\n",
    "    df\n",
    "    .loc[lambda x: ~x[\"Nom organisation\"].isin([np.nan])]\n",
    "    .loc[lambda x:\n",
    "         (~x['À propos de votre thèse d’investissement'].isin([np.nan])) |\n",
    "         (~x['À propos de votre organisation/profil'].isin([np.nan]))\n",
    "        ]\n",
    "    .loc[lambda x: x['Langue originelle'].isin(['Anglais'])]\n",
    "    .assign(\n",
    "     **{\n",
    "         f'{i}' : df[i].fillna('-') for i in [\n",
    "             \"Nom organisation\",\n",
    "             'Noms communautés',\n",
    "             \"À propos de votre organisation/profil\",\n",
    "             \"À propos de votre thèse d’investissement\"\n",
    "         ]\n",
    "     }\n",
    "    )\n",
    "    .assign(\n",
    "    formatted_card = lambda x: x.apply(fill_template, axis =1)\n",
    "    )\n",
    "    .assign(\n",
    "        size_doc = lambda x: x['formatted_card'].apply(count_tokens)\n",
    "    )\n",
    ")"
   ]
  },
  {
   "cell_type": "code",
   "execution_count": null,
   "metadata": {
    "id": "adPYphNmJKt1"
   },
   "outputs": [],
   "source": [
    "df['language'] = [detect_language(i) for i in list(df['À propos de votre thèse d’investissement'])]"
   ]
  },
  {
   "cell_type": "code",
   "execution_count": null,
   "metadata": {
    "colab": {
     "base_uri": "https://localhost:8080/"
    },
    "executionInfo": {
     "elapsed": 3,
     "status": "ok",
     "timestamp": 1706368239218,
     "user": {
      "displayName": "Thomas Pernet",
      "userId": "12184844431429654860"
     },
     "user_tz": 300
    },
    "id": "8y47yBTtJQdu",
    "outputId": "0047a538-e7cf-4e34-9960-03e09936a60c"
   },
   "outputs": [],
   "source": [
    "df['language'].value_counts()"
   ]
  },
  {
   "cell_type": "code",
   "execution_count": null,
   "metadata": {
    "id": "FukzXBdbJQgY"
   },
   "outputs": [],
   "source": [
    "df = df.loc[lambda x: x['language'].isin(['en'])]"
   ]
  },
  {
   "cell_type": "code",
   "execution_count": null,
   "metadata": {
    "id": "Sq8Z8OJ3JQl0"
   },
   "outputs": [],
   "source": [
    "df = df.loc[lambda x: x['Pays'].isin(['Belgique (BE)', 'France (FR)', 'Allemagne (DE)','Royaume-Uni (GB)'])]"
   ]
  },
  {
   "cell_type": "code",
   "execution_count": null,
   "metadata": {
    "colab": {
     "base_uri": "https://localhost:8080/"
    },
    "executionInfo": {
     "elapsed": 3,
     "status": "ok",
     "timestamp": 1706368241759,
     "user": {
      "displayName": "Thomas Pernet",
      "userId": "12184844431429654860"
     },
     "user_tz": 300
    },
    "id": "j1ddjuuQJQri",
    "outputId": "6f9e384d-7462-4936-9181-7b243022a73b"
   },
   "outputs": [],
   "source": [
    "df['Pays'].value_counts()"
   ]
  },
  {
   "cell_type": "code",
   "execution_count": null,
   "metadata": {
    "id": "ib_hZDqyNrIS"
   },
   "outputs": [],
   "source": [
    "#df = df.sample(10)"
   ]
  },
  {
   "cell_type": "markdown",
   "metadata": {
    "id": "dxAgeqUX-4Sy"
   },
   "source": [
    "The next step is to assess the length of each document. This is crucial because understanding whether the documents are uniformly sized or if they vary significantly can impact how you configure and optimize the retrieval system."
   ]
  },
  {
   "cell_type": "markdown",
   "metadata": {
    "id": "qLTFA_7U98Rq"
   },
   "source": [
    "The median document length is 78 tokens, indicating that half of the documents are of a modest size. However, the presence of documents as lengthy as 389 tokens suggests variability in the dataset. This variance in document length is an important factor to consider in tailoring the Llama Index for efficient and effective search performance."
   ]
  },
  {
   "cell_type": "code",
   "execution_count": null,
   "metadata": {
    "colab": {
     "base_uri": "https://localhost:8080/"
    },
    "executionInfo": {
     "elapsed": 182,
     "status": "ok",
     "timestamp": 1706368243708,
     "user": {
      "displayName": "Thomas Pernet",
      "userId": "12184844431429654860"
     },
     "user_tz": 300
    },
    "id": "65_kz0upj_RV",
    "outputId": "ea13acfe-4eb1-4892-ad07-8741a6fd7c17"
   },
   "outputs": [],
   "source": [
    "df['size_doc'].describe()"
   ]
  },
  {
   "cell_type": "code",
   "execution_count": null,
   "metadata": {
    "id": "OqKWIFBKJlvr"
   },
   "outputs": [],
   "source": [
    "#df = df.sample(10)"
   ]
  },
  {
   "cell_type": "code",
   "execution_count": null,
   "metadata": {
    "id": "BUAKiy7HJl0T"
   },
   "outputs": [],
   "source": [
    "from tqdm import tqdm\n",
    "tqdm.pandas()"
   ]
  },
  {
   "cell_type": "code",
   "execution_count": null,
   "metadata": {
    "id": "RSiIXUVzJou3",
    "tags": []
   },
   "outputs": [],
   "source": [
    "def flatten_comprehension(matrix, remove_dup = True):\n",
    "    if remove_dup:\n",
    "        return list(set([item for row in matrix for item in row]))\n",
    "    else:\n",
    "        return [item for row in matrix for item in row]"
   ]
  },
  {
   "cell_type": "code",
   "execution_count": null,
   "metadata": {
    "id": "TQ6nJwNBJo2k",
    "tags": []
   },
   "outputs": [],
   "source": [
    "list_community = list(set([\n",
    "    i.strip() for i in flatten_comprehension([i.split('||') for i in\n",
    "                                              df['Noms communautés'].unique()])\n",
    "]))"
   ]
  },
  {
   "cell_type": "markdown",
   "metadata": {},
   "source": [
    "### Enhance information with LLm\n",
    "\n",
    "Language Models (LLMs) can be a valuable tool for generating metadata, such as business community associations, industry classifications, document titles, and data summaries. Metadata plays a crucial role in improving document searches in two ways. First, it enriches the context of the documents, helping us better understand their content. Second, it allows for more efficient filtering of documents before initiating a search, which can save both time and resources. Some common examples of metadata include titles, summaries, keywords, questions, and topics. These elements enhance the search experience and make it easier to locate relevant information."
   ]
  },
  {
   "cell_type": "markdown",
   "metadata": {
    "id": "yZ5IHYCPJ2Mb"
   },
   "source": [
    "### Business Communities"
   ]
  },
  {
   "cell_type": "code",
   "execution_count": null,
   "metadata": {
    "id": "l5fFgobjJo7p",
    "tags": []
   },
   "outputs": [],
   "source": [
    "import re\n",
    "\n",
    "def find_matching_values(input_string, list_community):\n",
    "    pattern = \"|\".join(re.escape(item) for item in list_community)\n",
    "    matches = re.findall(pattern, input_string)\n",
    "    return matches"
   ]
  },
  {
   "cell_type": "code",
   "execution_count": null,
   "metadata": {
    "colab": {
     "base_uri": "https://localhost:8080/"
    },
    "executionInfo": {
     "elapsed": 1684853,
     "status": "ok",
     "timestamp": 1706369935597,
     "user": {
      "displayName": "Thomas Pernet",
      "userId": "12184844431429654860"
     },
     "user_tz": 300
    },
    "id": "bgnCH7JBJo5x",
    "outputId": "e9113dca-30c8-4730-ecd1-c28eddf7bee8",
    "tags": []
   },
   "outputs": [],
   "source": [
    "to_compute = False\n",
    "if to_compute:\n",
    "    prompt = \"\"\"\n",
    "    An investor joins a business platform to find potential projects to invest. When he signs in, the platform should\n",
    "    recommend him to sign up for business communities. Using the following list of business community:\n",
    "    {community}\n",
    "    and the following business proposal and company's about.\n",
    "    {about}\n",
    "    {proposal}\n",
    "     can you recommend possible business communities for the investor?\n",
    "\n",
    "    Answer by providing a list of business community using this template (do not include anything else):\n",
    "    answer: [list of business communities]\n",
    "    \"\"\"\n",
    "\n",
    "    def promp(community, about, proposal):\n",
    "        return prompt.format(community=community, about=about, proposal=proposal)\n",
    "\n",
    "    df['prompt_community'] = df.progress_apply(lambda x:\n",
    "                                                                   promp(\n",
    "                                                                   list_community,\n",
    "                                                                   x[\"À propos de votre organisation/profil\"],\n",
    "                                                                   x[ \"À propos de votre thèse d’investissement\"])\n",
    "                                                                   ,\n",
    "                                                                   axis=1\n",
    "                                                                   )\n",
    "    df['r_communities'] = df['prompt_community'].progress_apply(llm.complete)\n",
    "    df['clean_communities'] = df.progress_apply(\n",
    "    lambda x:find_matching_values(\n",
    "        str(x['r_communities']), list_community),axis =1)"
   ]
  },
  {
   "cell_type": "code",
   "execution_count": null,
   "metadata": {
    "tags": []
   },
   "outputs": [],
   "source": [
    "df_ex = df.copy()"
   ]
  },
  {
   "cell_type": "code",
   "execution_count": null,
   "metadata": {
    "tags": []
   },
   "outputs": [],
   "source": [
    "prompt = \"\"\"\n",
    "An investor joins a business platform to find potential projects to invest. When he signs in, the platform should\n",
    "recommend him to sign up for business communities. Using the following list of business community:\n",
    "{community}\n",
    "and the following business proposal and company's about.\n",
    "{about}\n",
    "{proposal}\n",
    " can you recommend possible business communities for the investor?\n",
    "\n",
    "Answer by providing a list of business community using this template (do not include anything else):\n",
    "answer: [list of business communities]\n",
    "\"\"\"\n",
    "def promp(community, about, proposal):\n",
    "    return prompt.format(community=community, about=about, proposal=proposal)\n",
    "df_ex['prompt_community'] = df_ex.progress_apply(lambda x:\n",
    "                                                               promp(\n",
    "                                                               list_community,\n",
    "                                                               x[\"À propos de votre organisation/profil\"],\n",
    "                                                               x[ \"À propos de votre thèse d’investissement\"])\n",
    "                                                               ,\n",
    "                                                               axis=1\n",
    "                                                               )"
   ]
  },
  {
   "cell_type": "code",
   "execution_count": null,
   "metadata": {
    "tags": []
   },
   "outputs": [],
   "source": [
    "df_ex[['prompt_community','clean_communities']].sample(2)"
   ]
  },
  {
   "cell_type": "markdown",
   "metadata": {
    "id": "Dw8g8pxIJ1Ar"
   },
   "source": [
    "### Business interest"
   ]
  },
  {
   "cell_type": "code",
   "execution_count": null,
   "metadata": {
    "id": "JDSMJc4mJvqe",
    "tags": []
   },
   "outputs": [],
   "source": [
    "def extract_text_between_brackets(input_string):\n",
    "    pattern = r'\\[(.*?)\\]'\n",
    "    matches = re.search(pattern, input_string)\n",
    "    if matches:\n",
    "        extracted_text = matches.group(1)\n",
    "        return extracted_text.split(', ')\n",
    "    else:\n",
    "        return []"
   ]
  },
  {
   "cell_type": "code",
   "execution_count": null,
   "metadata": {
    "colab": {
     "base_uri": "https://localhost:8080/"
    },
    "executionInfo": {
     "elapsed": 592694,
     "status": "ok",
     "timestamp": 1706370528288,
     "user": {
      "displayName": "Thomas Pernet",
      "userId": "12184844431429654860"
     },
     "user_tz": 300
    },
    "id": "LVCSGM08Jo_d",
    "outputId": "5d4dccef-678c-4bb1-d4d0-c1f5d38c53c6",
    "tags": []
   },
   "outputs": [],
   "source": [
    "to_compute = False\n",
    "if to_compute:\n",
    "    prompt = \"\"\"\n",
    "    An investor joins a business platform to find potential projects to invest.\n",
    "    Using information about the company or the investment proposal, can you recommend possible business interests for the investor?\n",
    "    Here are the investors information:\n",
    "    {about}\n",
    "    {proposal}\n",
    "\n",
    "    Answer by providing a python list of generale business interest, separated with a comma using this template (do not include anything else):\n",
    "    answer: [business interest 1, business interest 2, etc]\n",
    "    \"\"\"\n",
    "\n",
    "    def promp(community, about, proposal):\n",
    "        return prompt.format(community=community, about=about, proposal=proposal)\n",
    "\n",
    "    df['prompt_interest'] = df.progress_apply(lambda x:\n",
    "                                                                   promp(\n",
    "                                                                   list_community,\n",
    "                                                                   x[\"À propos de votre organisation/profil\"],\n",
    "                                                                   x[ \"À propos de votre thèse d’investissement\"])\n",
    "                                                                   ,\n",
    "                                                                   axis=1\n",
    "                                                                   )\n",
    "    df['r_interest'] = df['prompt_interest'].progress_apply(llm.complete)\n",
    "    df['clean_interest'] = df.progress_apply(\n",
    "    lambda x:extract_text_between_brackets(str(x['r_interest']).replace('\"','').strip()),axis =1)"
   ]
  },
  {
   "cell_type": "code",
   "execution_count": null,
   "metadata": {
    "tags": []
   },
   "outputs": [],
   "source": [
    "prompt = \"\"\"\n",
    "An investor joins a business platform to find potential projects to invest.\n",
    "Using information about the company or the investment proposal, can you recommend possible business interests for the investor?\n",
    "Here are the investors information:\n",
    "{about}\n",
    "{proposal}\n",
    "\n",
    "Answer by providing a python list of generale business interest, separated with a comma using this template (do not include anything else):\n",
    "answer: [business interest 1, business interest 2, etc]\n",
    "\"\"\"\n",
    "df_ex['prompt_interest'] = df_ex.progress_apply(lambda x:\n",
    "                                                               promp(\n",
    "                                                               list_community,\n",
    "                                                               x[\"À propos de votre organisation/profil\"],\n",
    "                                                               x[ \"À propos de votre thèse d’investissement\"])\n",
    "                                                               ,\n",
    "                                                               axis=1\n",
    "                                                               )"
   ]
  },
  {
   "cell_type": "code",
   "execution_count": null,
   "metadata": {
    "tags": []
   },
   "outputs": [],
   "source": [
    "df_ex[['prompt_interest','clean_interest']].sample(2)"
   ]
  },
  {
   "cell_type": "markdown",
   "metadata": {
    "id": "f60SOUSnKB2N"
   },
   "source": [
    "### Industry interested"
   ]
  },
  {
   "cell_type": "code",
   "execution_count": null,
   "metadata": {
    "colab": {
     "base_uri": "https://localhost:8080/"
    },
    "executionInfo": {
     "elapsed": 483963,
     "status": "ok",
     "timestamp": 1706371012248,
     "user": {
      "displayName": "Thomas Pernet",
      "userId": "12184844431429654860"
     },
     "user_tz": 300
    },
    "id": "uDS1VsrBJ-A7",
    "outputId": "443da75c-3e4a-405d-c8e1-20b7a7c83b5c",
    "tags": []
   },
   "outputs": [],
   "source": [
    "to_compute = False\n",
    "if to_compute:\n",
    "    prompt = \"\"\"\n",
    "    An investor joins a business platform to find potential projects to invest.\n",
    "    Using information about the company or the investment proposal, can you recommend possible business industries for the investor?\n",
    "    Here are the investors information:\n",
    "    {about}\n",
    "    {proposal}\n",
    "\n",
    "    Answer by providing a python list of generale business industries, separated with a comma using this template (do not include anything else):\n",
    "    answer: [business industries 1, business industries 2, etc]\n",
    "    \"\"\"\n",
    "\n",
    "    def promp(community, about, proposal):\n",
    "        return prompt.format(community=community, about=about, proposal=proposal)\n",
    "\n",
    "    df['prompt_industry'] = df.progress_apply(lambda x:\n",
    "                                                                   promp(\n",
    "                                                                   list_community,\n",
    "                                                                   x[\"À propos de votre organisation/profil\"],\n",
    "                                                                   x[ \"À propos de votre thèse d’investissement\"])\n",
    "                                                                   ,\n",
    "                                                                   axis=1\n",
    "                                                                   )\n",
    "    df['r_industry'] = df['prompt_industry'].progress_apply(llm.complete)\n",
    "    df['clean_industry'] = df.progress_apply(\n",
    "    lambda x:extract_text_between_brackets(str(x['r_industry']).replace('\"','').strip()),axis =1)\n",
    "    (\n",
    "    df\n",
    "    .explode(\"clean_industry\")['clean_industry']\n",
    "    .value_counts()\n",
    ")"
   ]
  },
  {
   "cell_type": "code",
   "execution_count": null,
   "metadata": {
    "tags": []
   },
   "outputs": [],
   "source": [
    "prompt = \"\"\"\n",
    "An investor joins a business platform to find potential projects to invest.\n",
    "Using information about the company or the investment proposal, can you recommend possible business industries for the investor?\n",
    "Here are the investors information:\n",
    "{about}\n",
    "{proposal}\n",
    "\n",
    "Answer by providing a python list of generale business industries, separated with a comma using this template (do not include anything else):\n",
    "answer: [business industries 1, business industries 2, etc]\n",
    "\"\"\"\n",
    "df_ex['prompt_industry'] = df_ex.progress_apply(lambda x:\n",
    "                                                               promp(\n",
    "                                                               list_community,\n",
    "                                                               x[\"À propos de votre organisation/profil\"],\n",
    "                                                               x[ \"À propos de votre thèse d’investissement\"])\n",
    "                                                               ,\n",
    "                                                               axis=1\n",
    "                                                               )"
   ]
  },
  {
   "cell_type": "code",
   "execution_count": null,
   "metadata": {
    "tags": []
   },
   "outputs": [],
   "source": [
    "df_ex[['prompt_industry','clean_industry']].sample(2)"
   ]
  },
  {
   "cell_type": "markdown",
   "metadata": {
    "id": "p8mzea8cKIM8"
   },
   "source": [
    "### Title"
   ]
  },
  {
   "cell_type": "code",
   "execution_count": null,
   "metadata": {
    "colab": {
     "base_uri": "https://localhost:8080/"
    },
    "executionInfo": {
     "elapsed": 800342,
     "status": "ok",
     "timestamp": 1706371812584,
     "user": {
      "displayName": "Thomas Pernet",
      "userId": "12184844431429654860"
     },
     "user_tz": 300
    },
    "id": "dcSKwkkwKKIq",
    "outputId": "88151690-8f77-4c1a-d89d-06737a6a729d",
    "tags": []
   },
   "outputs": [],
   "source": [
    "to_compute = False\n",
    "if to_compute:\n",
    "    prompt = \"\"\"\n",
    "An investor joins a business platform to find potential projects to invest.\n",
    "Using information about the company or the investment proposal, can you recommend a title to make it more attractive?\n",
    "Here are the investors information:\n",
    "{about}\n",
    "{proposal}\n",
    "\n",
    "Answer by providing a short title using this template (do not include anything else):\n",
    "answer: \"Add title\" inside a quote\n",
    "\"\"\"\n",
    "\n",
    "    def promp(community, about, proposal):\n",
    "        return prompt.format(community=community, about=about, proposal=proposal)\n",
    "\n",
    "    df['prompt_title'] = df.progress_apply(lambda x:\n",
    "                                                                   promp(\n",
    "                                                                   list_community,\n",
    "                                                                   x[\"À propos de votre organisation/profil\"],\n",
    "                                                                   x[ \"À propos de votre thèse d’investissement\"])\n",
    "                                                                   ,\n",
    "                                                                   axis=1\n",
    "                                                                   )\n",
    "    df['r_title'] = df['prompt_title'].progress_apply(llm.complete)\n",
    "    regex = r'\"\\s*(.*?)\\s*\"'\n",
    "\n",
    "    # Using re.findall to extract all occurrences and applying it to each row in the DataFrame\n",
    "    df['clean_title'] = df['r_title'].apply(lambda x: ' '.join(re.findall(regex, str(x))))"
   ]
  },
  {
   "cell_type": "code",
   "execution_count": null,
   "metadata": {
    "tags": []
   },
   "outputs": [],
   "source": [
    "prompt = \"\"\"\n",
    "An investor joins a business platform to find potential projects to invest.\n",
    "Using information about the company or the investment proposal, can you recommend a title to make it more attractive?\n",
    "Here are the investors information:\n",
    "{about}\n",
    "{proposal}\n",
    "\n",
    "Answer by providing a short title using this template (do not include anything else):\n",
    "answer: \"Add title\" inside a quote\n",
    "\"\"\"\n",
    "df_ex['prompt_title'] = df_ex.progress_apply(lambda x:\n",
    "                                                               promp(\n",
    "                                                               list_community,\n",
    "                                                               x[\"À propos de votre organisation/profil\"],\n",
    "                                                               x[ \"À propos de votre thèse d’investissement\"])\n",
    "                                                               ,\n",
    "                                                               axis=1\n",
    "                                                               )"
   ]
  },
  {
   "cell_type": "code",
   "execution_count": null,
   "metadata": {
    "tags": []
   },
   "outputs": [],
   "source": [
    "df_ex[['prompt_title','clean_title']].sample(2)"
   ]
  },
  {
   "cell_type": "markdown",
   "metadata": {
    "id": "tBJ32S8dKR74"
   },
   "source": [
    "### Summary"
   ]
  },
  {
   "cell_type": "code",
   "execution_count": null,
   "metadata": {
    "colab": {
     "base_uri": "https://localhost:8080/"
    },
    "executionInfo": {
     "elapsed": 914466,
     "status": "ok",
     "timestamp": 1706372727026,
     "user": {
      "displayName": "Thomas Pernet",
      "userId": "12184844431429654860"
     },
     "user_tz": 300
    },
    "id": "N1DWJIq2KTjy",
    "outputId": "537b4767-f04d-492d-8ebc-a1f07ca10dc3",
    "tags": []
   },
   "outputs": [],
   "source": [
    "to_compute = False\n",
    "if to_compute:\n",
    "    prompt = \"\"\"\n",
    "    An investor joins a business platform to find potential projects to invest.\n",
    "    Using information about the company or the investment proposal, can you summarize the company business and project?\n",
    "    Here are the investors information:\n",
    "    {about}\n",
    "    {proposal}\n",
    "\n",
    "    Answer by providing a short summary using this template (do not include anything else):\n",
    "    answer: \"Add summary\" inside a quote\n",
    "    \"\"\"\n",
    "\n",
    "    def promp(community, about, proposal):\n",
    "        return prompt.format(community=community, about=about, proposal=proposal)\n",
    "\n",
    "    df['prompt_summary'] = df.progress_apply(lambda x:\n",
    "                                                                   promp(\n",
    "                                                                   list_community,\n",
    "                                                                   x[\"À propos de votre organisation/profil\"],\n",
    "                                                                   x[ \"À propos de votre thèse d’investissement\"])\n",
    "                                                                   ,\n",
    "                                                                   axis=1\n",
    "                                                                   )\n",
    "    df['r_summary'] = df['prompt_summary'].progress_apply(llm.complete)\n",
    "    regex = r'\"\\s*(.*?)\\s*\"'\n",
    "    # Using re.findall to extract all occurrences and applying it to each row in the DataFrame\n",
    "    df['clean_summary'] = df['r_summary'].apply(lambda x: ' '.join(re.findall(regex, str(x))))"
   ]
  },
  {
   "cell_type": "code",
   "execution_count": null,
   "metadata": {
    "tags": []
   },
   "outputs": [],
   "source": [
    "prompt = \"\"\"\n",
    "An investor joins a business platform to find potential projects to invest.\n",
    "Using information about the company or the investment proposal, can you summarize the company business and project?\n",
    "Here are the investors information:\n",
    "{about}\n",
    "{proposal}\n",
    "\n",
    "Answer by providing a short summary using this template (do not include anything else):\n",
    "answer: \"Add summary\" inside a quote\n",
    "\"\"\"\n",
    "df_ex['prompt_summary'] = df_ex.progress_apply(lambda x:\n",
    "                                                               promp(\n",
    "                                                               list_community,\n",
    "                                                               x[\"À propos de votre organisation/profil\"],\n",
    "                                                               x[ \"À propos de votre thèse d’investissement\"])\n",
    "                                                               ,\n",
    "                                                               axis=1\n",
    "                                                               )"
   ]
  },
  {
   "cell_type": "code",
   "execution_count": null,
   "metadata": {
    "id": "Muucj16ZKZCz"
   },
   "outputs": [],
   "source": [
    "df_ex[['prompt_summary','clean_summary']].sample(2)"
   ]
  },
  {
   "cell_type": "markdown",
   "metadata": {},
   "source": [
    "### Question"
   ]
  },
  {
   "cell_type": "code",
   "execution_count": null,
   "metadata": {
    "tags": []
   },
   "outputs": [],
   "source": [
    "to_compute = False\n",
    "if to_compute:\n",
    "    prompt = \"\"\"\n",
    "    An investor joins a business platform to find potential projects to invest.\n",
    "    Using information about the company or the investment proposal, what businesses this investor can fund?\n",
    "    Here are the investors information:\n",
    "    {about}\n",
    "    {proposal}\n",
    "\n",
    "    Answer by providing a short summary using this template (do not include anything else):\n",
    "    answer: \"Add summary\" inside a quote\n",
    "    \"\"\"\n",
    "\n",
    "    def promp(community, about, proposal):\n",
    "        return prompt.format(community=community, about=about, proposal=proposal)\n",
    "\n",
    "    df['prompt_question'] = df.progress_apply(lambda x:\n",
    "                                                                   promp(\n",
    "                                                                   list_community,\n",
    "                                                                   x[\"À propos de votre organisation/profil\"],\n",
    "                                                                   x[ \"À propos de votre thèse d’investissement\"])\n",
    "                                                                   ,\n",
    "                                                                   axis=1\n",
    "                                                                   )\n",
    "    df['r_question'] = df['prompt_question'].progress_apply(llm.complete)\n",
    "    df['clean_question'] = df['r_question'].apply(lambda x: ' '.join(re.findall(regex, str(x))))"
   ]
  },
  {
   "cell_type": "code",
   "execution_count": null,
   "metadata": {
    "tags": []
   },
   "outputs": [],
   "source": [
    "prompt = \"\"\"\n",
    "An investor joins a business platform to find potential projects to invest.\n",
    "Using information about the company or the investment proposal, what businesses this investor can fund?\n",
    "Here are the investors information:\n",
    "{about}\n",
    "{proposal}\n",
    "\n",
    "Answer by providing a short summary using this template (do not include anything else):\n",
    "answer: \"Add summary\" inside a quote\n",
    "\"\"\"\n",
    "df_ex['prompt_question'] = df_ex.progress_apply(lambda x:\n",
    "                                                               promp(\n",
    "                                                               list_community,\n",
    "                                                               x[\"À propos de votre organisation/profil\"],\n",
    "                                                               x[ \"À propos de votre thèse d’investissement\"])\n",
    "                                                               ,\n",
    "                                                               axis=1\n",
    "                                                               )"
   ]
  },
  {
   "cell_type": "code",
   "execution_count": null,
   "metadata": {
    "tags": []
   },
   "outputs": [],
   "source": [
    "df_ex[['prompt_question','clean_question']].sample(2)"
   ]
  },
  {
   "cell_type": "code",
   "execution_count": null,
   "metadata": {},
   "outputs": [],
   "source": [
    "to_save = False\n",
    "if to_save:\n",
    "    (\n",
    "        df\n",
    "        .drop(columns = [\n",
    "            'prompt_community',\n",
    "            'prompt_interest',\n",
    "            'prompt_industry',\n",
    "            \"prompt_title\",\n",
    "            \"prompt_summary\",\n",
    "            \"prompt_question\",\n",
    "            \"r_communities\",\n",
    "            \"r_interest\",\n",
    "            \"r_industry\",\n",
    "            \"r_title\",\n",
    "            \"r_summary\",\n",
    "            \"r_question\"\n",
    "        ])\n",
    "        .to_parquet(os.path.join(path_project,\"investors_augmented.parquet\"))\n",
    "    )"
   ]
  },
  {
   "cell_type": "code",
   "execution_count": null,
   "metadata": {
    "tags": []
   },
   "outputs": [],
   "source": [
    "df = pd.read_parquet(os.path.join(path_project,\"investors_augmented.parquet\"))"
   ]
  },
  {
   "cell_type": "markdown",
   "metadata": {},
   "source": [
    "## Project to fund\n",
    "\n",
    "The primary objective of this project is to identify prospective investors for companies in search of funding. Within our dataset, we possess comprehensive data about each company, including its description and investment objectives (i.e., the intended use of the funds).\n",
    "\n",
    "**Methodology**\n",
    "\n",
    "Our approach involves leveraging this dataset to discern the specific needs of each company. These needs will be transformed into formulated questions that succinctly encapsulate the company's requirements. Subsequently, these questions will be inputted into a Retrieval-Augmented Generation (RAG) system to initiate the search for potential matches.\n",
    "\n",
    "The example below shows a company's information. We will use it to derive a question about the investment."
   ]
  },
  {
   "cell_type": "code",
   "execution_count": null,
   "metadata": {},
   "outputs": [],
   "source": [
    "card = \"\"\"About the company:\n",
    "{}\n",
    "\n",
    "About the investment:\n",
    "{}\n",
    "\"\"\"\n",
    "def fill_template(row):\n",
    "    return card.format(row[\"A propos de votre levée de fonds\"], row[\"À propos de votre organisation\"])\n",
    "df_company = (\n",
    "    pd.read_csv(os.path.join(path_project,'companies.csv'))\n",
    ")\n",
    "df_company = (\n",
    "    df_company\n",
    "    .loc[lambda x: ~x[\"Nom organisation\"].isin([np.nan])]\n",
    "    .loc[lambda x:\n",
    "         (~x['A propos de votre levée de fonds'].isin([np.nan])) |\n",
    "         (~x['À propos de votre organisation'].isin([np.nan]))\n",
    "        ]\n",
    "    .loc[lambda x: x['Langue originelle'].isin(['Anglais'])]\n",
    "    .assign(\n",
    "     **{\n",
    "         f'{i}' : df_company[i].fillna('-') for i in [\n",
    "             \"Nom organisation\",\n",
    "             'Noms communautés',\n",
    "             \"A propos de votre levée de fonds\",\n",
    "             \"À propos de votre organisation\"\n",
    "         ]\n",
    "     }\n",
    "    )\n",
    "    .assign(\n",
    "    formatted_card = lambda x: x.apply(fill_template, axis =1)\n",
    "    )\n",
    "    .assign(\n",
    "        size_doc = lambda x: x['formatted_card'].apply(count_tokens)\n",
    "    )\n",
    ")\n",
    "\n",
    "df_company['language'] = [detect_language(i) for i in list(df_company[\"A propos de votre levée de fonds\"])]\n",
    "df_company = df_company.loc[lambda x: x['language'].isin(['en'])]\n",
    "df_company = df_company.loc[lambda x: x['Pays'].isin(['Belgique (BE)', 'France (FR)', 'Allemagne (DE)','Royaume-Uni (GB)'])]\n",
    "company_card = list(df_company['formatted_card'])\n",
    "print(company_card[0])"
   ]
  },
  {
   "cell_type": "markdown",
   "metadata": {},
   "source": [
    "## Generating Questions with LLM\n",
    "\n",
    "In this section, we're going to explore how you can leverage the LLM wrapper provided by Llama Index to dynamically generate queries or questions based on a given prompt. This feature can be particularly useful when you want to automate the generation of contextually relevant questions for deeper analysis or data retrieval. Here's how it works:"
   ]
  },
  {
   "cell_type": "code",
   "execution_count": null,
   "metadata": {},
   "outputs": [],
   "source": [
    "from llama_index.prompts import PromptTemplate\n",
    "from llama_index.prompts.base import PromptTemplate\n",
    "from llama_index.prompts.prompt_type import PromptType\n",
    "from llama_index.query_engine import RetrieverQueryEngine\n",
    "from llama_index.response_synthesizers import ResponseMode"
   ]
  },
  {
   "cell_type": "markdown",
   "metadata": {},
   "source": [
    "As a basic example, we will ask Mistral to generate a question based on a topic. The prompt is `The company is looking for investors. Provide a very short sentence to explain the company's main business and need. Start with 'Our company seeks' and do not mention the company name.`.\n",
    "To demonstrate the capabilities of the LLM wrapper, let's take a practical example where we want to generate a question we then can use to find the potential investors.\n",
    "\n",
    "We will be using the `PromptTemplate` model to construct our prompt. This model provides a structured way to define prompts, ensuring that the generated questions are not just random but are closely aligned with the specified topic.\n",
    "\n",
    "For more details on how `PromptTemplate` works and its various functionalities, you can refer to the source code [here](https://github.com/run-llama/llama_index/blob/2b74fccadb87701eff91bf4ce315829fc3fd9e62/llama_index/prompts/base.py#L134) and the official documentation [here](https://docs.llamaindex.ai/en/stable/examples/prompts/advanced_prompts.html#prompt-template-variable-mappings)."
   ]
  },
  {
   "cell_type": "code",
   "execution_count": null,
   "metadata": {},
   "outputs": [],
   "source": [
    "# define modules\n",
    "prompt_str = \"\"\"The company is looking for investors. Provide a very short sentence to explain the company's main business and need. Start with 'Our company seeks' and do not mention the company name.\n",
    "The following text is a company card:\n",
    "{sentence}\"\"\"\n",
    "prompt_tmpl = PromptTemplate(prompt_str)\n",
    "\n",
    "prompt_tmpl"
   ]
  },
  {
   "cell_type": "markdown",
   "metadata": {},
   "source": [
    "We then create a function `generate_prompt` that takes in the `prompt_str` and a `topic`. This function utilizes the `PromptTemplate` to format the prompt string with the specified topic, enabling the generation of a question that is specific to the input topic."
   ]
  },
  {
   "cell_type": "code",
   "execution_count": null,
   "metadata": {},
   "outputs": [],
   "source": [
    "def generate_prompt(prompt_str, sentence):\n",
    "    prompt_tmpl = PromptTemplate(prompt_str)\n",
    "    return prompt_tmpl.format(sentence=sentence)"
   ]
  },
  {
   "cell_type": "code",
   "execution_count": null,
   "metadata": {},
   "outputs": [],
   "source": [
    "formatted_prompts = [generate_prompt(prompt_str,i) for i in company_card]\n",
    "print(formatted_prompts[0])"
   ]
  },
  {
   "cell_type": "markdown",
   "metadata": {},
   "source": [
    "Finally, we pass this formatted prompt to the LLM for completion. The LLM processes the prompt and returns a question that is directly related to the company's information:"
   ]
  },
  {
   "cell_type": "code",
   "execution_count": null,
   "metadata": {},
   "outputs": [],
   "source": [
    "question = llm.complete(formatted_prompts[0]).text + \" Which investors can fund our project?\""
   ]
  },
  {
   "cell_type": "markdown",
   "metadata": {},
   "source": [
    "The result is a well-structured and contextually relevant question generated by the LLM:"
   ]
  },
  {
   "cell_type": "code",
   "execution_count": null,
   "metadata": {},
   "outputs": [],
   "source": [
    "question"
   ]
  },
  {
   "cell_type": "markdown",
   "metadata": {
    "id": "SlpABMiAkIlA"
   },
   "source": [
    "# Vector store and index in Llama index\n",
    "\n",
    "When preparing data for the Llama Index, it's essential to understand and utilize the provided utilities effectively. Let's explore how these components work together, specifically focusing on the `StorageContext`, `ServiceContext`, `Document`, and `VectorStoreIndex`, and how they are applied in the indexing process.\n",
    "\n",
    "## ServiceContext\n",
    "\n",
    "- Purpose: The `ServiceContext` serves as a container for the LlamaIndex index and query classes. It provides the necessary context for the retrieval system, ensuring that your queries interact seamlessly with the indexed data.\n",
    "- Source Code: [ServiceContext Source](https://github.com/run-llama/llama_index/blob/main/llama_index/service_context.py)\n",
    "- Parameters: While the `ServiceContext` supports various parameters (see the full list [here](https://github.com/run-llama/llama_index/blob/2b74fccadb87701eff91bf4ce315829fc3fd9e62/llama_index/service_context.py#L85)), we focus on the most commonly used ones to configure the LLM, embedding model, and text chunking method:\n",
    "  - `embed_model`: The embedding model used for vectorizing the text.\n",
    "  - `llm`: The Large Language Model used, which by default is OpenAI's model (details [here](https://github.com/run-llama/llama_index/blob/2b74fccadb87701eff91bf4ce315829fc3fd9e62/llama_index/llms/utils.py#L16)).\n",
    "  - `text_splitter`: The method used to chunk the text. We use a `SentenceSplitter` with a `chunk_size` of 600 tokens and a chunk_overlap of 90 tokens. Given the distribution of document sizes in your dataset, these values are chosen to ensure that the documents are split into manageable chunks without losing context across chunks.\n",
    "\n",
    "## Document\n",
    "\n",
    "- Purpose: The `Document` class is used to convert and store documents in a format compatible with the Llama Index. It also allows adding metadata to improve searchability within the documents.\n",
    "- Source Code: [Document Source](https://github.com/run-llama/llama_index/blob/2b74fccadb87701eff91bf4ce315829fc3fd9e62/llama_index/schema.py#L590)\n",
    "Metadata: We enrich the documents with metadata such as 'communities', 'industry', 'interest', and 'title', which aids in more nuanced searches and better-organized indexing.\n",
    "\n",
    "## StorageContext\n",
    "\n",
    "- Purpose: The StorageContext acts as a centralized container for storing nodes, indices, and vectors. It's essentially the backbone of your data storage strategy within the Llama Index.\n",
    "- Source Code: [StorageContext Source](https://github.com/run-llama/llama_index/blob/main/llama_index/storage/storage_context.py)\n",
    "\n",
    "## VectorStoreIndex\n",
    "\n",
    "- Purpose: The `VectorStoreIndex` is a fundamental component of the retrieval-augmented generation (RAG) system. It's designed to efficiently store and retrieve vectors representing chunks of text, facilitating quick and relevant responses to queries.\n",
    "- Source Code: [VectorStoreIndex Source](https://github.com/run-llama/llama_index/blob/main/llama_index/indices/vector_store/base.py)\n",
    "\n",
    "## Indexing Process:\n",
    "\n",
    "The indexing process is central to the LlamaIndex. It involves converting documents into nodes and storing them in a structured manner to facilitate efficient retrieval. Each document is processed through a `text_splitter` before being vectorized using the `embed_model`. These processed documents are then stored in a `VectorStoreIndex`. The code snippet provided demonstrates this process, from setting up the `text_splitter` and `embed_model` to creating and populating the `VectorStoreIndex`.\n"
   ]
  },
  {
   "cell_type": "code",
   "execution_count": null,
   "metadata": {
    "id": "V-O_ATtsj_UZ"
   },
   "outputs": [],
   "source": [
    "from llama_index.schema import Document\n",
    "from llama_index.node_parser import SentenceSplitter, get_leaf_nodes, get_root_nodes\n",
    "from llama_index.embeddings import HuggingFaceEmbedding\n",
    "from llama_index.storage.docstore import SimpleDocumentStore\n",
    "from llama_index.storage import StorageContext\n",
    "from llama_index import load_index_from_storage, VectorStoreIndex, ServiceContext"
   ]
  },
  {
   "cell_type": "code",
   "execution_count": null,
   "metadata": {
    "colab": {
     "base_uri": "https://localhost:8080/",
     "height": 209,
     "referenced_widgets": [
      "2981f02bc35f4b648bb0becbbb5b637a",
      "94345f79de9f4862aebebc87e2d5e246",
      "bfefcb99043b47e7b97934c08cac90c6",
      "870d9320381f4468953126b5a24bf749",
      "c8d9b26953d245ff8d75d5c0c0148f3f",
      "52e8474009794f39aad6c0f279923238",
      "7596b08f9bd74f319a6c5b3083479450",
      "ffe2ccd6c9294c2b95b6f9aa6c3abab6",
      "4f68e068868a43739e5d5e634ea0a47e",
      "cdeeb4b90e054a07bb3434ad097355a1",
      "28f6526d3b614cca8ff09c74d9abc135",
      "9f91e77875e44fb1b78455fd77c629a8",
      "5d893981f2f64ff5b0e214b7e7151d77",
      "09eda2ddb2f24c1082d30beb7ae463c8",
      "ec6861c7f95248048bbaeda30a9c3c8c",
      "b44f42f57b73419d9a00b066e6b6b7f4",
      "1f4c00c4114e4484ba0c7a4d014474e7",
      "a9605e7377144d4c89018b80d9fc22d3",
      "cd84f8ded0734a9f8f63bf4ff5745e92",
      "82f9acc9fabe49c18cafe64bc35121cc",
      "ec726112365644ac9f887bd3e5e86209",
      "2e7a830835cc415ea04daab77eb1a3fd",
      "2c8d6d21e2ff424eadf4e15db907f298",
      "176471f09ecb46eb9c664b024382eab6",
      "d5cb42bca7574b94a0bb8eb2964f2ff4",
      "c4fd4b73103e4cf4a5c9419cd5e3cd01",
      "e8772846d1ac44f49d7bc12ddedff1ef",
      "985c4243ccf140b78456480a4f5af3bd",
      "325349b8e882439696c977fa9ecfbcfe",
      "e3a2d5fcdec849379bb7213efb0ca18c",
      "e73fbfd81c834caa8f0179f512d20099",
      "eed0174f7ea247e0b9f5cd62cd3bdb50",
      "332d126e2ead4907be7e9aab4baf2ecf",
      "5f6ac5da2f4a4de6b141e32e0fceb0df",
      "84d689d769f548faa9fc3365323ad055",
      "43e73b3686904271af130f1498371fe1",
      "9fbee15734f04fb48589f16ba0afcd8e",
      "99b89ffcc47044e9bcb46bd5ff5f8326",
      "438db4f67ebc4561a4243fe9db670dcb",
      "9366ed69fa3e4a40a4f69dd32c41f7cf",
      "789923a060f64eef8bbb9e83c11c6420",
      "fc4cb7e594484b9fa4aadf817e0a8536",
      "5023468da7f04e0f98c3861349d8003e",
      "3a89734604a7482eaf079ee269a66c27",
      "e8909890c02744319c0728066ccbedf0",
      "9ba026bbd2d448dfbeeacda80dabb4a8",
      "dbb919e4b6464c8fa5c88598aa137bd6",
      "91e208050fc4450687546b6f43a8bfe3",
      "0bfaf396463b4d088aafcf072bc629f8",
      "eeb6d43eeb194bdcaaeeeebdfdb1a783",
      "76566dd06c534690850dc6aa6d235490",
      "f249252862424d6180f3ce03db1306e5",
      "3cdecea831db4539b8605722bf5cab62",
      "0ed768bbfb0d47b58a04285c218f9b4d",
      "404ab87cd7fb478cb4ca3eda00d46d54",
      "d64023c8826846e7aa12953804d71e1d",
      "bcfa300e76484b4cba766626eb58c9f4",
      "aa90f9c1681d4f2e83c4f47e0b8f5980",
      "ccadbdba698648428b2b5167da3ac809",
      "8b7a83c224ec4e579fee41ae170ffcc4",
      "ba2f7d4c360848d1b69562b817543970",
      "3af814e558a94f00bdff3549c4b5b6f5",
      "93d47ddd42fa48b889e6e50c872d6674",
      "4fb16fc3c08d47eeb2c4ed39db27be47",
      "ff333b1108094a4c8d5252e22425ea14",
      "294fa6b108d7407abcaba939ab7cf6ad"
     ]
    },
    "executionInfo": {
     "elapsed": 4077,
     "status": "ok",
     "timestamp": 1706095577844,
     "user": {
      "displayName": "Thomas Pernet",
      "userId": "12184844431429654860"
     },
     "user_tz": -60
    },
    "id": "hYC3E_dGj_ZR",
    "outputId": "35f4a92f-aa48-4d80-b937-bf2ab1621ce7"
   },
   "outputs": [],
   "source": [
    "model = \"sentence-transformers/all-MiniLM-L6-v2\"\n",
    "embed_model = HuggingFaceEmbedding(model_name=model)"
   ]
  },
  {
   "cell_type": "code",
   "execution_count": null,
   "metadata": {
    "id": "vqDhcDmUj_bZ"
   },
   "outputs": [],
   "source": [
    "os.makedirs(os.path.join(path_project, \"PERSISTENT_STORAGE_EUROQUITY\"), exist_ok = True)"
   ]
  },
  {
   "cell_type": "markdown",
   "metadata": {
    "id": "KQjoHN_t7NyD"
   },
   "source": [
    "We have the option to either build a new storage from scratch or load an existing one from a persistent storage.\n",
    "\n",
    "\n",
    "### Building a New Storage\n",
    "\n",
    "- Setting Up the Service Context: Initially, `service_context_with_splitter` is defined using `ServiceContext.from_defaults`. This context is configured with the embedding model (`embed_model`), the large language model (`llm`), and the text splitter (`text_splitter`) which chunks the text data.\n",
    "- Creating Documents: Next, a loop runs through the dataframe (`df`), creating a `Document` object for each row. Each `Document` consists of the text from the 'markdown' column and metadata (tags, date, title, id). These documents are then collectively stored in a list named docs.\n",
    "- Building the Index: The `VectorStoreIndex.from_documents` function is then used to create an index `index_with_splitter` from the docs. This index is built within the provided `service_context_with_splitter`.\n",
    "- Persistence: Finally, the `index_with_splitter.storage_context.persist` method is called to save the index to a designated directory (`PERSISTENT_STORAGE`). This step ensures that the index is saved in a persistent storage, making it reusable and avoiding the need to rebuild the index from scratch in the future.\n",
    "\n",
    "### Loading from Persistent Storage\n",
    "\n",
    "- Rebuilding Storage Context: The `StorageContext.from_defaults` function is used to rebuild the `storage_context` from the `PERSISTENT_STORAGE` directory. This step prepares the environment to access the previously saved index.\n",
    "- Loading the Index: The `load_index_from_storage` function is then called with the rebuilt `storage_context` and `service_context_with_splitter`. It loads the previously saved index `index_with_splitter` from the persistent storage. This process is much faster than rebuilding the index from scratch, especially for large datasets."
   ]
  },
  {
   "cell_type": "code",
   "execution_count": null,
   "metadata": {
    "id": "UKoipiv8OMIi"
   },
   "outputs": [],
   "source": [
    "df = pd.read_parquet(os.path.join(path_project,\"investors_augmented.parquet\")).reset_index(drop =True)"
   ]
  },
  {
   "cell_type": "code",
   "execution_count": null,
   "metadata": {
    "colab": {
     "base_uri": "https://localhost:8080/"
    },
    "executionInfo": {
     "elapsed": 974,
     "status": "ok",
     "timestamp": 1706098983255,
     "user": {
      "displayName": "Thomas Pernet",
      "userId": "12184844431429654860"
     },
     "user_tz": -60
    },
    "id": "hdg19phsj_fV",
    "outputId": "b462ba33-121d-4ffb-e55a-b4daff8d972a"
   },
   "outputs": [],
   "source": [
    "create_persistante = False\n",
    "text_splitter = SentenceSplitter(chunk_size=600, chunk_overlap=90)\n",
    "### with\n",
    "service_context_with_splitter = ServiceContext.from_defaults(\n",
    "        embed_model=embed_model,\n",
    "        llm=llm,\n",
    "        text_splitter=text_splitter\n",
    "    )\n",
    "if create_persistante:\n",
    "    docs = []\n",
    "    ### Create the document\n",
    "    for i in range(len(df)):\n",
    "        docs.append(Document(text = df['formatted_card'][i], metadata = {\n",
    "            'communities' : list(df['clean_communities'][i]),\n",
    "            'interest':list(df['clean_interest'][i]),\n",
    "            'industry':list(df['clean_industry'][i]),\n",
    "            'title':df['clean_title'][i],\n",
    "            'summary':df['clean_summary'][i],\n",
    "        }))\n",
    "    # Create your index with the specified embedding model\n",
    "    index_with_splitter = VectorStoreIndex.from_documents(\n",
    "        docs,\n",
    "        service_context=service_context_with_splitter\n",
    "    )\n",
    "\n",
    "    ### make it persistent\n",
    "    index_with_splitter.storage_context.persist(persist_dir=os.path.join(path_project, \"PERSISTENT_STORAGE_EUROQUITY\"))\n",
    "else:\n",
    "    # rebuild storage context\n",
    "    storage_context = StorageContext.from_defaults(persist_dir=os.path.join(path_project, \"PERSISTENT_STORAGE_EUROQUITY\"))\n",
    "\n",
    "    # load index\n",
    "    index_with_splitter = load_index_from_storage(storage_context,\n",
    "                                    service_context=service_context_with_splitter)"
   ]
  },
  {
   "cell_type": "markdown",
   "metadata": {
    "id": "CLx-a-ekBKmF"
   },
   "source": [
    "## How to naviguate through the doc store\n",
    "\n",
    "\n",
    "When dealing with the document store in Llama Index, understanding the structure and navigation is important. Each document is segmented into smaller components known as nodes, optimizing the indexing and retrieval process.\n",
    "\n"
   ]
  },
  {
   "cell_type": "markdown",
   "metadata": {
    "id": "okQoIXUvBZyi"
   },
   "source": [
    "Let's take a specific document from our dataset, one that's comfortably sized (less than 500 tokens). This document isn't just a block of text; in the Llama Index, it's thoughtfully split into smaller pieces, known as nodes. This approach ensures that every query you run is swift and hits the mark accurately."
   ]
  },
  {
   "cell_type": "code",
   "execution_count": null,
   "metadata": {
    "colab": {
     "base_uri": "https://localhost:8080/",
     "height": 309
    },
    "executionInfo": {
     "elapsed": 28,
     "status": "ok",
     "timestamp": 1706095626473,
     "user": {
      "displayName": "Thomas Pernet",
      "userId": "12184844431429654860"
     },
     "user_tz": -60
    },
    "id": "8P1a0LNCBgo6",
    "outputId": "28089334-f1b4-4970-a49a-7623181649af"
   },
   "outputs": [],
   "source": [
    "df.loc[lambda x: x['size_doc'] < 500].head(1)#[\"markdown\"].values"
   ]
  },
  {
   "cell_type": "markdown",
   "metadata": {
    "id": "Z16RWjY8CEPy"
   },
   "source": [
    "However, a simple count of elements in the doc store won't match the size of your original dataframe. Why? Because the documents are divided into these nodes. To align the counts, you'd look at the number of node sources. For more on this, check out the documentation on [Node Relationships](https://docs.llamaindex.ai/en/stable/api/llama_index.schema.NodeRelationship.html#id2)."
   ]
  },
  {
   "cell_type": "code",
   "execution_count": null,
   "metadata": {
    "colab": {
     "base_uri": "https://localhost:8080/"
    },
    "executionInfo": {
     "elapsed": 1129,
     "status": "ok",
     "timestamp": 1706095636060,
     "user": {
      "displayName": "Thomas Pernet",
      "userId": "12184844431429654860"
     },
     "user_tz": -60
    },
    "id": "AnJirIPRlCZb",
    "outputId": "f491f7e3-fbf1-409d-db4e-eb6dfa7ad450"
   },
   "outputs": [],
   "source": [
    "len(index_with_splitter.docstore.docs)"
   ]
  },
  {
   "cell_type": "markdown",
   "metadata": {
    "id": "jYc60vtADkr_"
   },
   "source": [
    "To understand what's contained within these nodes, you can fetch a specific node and examine its contents:\n",
    "\n"
   ]
  },
  {
   "cell_type": "code",
   "execution_count": null,
   "metadata": {
    "colab": {
     "base_uri": "https://localhost:8080/",
     "height": 35
    },
    "executionInfo": {
     "elapsed": 49,
     "status": "ok",
     "timestamp": 1706095639705,
     "user": {
      "displayName": "Thomas Pernet",
      "userId": "12184844431429654860"
     },
     "user_tz": -60
    },
    "id": "3pbv12aFlCbo",
    "outputId": "3cb43391-00b5-4d85-c5b3-1a18fd15c6d8"
   },
   "outputs": [],
   "source": [
    "first_key = next(iter(index_with_splitter.docstore.docs))\n",
    "first_key"
   ]
  },
  {
   "cell_type": "code",
   "execution_count": null,
   "metadata": {
    "colab": {
     "base_uri": "https://localhost:8080/"
    },
    "executionInfo": {
     "elapsed": 5,
     "status": "ok",
     "timestamp": 1706095642872,
     "user": {
      "displayName": "Thomas Pernet",
      "userId": "12184844431429654860"
     },
     "user_tz": -60
    },
    "id": "YKVbZ0iwlCe5",
    "outputId": "02fa0958-050d-4751-9d44-5b04ad68202f"
   },
   "outputs": [],
   "source": [
    "node_relationship = index_with_splitter.docstore.get_document(first_key)\n",
    "node_relationship"
   ]
  },
  {
   "cell_type": "markdown",
   "metadata": {
    "id": "oAVJR0mLEKF-"
   },
   "source": [
    "This node encapsulates not just the textual content but also valuable metadata such as tags, date, title, and ID. This rich information enhances the context and relevance of your search operations."
   ]
  },
  {
   "cell_type": "code",
   "execution_count": null,
   "metadata": {
    "colab": {
     "base_uri": "https://localhost:8080/",
     "height": 89
    },
    "executionInfo": {
     "elapsed": 5,
     "status": "ok",
     "timestamp": 1706095647693,
     "user": {
      "displayName": "Thomas Pernet",
      "userId": "12184844431429654860"
     },
     "user_tz": -60
    },
    "id": "NUw7cBCuEGVD",
    "outputId": "12519c56-6d05-44df-bc21-3846100dd227"
   },
   "outputs": [],
   "source": [
    "node_relationship.text"
   ]
  },
  {
   "cell_type": "markdown",
   "metadata": {
    "id": "csiQs6ilBJn8"
   },
   "source": [
    "Nodes within the document store are not isolated; they are interconnected, forming a comprehensive network of text. Exploring these relationships allows you to navigate through the document store systematically."
   ]
  },
  {
   "cell_type": "code",
   "execution_count": null,
   "metadata": {
    "colab": {
     "base_uri": "https://localhost:8080/"
    },
    "executionInfo": {
     "elapsed": 21,
     "status": "ok",
     "timestamp": 1706095649936,
     "user": {
      "displayName": "Thomas Pernet",
      "userId": "12184844431429654860"
     },
     "user_tz": -60
    },
    "id": "Hg0QSA5klCk4",
    "outputId": "31d45dbb-bd2e-4a90-94f5-6d4a03713eda"
   },
   "outputs": [],
   "source": [
    "node_relationship.relationships"
   ]
  },
  {
   "cell_type": "markdown",
   "metadata": {
    "id": "uI1v7_FZEZk5"
   },
   "source": [
    "To reconstruct a complete document or explore related content, you can traverse through these nodes by identifying and fetching parent nodes and associated nodes:\n"
   ]
  },
  {
   "cell_type": "code",
   "execution_count": null,
   "metadata": {
    "colab": {
     "base_uri": "https://localhost:8080/"
    },
    "executionInfo": {
     "elapsed": 5,
     "status": "ok",
     "timestamp": 1706095662972,
     "user": {
      "displayName": "Thomas Pernet",
      "userId": "12184844431429654860"
     },
     "user_tz": -60
    },
    "id": "1KdMzjzXlCrc",
    "outputId": "a9cc74ef-9dd5-4645-b258-245210b480bd"
   },
   "outputs": [],
   "source": [
    "### parent= https://docs.llamaindex.ai/en/stable/api/llama_index.schema.NodeRelationship.html#id2\n",
    "parent = [values.node_id for key, values in node_relationship.relationships.items() if key.value == '1']\n",
    "parent"
   ]
  },
  {
   "cell_type": "markdown",
   "metadata": {
    "id": "5Ic3Ir78Ed_N"
   },
   "source": [
    "Now that we have the parent, we can find the related nodes, and reconstruct the document"
   ]
  },
  {
   "cell_type": "code",
   "execution_count": null,
   "metadata": {
    "colab": {
     "base_uri": "https://localhost:8080/"
    },
    "executionInfo": {
     "elapsed": 26,
     "status": "ok",
     "timestamp": 1706095666956,
     "user": {
      "displayName": "Thomas Pernet",
      "userId": "12184844431429654860"
     },
     "user_tz": -60
    },
    "id": "uCWd82nslCvQ",
    "outputId": "d566d43d-9e74-4789-f279-8d666ec25e96"
   },
   "outputs": [],
   "source": [
    "source = index_with_splitter.docstore.get_ref_doc_info(ref_doc_id = parent[0])\n",
    "source"
   ]
  },
  {
   "cell_type": "code",
   "execution_count": null,
   "metadata": {
    "id": "abHB7Jl6Ey1D"
   },
   "outputs": [],
   "source": [
    "all_nodes = index_with_splitter.docstore.get_nodes(node_ids = source.node_ids)"
   ]
  },
  {
   "cell_type": "code",
   "execution_count": null,
   "metadata": {
    "colab": {
     "base_uri": "https://localhost:8080/"
    },
    "executionInfo": {
     "elapsed": 6,
     "status": "ok",
     "timestamp": 1706095673457,
     "user": {
      "displayName": "Thomas Pernet",
      "userId": "12184844431429654860"
     },
     "user_tz": -60
    },
    "id": "Rjukf95LlCyg",
    "outputId": "7790633a-ac49-40dc-d0d0-5a5eb5885f82"
   },
   "outputs": [],
   "source": [
    "### print the doc\n",
    "[print(i.text) for i in all_nodes]"
   ]
  },
  {
   "cell_type": "markdown",
   "metadata": {
    "id": "XwkRfgolnDpn"
   },
   "source": [
    "# Search Index database with Llama index"
   ]
  },
  {
   "cell_type": "markdown",
   "metadata": {
    "id": "X3WdSGWyFJGU"
   },
   "source": [
    "### Searching the Index Database with Llama Index\n",
    "\n",
    "When it comes to querying documents in Llama Index, the process is streamlined and efficient. Here's a breakdown of the typical workflow and some insights into how the components come together to deliver precise and relevant search results.\n",
    "\n",
    "#### 1. Using VectorStoreIndex as a Retriever\n",
    "\n",
    "The primary step involves converting the `VectorStoreIndex` into a retriever. This transformation is crucial as it equips the index with the capability to understand and process query requests.\n",
    "\n",
    "- **Function**: `VectorStoreIndex.as_retriever()`\n",
    "- **Arguments**:\n",
    "    - The main argument is the `retriever`, which defines how the retrieval process should behave. You can dive into the specifics of this argument [here](https://github.com/run-llama/llama_index/blob/2b74fccadb87701eff91bf4ce315829fc3fd9e62/llama_index/indices/vector_store/base.py#L84).\n",
    "    - The `kwargs` for the retriever add further customization to the retrieval process, tailoring it to your specific needs ([details](https://github.com/run-llama/llama_index/blob/2b74fccadb87701eff91bf4ce315829fc3fd9e62/llama_index/indices/vector_store/retrievers/retriever.py#L38)).\n",
    "    - A commonly used parameter is `similarity_top_k`, which specifies the number of top results to return, ensuring that the results are both relevant and manageable.\n",
    "\n",
    "#### 2. Setting Up the RetrieverQueryEngine\n",
    "\n",
    "Once you have a configured retriever, the next step is to set up the `RetrieverQueryEngine`. This engine is the powerhouse of the search process, intelligently handling queries and fetching the most relevant results.\n",
    "\n",
    "- **Function**: `RetrieverQueryEngine.from_args`\n",
    "- **Configuration**:\n",
    "    - The `retriever_base` parameter takes in the retriever object you prepared earlier.\n",
    "    - `service_context=service_context_with_splitter` ties in the service context that was defined previously, ensuring that the retrieval process aligns with the overall service setup.\n",
    "    - `node_postprocessors` is set to None initially but can be configured with a list of arguments to refine the nodes retrieved, based on your filtering strategy.\n",
    "- **Response Synthesizer Arguments**:\n",
    "    - `response_mode`: Defines how the LLM formulates the answer. While the default mode is `ResponseMode.COMPACT`, for this example, we'll use `ResponseMode.SIMPLE_SUMMARIZE`.\n",
    "    - `text_qa_template`: Specifies the prompt template. We'll use `DEFAULT_TEXT_QA_PROMPT_SEL` available [here](https://github.com/run-llama/llama_index/blob/e53306d4bdb27e6842263289146234924c4fc8f2/llama_index/prompts/default_prompt_selectors.py#L17C1-L20C2).\n",
    "    - `response_synthesizer`: Similar to `response_mode`, offering more flexibility in how the response is synthesized.\n",
    "\n",
    "#### 3. Executing the Query\n",
    "\n",
    "With the setup complete, executing a query is straightforward:\n",
    "\n",
    "- **Function**: `.query()`\n",
    "- **Process**: This function takes your query, processes it through the configured `RetrieverQueryEngine`, and fetches the most relevant results based on your defined parameters and the structure of your index.\n",
    "\n",
    "This workflow exemplifies the power and flexibility of Llama Index in handling search queries. It's designed to offer precision, relevance, and customization, ensuring that your search results are not just data but meaningful information aligned with your specific needs. As we move forward, we'll delve deeper into each component, unraveling the intricacies and capabilities of this robust system."
   ]
  },
  {
   "cell_type": "markdown",
   "metadata": {
    "id": "9iWJjwbULuVh"
   },
   "source": [
    "## Workflow to Generate an Answer\n",
    "\n",
    "The process is methodically structured into four key steps:\n",
    "\n",
    "1. **Generate a Question**: We start by prompting the LLM to generate a question based on a specified topic. This is where the creativity of the model meets our targeted inquiry, resulting in a finely tailored question.\n",
    "\n",
    "2. **Define the Retriever**: With the question in hand, we set up the retriever, a mechanism that meticulously combs through the indexed data to fetch relevant content. The retriever is fine-tuned to ensure that the information it retrieves is pertinent and comprehensive.\n",
    "\n",
    "3. **Define How to Process the Retriever and the Answer**: This step is about precision and presentation. We outline how the retrieved data should be processed and how the final response should be structured. It involves setting up the `RetrieverQueryEngine` and defining the response synthesizer arguments, ensuring that the end result is not just accurate but also well-articulated.\n",
    "\n",
    "4. **Get the Answer**: Finally, the `query` method brings everything together, taking the generated question and passing it through the configured system to provide you with a clear, concise, and contextually relevant answer.\n",
    "\n",
    "\n",
    "\n",
    "\n",
    "\n",
    "\n",
    "The prompt template plays a pivotal role in how the model processes information and presents the answer. It's like a guide that shapes the model's understanding and response generation. Here’s the prompt template used in this process:\n",
    "\n",
    "\n"
   ]
  },
  {
   "cell_type": "markdown",
   "metadata": {},
   "source": [
    "## Stage 1: Retriver\n",
    "\n",
    "### Basic retriever\n",
    "\n",
    "Similarity search algorithm between the query and the documents in the vector store\n",
    "\n",
    "How it works\n",
    " - nodes are retrieved based on their similarity to the query. It uses cosine similarity, a method that measures how closely the content of the nodes matches the query\n",
    " - Convert the query using an embedding\n",
    " - Calculate the similarity between the query, and all the chunked vectors\n",
    " - Pick the top n nodes\n",
    "\n",
    "pros\n",
    " 1. Efficiency: Quickly identifies top relevant nodes, ideal for large datasets.\n",
    " 2. Simplicity: Straightforward mechanism, easy to implement and understand.\n",
    " 3. Quantifiable Similarity: Provides a clear, numerical measure of similarity between the query and nodes, aiding in objective decision-making.\n",
    "\n",
    "cons\n",
    " 1. Context Sensitivity: May miss nuanced or contextual relevance as cosine similarity focuses on text matching rather than deeper semantic understanding.\n",
    " 2. Dependence on Embeddings: The quality of results is heavily tied to the quality of the embeddings. If embeddings don't capture the essence of the text well, the retriever's performance may suffer.\n",
    " 3. Vulnerability to Noise: Can be affected by irrelevant or out-of-context terms in the content, potentially leading to less accurate retrievals.\n",
    "\n",
    "In this section, we explore how to utilize the basic retriever function in Llama Index to generate accurate and contextually relevant answers. The process is broken down into four main steps:\n",
    "\n",
    "**1. Generate a Question**\n",
    "\n",
    "The first step involves generating a question based on a given topic. We utilize the LLM's capability to dynamically create a question that is precise and topic-specific. In this case, we construct a prompt asking the model to generate a single question about the Chinese economy, focusing on the 'banking and financial sector'.\n",
    "\n",
    "In the process of harnessing Llama Index to generate insightful answers, we not only create and process the queries but also meticulously define the format of our interaction with the model. This ensures that the responses we receive are structured and meaningful. Let's delve into the workflow and highlight the significance of the prompt format used to generate answers."
   ]
  },
  {
   "cell_type": "code",
   "execution_count": null,
   "metadata": {
    "id": "QBmQcXhvlPX4"
   },
   "outputs": [],
   "source": [
    "DEFAULT_TEXT_QA_PROMPT_TMPL = (\n",
    "    \"Context information is below.\\n\"\n",
    "    \"---------------------\\n\"\n",
    "    \"{context_str}\\n\"\n",
    "    \"---------------------\\n\"\n",
    "    \"Given the context information and not prior knowledge, \"\n",
    "    \"answer the query.\\n\"\n",
    "    \"Query: {query_str}\\n\"\n",
    "    \"Answer: \"\n",
    ")\n",
    "DEFAULT_TEXT_QA_PROMPT = PromptTemplate(\n",
    "    DEFAULT_TEXT_QA_PROMPT_TMPL, prompt_type=PromptType.QUESTION_ANSWER\n",
    ")"
   ]
  },
  {
   "cell_type": "markdown",
   "metadata": {
    "id": "hhSzCscmHcsN"
   },
   "source": [
    "This template is structured to compartmentalize the context information from the query and the expected answer. By delineating these sections clearly, we ensure that the model's focus is laser-sharp, leading to responses that are both relevant and to the point.\n",
    "\n",
    "The use of `PromptTemplate` also introduces a level of dynamism and flexibility, allowing the template to be reused with different context strings and queries, making the system robust and versatile.\n",
    "\n",
    "In the code below, we have\n",
    "\n",
    "- The Retriever: The `as_retriever` method is used to transform our `VectorStoreIndex` into a retriever, setting the number of top results we wish to return.\n",
    "- The process to retrieve the nodes: The next step involves setting up the `RetrieverQueryEngine`. This engine takes the retriever, service context, and other parameters like node postprocessors and response synthesizer arguments to define how the retrieved data should be processed and how the response should be formulated.\n",
    "- Generate the answer from a prompt: we use the `query` method of the `RetrieverQueryEngine` to get the answer to our generated question. This process involves querying the indexed data using the retriever and then synthesizing the response based on the defined parameters."
   ]
  },
  {
   "cell_type": "code",
   "execution_count": null,
   "metadata": {
    "colab": {
     "base_uri": "https://localhost:8080/"
    },
    "executionInfo": {
     "elapsed": 4,
     "status": "ok",
     "timestamp": 1706096032958,
     "user": {
      "displayName": "Thomas Pernet",
      "userId": "12184844431429654860"
     },
     "user_tz": -60
    },
    "id": "Cp07aiAEP09q",
    "outputId": "a244c587-f2a2-45c3-cd5b-1a37b13995b8"
   },
   "outputs": [],
   "source": [
    "len(formatted_prompts)"
   ]
  },
  {
   "cell_type": "code",
   "execution_count": null,
   "metadata": {
    "colab": {
     "base_uri": "https://localhost:8080/"
    },
    "executionInfo": {
     "elapsed": 61301,
     "status": "ok",
     "timestamp": 1706096108435,
     "user": {
      "displayName": "Thomas Pernet",
      "userId": "12184844431429654860"
     },
     "user_tz": -60
    },
    "id": "960VyZsslPar",
    "outputId": "e4229128-0e4c-4d7e-8c59-2fadf819c926"
   },
   "outputs": [],
   "source": [
    "### Step 1: Generate a question\n",
    "formatted_prompt = formatted_prompts[0]\n",
    "question = llm.complete(formatted_prompts[0]).text + \" Which investors can fund our project?\"\n",
    "\n",
    "\n",
    "### Step 2: Define the retriever\n",
    "retriever_base = index_with_splitter.as_retriever(similarity_top_k=10)\n",
    "\n",
    "### Step 3: Define how to process the retriver an the answer\n",
    "query_engine = RetrieverQueryEngine.from_args(\n",
    "    retriever_base,\n",
    "    service_context=service_context_with_splitter,\n",
    "    node_postprocessors = None,\n",
    "    # response synthesizer args\n",
    "    response_mode =  ResponseMode.SIMPLE_SUMMARIZE,\n",
    "    text_qa_template = DEFAULT_TEXT_QA_PROMPT,\n",
    "    response_synthesizer = None\n",
    "    )\n",
    "\n",
    "### Step 4: Get the answer\n",
    "print(question)\n",
    "response = query_engine.query(question)\n",
    "print(response)"
   ]
  },
  {
   "cell_type": "markdown",
   "metadata": {
    "id": "4SsGBSYlINFh"
   },
   "source": [
    "Throughout this process, we observe the `Setting pad_token_id to eos_token_id:2 for open-end generation` message, indicating the model is generating open-ended text based on the given prompt."
   ]
  },
  {
   "cell_type": "markdown",
   "metadata": {
    "id": "pRCuyz6UMVC7"
   },
   "source": [
    "Firstly, we verify the number of nodes used in generating the response. This is a crucial step as it confirms the breadth of information considered in formulating the answer."
   ]
  },
  {
   "cell_type": "code",
   "execution_count": null,
   "metadata": {
    "colab": {
     "base_uri": "https://localhost:8080/"
    },
    "executionInfo": {
     "elapsed": 903,
     "status": "ok",
     "timestamp": 1706096135203,
     "user": {
      "displayName": "Thomas Pernet",
      "userId": "12184844431429654860"
     },
     "user_tz": -60
    },
    "id": "_BFTiui_lPjx",
    "outputId": "434e6010-2570-48ef-e69d-4239588771b6"
   },
   "outputs": [],
   "source": [
    "len(response.source_nodes)"
   ]
  },
  {
   "cell_type": "markdown",
   "metadata": {
    "id": "h3586ubEMiK2"
   },
   "source": [
    "Next, we examine the scores associated with each node. In this context, higher scores indicate a greater relevance of the node to the query, guiding us towards the most pertinent information."
   ]
  },
  {
   "cell_type": "code",
   "execution_count": null,
   "metadata": {
    "colab": {
     "base_uri": "https://localhost:8080/"
    },
    "executionInfo": {
     "elapsed": 29,
     "status": "ok",
     "timestamp": 1706096138430,
     "user": {
      "displayName": "Thomas Pernet",
      "userId": "12184844431429654860"
     },
     "user_tz": -60
    },
    "id": "d-uJo-LmlPnt",
    "outputId": "ee2c11b7-875d-47a1-ba82-a47619c2d60c"
   },
   "outputs": [],
   "source": [
    "[response.source_nodes[i].score for i in range(len(response.source_nodes))]"
   ]
  },
  {
   "cell_type": "markdown",
   "metadata": {
    "id": "i-vopSPuMnNU"
   },
   "source": [
    "Following that, we delve into the text of each node retrieved. This allows us to understand the content and context that the retriever uses to select the most relevant nodes. Here, well-defined metadata plays a pivotal role in successful candidate parsing, underscoring the importance of structured and detailed node composition.\n",
    "\n"
   ]
  },
  {
   "cell_type": "code",
   "execution_count": null,
   "metadata": {
    "colab": {
     "base_uri": "https://localhost:8080/"
    },
    "executionInfo": {
     "elapsed": 1028,
     "status": "ok",
     "timestamp": 1706096145980,
     "user": {
      "displayName": "Thomas Pernet",
      "userId": "12184844431429654860"
     },
     "user_tz": -60
    },
    "id": "zqgL7AqAlPtP",
    "outputId": "45469b4d-e1f7-4506-e7a6-bbce98ae1cda"
   },
   "outputs": [],
   "source": [
    "[response.source_nodes[i].text for i in range(len(response.source_nodes))]"
   ]
  },
  {
   "cell_type": "markdown",
   "metadata": {
    "id": "rVsd_8oYM2pE"
   },
   "source": [
    "Finally, we explore the metadata associated with each node. This metadata often includes tags and other descriptors that enhance the retriever's ability to select nodes that are most aligned with the query's context."
   ]
  },
  {
   "cell_type": "code",
   "execution_count": null,
   "metadata": {
    "colab": {
     "base_uri": "https://localhost:8080/"
    },
    "executionInfo": {
     "elapsed": 25,
     "status": "ok",
     "timestamp": 1706096165530,
     "user": {
      "displayName": "Thomas Pernet",
      "userId": "12184844431429654860"
     },
     "user_tz": -60
    },
    "id": "XZhAo4Rkn9-k",
    "outputId": "3754fece-ef83-46bd-82f1-9c9f60f29076"
   },
   "outputs": [],
   "source": [
    "[response.source_nodes[i].metadata['interest'] for i in range(len(response.source_nodes))]"
   ]
  },
  {
   "cell_type": "markdown",
   "metadata": {
    "id": "v7Ey3dQ0oYSO"
   },
   "source": [
    "We can test with a different prompt"
   ]
  },
  {
   "cell_type": "code",
   "execution_count": null,
   "metadata": {
    "colab": {
     "base_uri": "https://localhost:8080/"
    },
    "executionInfo": {
     "elapsed": 10,
     "status": "ok",
     "timestamp": 1706096816158,
     "user": {
      "displayName": "Thomas Pernet",
      "userId": "12184844431429654860"
     },
     "user_tz": -60
    },
    "id": "UNip9crBQhmL",
    "outputId": "1e3b4020-d1d0-4005-96f0-10ef07dd0381"
   },
   "outputs": [],
   "source": [
    "template = \"\"\"\n",
    "Potential investment opportunities are below.\n",
    "---------------------\n",
    "{context_str}\n",
    "---------------------\n",
    "Given these potential investment opportunities, which ones are most unambiguously suitable\n",
    "\n",
    "Make sure to answer the following question {query_str} and add a title at the top\n",
    "of the answer following this template\n",
    "\n",
    "# Title: Add title here\n",
    "\n",
    "## Answer\n",
    "\n",
    "- Investor 1: explanation\n",
    "- Investor 2: explanation\n",
    "- etc\n",
    "\"\"\"\n",
    "DEFAULT_TEXT_QA_PROMPT1 = PromptTemplate(\n",
    "    template, prompt_type=PromptType.CUSTOM\n",
    ")\n",
    "print(DEFAULT_TEXT_QA_PROMPT1.template)"
   ]
  },
  {
   "cell_type": "code",
   "execution_count": null,
   "metadata": {
    "colab": {
     "base_uri": "https://localhost:8080/",
     "height": 178
    },
    "executionInfo": {
     "elapsed": 42,
     "status": "ok",
     "timestamp": 1706096662932,
     "user": {
      "displayName": "Thomas Pernet",
      "userId": "12184844431429654860"
     },
     "user_tz": -60
    },
    "id": "6OIWET4KSA9d",
    "outputId": "2c8e2d81-f536-41e2-ff71-e366a4fdbec1"
   },
   "outputs": [],
   "source": [
    "formatted_prompts[0]"
   ]
  },
  {
   "cell_type": "code",
   "execution_count": null,
   "metadata": {
    "colab": {
     "base_uri": "https://localhost:8080/"
    },
    "executionInfo": {
     "elapsed": 116953,
     "status": "ok",
     "timestamp": 1706096980012,
     "user": {
      "displayName": "Thomas Pernet",
      "userId": "12184844431429654860"
     },
     "user_tz": -60
    },
    "id": "-O1Uq3v0n-Dl",
    "outputId": "8cde5372-862d-40c3-e9bc-ab200c1694ed"
   },
   "outputs": [],
   "source": [
    "### Step 1: Generate a question\n",
    "### filters\n",
    "#prompt = \"Please generate only one question about the following topic: '{topic}'. Reply only with the question\"\n",
    "#topic = \"financial ratio\"\n",
    "\n",
    "#formatted_prompt = generate_prompt(prompt, topic)\n",
    "\n",
    "question = llm.complete(formatted_prompts[0]).text + \" Which investors can fund our project?\"\n",
    "retriever_base = index_with_splitter.as_retriever(similarity_top_k=20)\n",
    "\n",
    "query_engine1 = RetrieverQueryEngine.from_args(\n",
    "    retriever_base,\n",
    "    service_context=service_context_with_splitter,\n",
    "    node_postprocessors = None,\n",
    "    # response synthesizer args\n",
    "    response_mode =  ResponseMode.SIMPLE_SUMMARIZE,\n",
    "    text_qa_template = DEFAULT_TEXT_QA_PROMPT1,\n",
    "    response_synthesizer = None,\n",
    "\n",
    "    )\n",
    "\n",
    "print(question)\n",
    "response = query_engine1.query(question)\n",
    "print(response)"
   ]
  },
  {
   "cell_type": "markdown",
   "metadata": {
    "id": "0paiQMJ1pGKk"
   },
   "source": [
    "## Advanced Retriever Techniques in Llama Index\n",
    "\n",
    "In Llama Index, advanced retriever techniques are employed to refine the search process and enhance the relevance and accuracy of the results. Each technique offers a unique approach to handling and retrieving indexed data. Here's a brief overview of each strategy:\n",
    "\n",
    "- **BM25 Hybrid Retriever**: Utilizes the BM25 algorithm to score documents based on the frequency of the query terms, ensuring relevance and precision. ([Source Code](https://github.com/run-llama/llama_index/blob/main/llama_index/retrievers/bm25_retriever.py))\n",
    "- **Simple Fusion Retriever**: Combines the scores from multiple retrievers to enhance the retrieval results. ([Source Code](https://github.com/run-llama/llama_index/blob/main/llama_index/retrievers/fusion_retriever.py))\n",
    "- **Reciprocal Rerank Fusion Retriever**: Reranks the results of multiple retrievers based on their reciprocal ranks, promoting diversity in the results. ([Source Code](https://github.com/run-llama/llama_index/blob/main/llama_index/retrievers/fusion_retriever.py))\n"
   ]
  },
  {
   "cell_type": "markdown",
   "metadata": {
    "id": "fE10_NrUpJmA"
   },
   "source": [
    "### BM25 Hybrid Retriever\n",
    "\n",
    "The BM25 Hybrid Retriever is a tool used in information retrieval, particularly in the Llama Index. It's based on the BM25 (Best Matching 25) ranking function, which is an evolution of the TF-IDF (Term Frequency-Inverse Document Frequency) model.\n",
    "\n",
    "The BM25 Hybrid Retriever considers the frequency of each query term in each document, but introduces a saturation point to prevent a term's frequency from having an excessively large influence. It also factors in the rarity of each term in the overall document set, giving higher scores to rarer terms.\n",
    "\n",
    "One of the key features of the BM25 Hybrid Retriever is its ability to adjust for the length of the documents, addressing the bias towards longer documents inherent in basic TF-IDF calculations. It also includes parameters that can be tuned to adjust term frequency saturation and length normalization, allowing for flexibility in adapting the algorithm to different types of document sets and search requirements.\n",
    "\n",
    "How it works\n",
    " - ranks documents based on how often query terms appear, but it won't let common words overpower the results. It's fair to both short and long documents, making sure every document has a chance to match the query well.\n",
    "\n",
    "pros\n",
    " 1. Precision: Excels at identifying documents with exact match keywords, ensuring high precision.\n",
    " 2. Simplicity: Straightforward to implement and doesn't require complex mathematical computations.\n",
    " 3. Performance: Efficient with large document sets, as it doesn't require heavy computational resources.\n",
    "\n",
    "cons\n",
    " 1. Lacks Semantic Understanding: Doesn't grasp the context or the meaning behind words, potentially missing relevant documents without exact keyword matches.\n",
    " 2. Keyword Dependency: BM25 focuses strictly on matching exact words from the query in the documents. This means it might miss documents that are related to the topic but don't use the same specific words used in the query.\n",
    "\n",
    "([Source Code](https://github.com/run-llama/llama_index/blob/main/llama_index/retrievers/bm25_retriever.py))"
   ]
  },
  {
   "cell_type": "code",
   "execution_count": null,
   "metadata": {
    "id": "uqK1GIqon-Ho"
   },
   "outputs": [],
   "source": [
    "from llama_index.retrievers import BM25Retriever"
   ]
  },
  {
   "cell_type": "markdown",
   "metadata": {
    "id": "CjFC9mPeHWlk"
   },
   "source": [
    "Set Up BM25 Retriever: The BM25 Retriever is instantiated and configured. It's designed to rank documents based on the occurrence of query terms, taking into account the term frequency and inverse document frequency.\n",
    "\n",
    "```\n",
    "retriever_bm25 = BM25Retriever.from_defaults(docstore=index_with_splitter.docstore, similarity_top_k=5)\n",
    "```"
   ]
  },
  {
   "cell_type": "code",
   "execution_count": null,
   "metadata": {
    "colab": {
     "base_uri": "https://localhost:8080/"
    },
    "executionInfo": {
     "elapsed": 102370,
     "status": "ok",
     "timestamp": 1706097163265,
     "user": {
      "displayName": "Thomas Pernet",
      "userId": "12184844431429654860"
     },
     "user_tz": -60
    },
    "id": "HkwTjSVhn-Jw",
    "outputId": "9c2b7c5c-6a63-4ce9-eb22-43c8dc101b59"
   },
   "outputs": [],
   "source": [
    "question = llm.complete(formatted_prompts[0]).text + \" Which investors can fund our project?\"\n",
    "\n",
    "### Step 2: retriever: BM25\n",
    "retriever_bm25 = BM25Retriever.from_defaults(docstore=index_with_splitter.docstore, similarity_top_k=5)\n",
    "\n",
    "### Step 3: Define how to process the retriver an the answer\n",
    "query_engine = RetrieverQueryEngine.from_args(\n",
    "    retriever_bm25,\n",
    "    service_context=service_context_with_splitter,\n",
    "    node_postprocessors = None,\n",
    "    # response synthesizer args\n",
    "    response_mode =  ResponseMode.SIMPLE_SUMMARIZE,\n",
    "    text_qa_template = DEFAULT_TEXT_QA_PROMPT1,\n",
    "    response_synthesizer = None\n",
    "    )\n",
    "\n",
    "### Step 4: Get the answer\n",
    "print(question)\n",
    "response = query_engine.query(question)\n",
    "print(response)"
   ]
  },
  {
   "cell_type": "code",
   "execution_count": null,
   "metadata": {
    "colab": {
     "base_uri": "https://localhost:8080/"
    },
    "executionInfo": {
     "elapsed": 1042,
     "status": "ok",
     "timestamp": 1706097241521,
     "user": {
      "displayName": "Thomas Pernet",
      "userId": "12184844431429654860"
     },
     "user_tz": -60
    },
    "id": "V5AK5Pihn-Lk",
    "outputId": "cfc810ec-24ea-4602-8fc6-eada311e4cde"
   },
   "outputs": [],
   "source": [
    "[response.source_nodes[i].score for i in range(len(response.source_nodes))]"
   ]
  },
  {
   "cell_type": "code",
   "execution_count": null,
   "metadata": {
    "colab": {
     "base_uri": "https://localhost:8080/"
    },
    "executionInfo": {
     "elapsed": 28,
     "status": "ok",
     "timestamp": 1706097242564,
     "user": {
      "displayName": "Thomas Pernet",
      "userId": "12184844431429654860"
     },
     "user_tz": -60
    },
    "id": "MAbmPKJNn-Np",
    "outputId": "e3217144-2ce6-4a23-b743-48fd6eea50e0"
   },
   "outputs": [],
   "source": [
    "[response.source_nodes[i].text for i in range(len(response.source_nodes))]"
   ]
  },
  {
   "cell_type": "markdown",
   "metadata": {
    "id": "ta3BPDqhpTzd"
   },
   "source": [
    "### Fusion Retriever\n",
    "\n",
    "The Fusion Retriever in Llama Index operates in two distinct modes, each offering a unique approach to merging and ranking the results:\n",
    "\n",
    "1. **Simple Fusion**:\n",
    "    - This mode operates by straightforwardly aggregating the results from the different retrievers. It's a direct approach where the results are combined and then ranked based on their scores.\n",
    "    - Simple fusion is effective when you want a quick aggregation of results without sophisticated reranking or filtering.\n",
    "    - Source: https://github.com/run-llama/llama_index/blob/3dd55db6de5272d2df7e775ca85cb5a94888dd5d/llama_index/retrievers/fusion_retriever.py#L121\n",
    "\n",
    "2. **Reciprocal Rerank Fusion**:\n",
    "    - A more nuanced approach, the reciprocal rerank fusion method applies the reciprocal rank fusion technique. This method is designed to balance and recalibrate the results from multiple retrievers, taking into account their reciprocal ranks.\n",
    "    - The principle behind this is that a high rank in any of the retrievers should elevate the overall rank of the result, while ensuring that outlier rankings do not disproportionately affect the final ranking.\n",
    "    - Source: https://github.com/run-llama/llama_index/blob/3dd55db6de5272d2df7e775ca85cb5a94888dd5d/llama_index/retrievers/fusion_retriever.py#L85\n",
    "\n",
    "#### Simple Fusion Retriever\n",
    "\n",
    "The Simple Fusion Retriever is another tool used in information retrieval, specifically in the Llama Index. It's a type of hybrid search method that combines the results of multiple retrieval algorithms to improve the overall retrieval performance.\n",
    "\n",
    "The Simple Fusion Retriever operates by running multiple retrieval algorithms (like BM25 and vector search) on the same query, and then combines the results. The aim is to leverage the strengths of each individual retrieval method, thereby enhancing the overall retrieval performance.\n",
    "\n",
    "The fusion process can be as simple as taking the union of the top results from each retrieval method, or it can involve more complex techniques like reciprocal rank fusion, which reranks the results based on their ranks in the individual retrieval methods.\n",
    "\n",
    "How it works  \n",
    "\n",
    "- The Simple Fusion Retriever is a hybrid search method\n",
    "- It runs multiple retrieval algorithms (e.g., BM25 and cosine similarity) on the same query and combines their results to enhance retrieval performance\n",
    "   - Option: generates derivative queries (e.g., using a language model) based on the initial query.\n",
    "   - For each of these derivative queries, the Fusion Retriever performs separate searches using multiple retrieval algorithms, such as BM25 and cosine similarity\n",
    "- extracts the top N nodes from each set of results.\n",
    "- combines and ranks the nodes (normalized scores) from all searches and extracts the top n nodes with the highest scores\n",
    "\n",
    "pros\n",
    "\n",
    "- Improved Relevance: Enhances relevance by exploring various query facets and using multiple retrieval algorithms.\n",
    "- Comprehensive Coverage: Generates derivative queries for a comprehensive exploration of the topic.\n",
    "- Adaptability: Balances keyword-based and semantic approaches, making it suitable for diverse queries.\n",
    "\n",
    "cons\n",
    "\n",
    "- Dependence on Embeddings: The quality of results is heavily tied to the quality of the embeddings. \n",
    "- Score Integration Challenge: The Fusion Retriever faces challenges in integrating scores from different algorithms, potentially affecting result quality.\n",
    "\n",
    "([Source Code](https://github.com/run-llama/llama_index/blob/main/llama_index/retrievers/fusion_retriever.py))"
   ]
  },
  {
   "cell_type": "code",
   "execution_count": null,
   "metadata": {
    "id": "TBhHzvNTn-PW"
   },
   "outputs": [],
   "source": [
    "from llama_index.retrievers import QueryFusionRetriever"
   ]
  },
  {
   "cell_type": "markdown",
   "metadata": {
    "id": "_QUxq4q_IOu_"
   },
   "source": [
    "The fusion retriever will perfom two different searches, using the two different algorithms, and then compare the results and filters the more plausible candidates. We also have the possibility to enhance the search by generating derivative question from the query.\n",
    "\n",
    "In our implementation, we use the base similarity algorithm (cosine similarity) alongside BM25. These are well-regarded algorithms in the field of information retrieval, each offering unique advantages:\n",
    "\n",
    "1. **Cosine Similarity**: Measures the cosine of the angle between two vectors, effectively capturing the similarity irrespective of size.\n",
    "2. **BM25**: A probabilistic approach that ranks documents based on the query terms appearing in each document, considering the term frequency and inverse document frequency.\n",
    "\n",
    "After retrieving the top 10 nodes from each algorithm, we narrow down the results to the top 5 nodes. This ensures that only the most relevant and authoritative nodes are considered for the final response.\n",
    "\n",
    "\n",
    "```\n",
    "retriever_base = index_with_splitter.as_retriever(similarity_top_k=10)\n",
    "retriever_bm25 = BM25Retriever.from_defaults(docstore=index_with_splitter.docstore, similarity_top_k=10)\n",
    "```\n",
    "\n",
    "To further refine the search, we generate subqueries from the main query. This is accomplished by setting the `num_queries` parameter, which dictates the number of derivative questions to be generated. Setting this to 1 disables the query generation. The generation of these subqueries is aimed at exploring different facets or interpretations of the main query, providing a more comprehensive coverage of the topic.\n",
    "\n",
    "\n",
    "```\n",
    "similarity_top_k=5\n",
    "```\n",
    "\n",
    "The prompt for generating these subqueries is structured to instruct the model to produce multiple search queries based on the single input query, broadening the search scope and ensuring a thorough exploration of the topic.\n",
    "\n",
    "\n",
    "```\n",
    "\"You are a helpful assistant that generates multiple search queries based on a \"\n",
    "    \"single input query. Generate {num_queries} search queries, one on each line, \"\n",
    "    \"related to the following input query:\\n\"\n",
    "    \"Query: {query}\\n\"\n",
    "    \"Queries:\\n\"\n",
    "```\n",
    "\n",
    "The prompt for generating these subqueries is structured to instruct the model to produce multiple search queries based on the single input query, broadening the search scope and ensuring a thorough exploration of the topic.\n"
   ]
  },
  {
   "cell_type": "code",
   "execution_count": null,
   "metadata": {
    "id": "b1hSpf3tn-Ra"
   },
   "outputs": [],
   "source": [
    "QUERY_GEN_PROMPT = (\n",
    "    \"You are a helpful assistant that generates multiple search queries based on a \"\n",
    "    \"single input query. Generate {num_queries} search queries, one on each line, \"\n",
    "    \"related to the following input query:\\n\"\n",
    "    \"Query: {query}\\n\"\n",
    "    \"Queries:\\n\"\n",
    ")\n",
    "QUERY_GEN_PROMPT_FORMATED = PromptTemplate(\n",
    "    QUERY_GEN_PROMPT, prompt_type=PromptType.CUSTOM\n",
    ")"
   ]
  },
  {
   "cell_type": "markdown",
   "metadata": {
    "id": "CQVbgDl_ILFI"
   },
   "source": [
    "\n",
    "\n"
   ]
  },
  {
   "cell_type": "code",
   "execution_count": null,
   "metadata": {
    "colab": {
     "base_uri": "https://localhost:8080/"
    },
    "executionInfo": {
     "elapsed": 100697,
     "status": "ok",
     "timestamp": 1706097364103,
     "user": {
      "displayName": "Thomas Pernet",
      "userId": "12184844431429654860"
     },
     "user_tz": -60
    },
    "id": "4fNRoRt5pYK6",
    "outputId": "9d5666d3-8dbb-4529-c4d9-a1ec58a281e4"
   },
   "outputs": [],
   "source": [
    "### Step 1: Generate a question\n",
    "question = llm.complete(formatted_prompts[0]).text + \" Which investors can fund our project?\"\n",
    "\n",
    "### Step 2: retriever: fuson: base. + bm24\n",
    "retriever_base = index_with_splitter.as_retriever(similarity_top_k=10)\n",
    "retriever_bm25 = BM25Retriever.from_defaults(docstore=index_with_splitter.docstore, similarity_top_k=10)\n",
    "retriever_queryfusion_simple = QueryFusionRetriever(\n",
    "    [retriever_base, retriever_bm25],\n",
    "    similarity_top_k=5, ## select top 3 among the 5 chose\n",
    "    num_queries=4,  # set this to 1 to disable query generation\n",
    "    query_gen_prompt = QUERY_GEN_PROMPT_FORMATED,\n",
    "    mode=\"simple\", ### simple\n",
    "    use_async=False,\n",
    "    verbose=True,\n",
    "    llm=llm\n",
    ")\n",
    "\n",
    "### Step 3: Define how to process the retriver an the answer\n",
    "query_engine = RetrieverQueryEngine.from_args(\n",
    "    retriever_queryfusion_simple,\n",
    "    service_context=service_context_with_splitter,\n",
    "    node_postprocessors = None,\n",
    "    # response synthesizer args\n",
    "    response_mode =  ResponseMode.SIMPLE_SUMMARIZE,\n",
    "    text_qa_template = DEFAULT_TEXT_QA_PROMPT1,\n",
    "    response_synthesizer = None\n",
    "    )\n",
    "\n",
    "### Step 4: Get the answer\n",
    "print(question)\n",
    "response = query_engine.query(question)\n",
    "print(response)"
   ]
  },
  {
   "cell_type": "markdown",
   "metadata": {
    "id": "_usSDhj_XvxO"
   },
   "source": [
    "We can see the three subqueries generated:\n",
    "\n",
    "1. What are the economic costs of climate change for industries, such as energy, construction, and transportation?\n",
    "<|ASSISTANT|>2. How does climate change impact agricultural productivity and what are the potential economic losses for farmers?\n",
    "<|ASSISTANT|>3. What are the specific ways in which climate change raises costs for businesses and industries, and how do these costs translate to reduced economic growth?"
   ]
  },
  {
   "cell_type": "code",
   "execution_count": null,
   "metadata": {
    "colab": {
     "base_uri": "https://localhost:8080/"
    },
    "executionInfo": {
     "elapsed": 33,
     "status": "ok",
     "timestamp": 1706097410888,
     "user": {
      "displayName": "Thomas Pernet",
      "userId": "12184844431429654860"
     },
     "user_tz": -60
    },
    "id": "I33XDJ5tpYOQ",
    "outputId": "20e083d3-c6e1-4971-eaf5-95e6f7a41589"
   },
   "outputs": [],
   "source": [
    "[response.source_nodes[i].score for i in range(len(response.source_nodes))]"
   ]
  },
  {
   "cell_type": "code",
   "execution_count": null,
   "metadata": {
    "colab": {
     "base_uri": "https://localhost:8080/"
    },
    "executionInfo": {
     "elapsed": 24,
     "status": "ok",
     "timestamp": 1706097410888,
     "user": {
      "displayName": "Thomas Pernet",
      "userId": "12184844431429654860"
     },
     "user_tz": -60
    },
    "id": "hGdTzcfXpYQn",
    "outputId": "fb240a78-95cf-4c08-c813-045787aa9393"
   },
   "outputs": [],
   "source": [
    "[response.source_nodes[i].text for i in range(len(response.source_nodes))]"
   ]
  },
  {
   "cell_type": "markdown",
   "metadata": {
    "id": "7KJ6G43JpeLH"
   },
   "source": [
    "#### Reciprocal Rerank Fusion Retriever\n",
    "\n",
    "https://github.com/run-llama/llama_index/blob/main/llama_index/retrievers/fusion_retriever.py"
   ]
  },
  {
   "cell_type": "code",
   "execution_count": null,
   "metadata": {
    "colab": {
     "base_uri": "https://localhost:8080/"
    },
    "executionInfo": {
     "elapsed": 59900,
     "status": "ok",
     "timestamp": 1706097479048,
     "user": {
      "displayName": "Thomas Pernet",
      "userId": "12184844431429654860"
     },
     "user_tz": -60
    },
    "id": "AJrtargSpYTj",
    "outputId": "3adc223b-3a84-4682-f1be-776974d0f68f"
   },
   "outputs": [],
   "source": [
    "### Step 1: Generate a question\n",
    "question = llm.complete(formatted_prompts[0]).text + \" Which investors can fund our project?\"\n",
    "\n",
    "\n",
    "### Step 2: retriever: fuson: base. + bm24\n",
    "retriever_base = index_with_splitter.as_retriever(similarity_top_k=10)\n",
    "retriever_bm25 = BM25Retriever.from_defaults(docstore=index_with_splitter.docstore, similarity_top_k=10)\n",
    "retriever_queryfusion_simple = QueryFusionRetriever(\n",
    "    [retriever_base, retriever_bm25],\n",
    "    similarity_top_k=5, ## select top 3 among the 5 chose\n",
    "    num_queries=4,  # set this to 1 to disable query generation\n",
    "    query_gen_prompt = QUERY_GEN_PROMPT_FORMATED,\n",
    "    mode=\"reciprocal_rerank\", ### reranker\n",
    "    use_async=False,\n",
    "    verbose=True,\n",
    "    llm=llm\n",
    ")\n",
    "\n",
    "### Step 3: Define how to process the retriver an the answer\n",
    "query_engine = RetrieverQueryEngine.from_args(\n",
    "    retriever_queryfusion_simple,\n",
    "    service_context=service_context_with_splitter,\n",
    "    node_postprocessors = None,\n",
    "    # response synthesizer args\n",
    "    response_mode =  ResponseMode.SIMPLE_SUMMARIZE,\n",
    "    text_qa_template = DEFAULT_TEXT_QA_PROMPT1,\n",
    "    response_synthesizer = None\n",
    "    )\n",
    "\n",
    "### Step 4: Get the answer\n",
    "print(question)\n",
    "response = query_engine.query(question)\n",
    "print(response)"
   ]
  },
  {
   "cell_type": "code",
   "execution_count": null,
   "metadata": {
    "colab": {
     "base_uri": "https://localhost:8080/"
    },
    "executionInfo": {
     "elapsed": 1764,
     "status": "ok",
     "timestamp": 1706097510139,
     "user": {
      "displayName": "Thomas Pernet",
      "userId": "12184844431429654860"
     },
     "user_tz": -60
    },
    "id": "PYdQvASNpYWG",
    "outputId": "0327902b-0fd6-44a8-d3f8-22ac63048d6c"
   },
   "outputs": [],
   "source": [
    "[response.source_nodes[i].score for i in range(len(response.source_nodes))]"
   ]
  },
  {
   "cell_type": "code",
   "execution_count": null,
   "metadata": {
    "colab": {
     "base_uri": "https://localhost:8080/"
    },
    "executionInfo": {
     "elapsed": 3,
     "status": "ok",
     "timestamp": 1706097511707,
     "user": {
      "displayName": "Thomas Pernet",
      "userId": "12184844431429654860"
     },
     "user_tz": -60
    },
    "id": "zXrn3Wy9pYYt",
    "outputId": "67f552b0-857c-4a15-a381-abc98abf02ac"
   },
   "outputs": [],
   "source": [
    "[response.source_nodes[i].text for i in range(len(response.source_nodes))]"
   ]
  },
  {
   "cell_type": "markdown",
   "metadata": {
    "id": "hJuWsbXzpkw3"
   },
   "source": [
    "## Stage 2: Node Postprocessor\n",
    "\n",
    "### Enhancing Search with Node Postprocessor in Llama Index\n",
    "\n",
    "Node Postprocessors in Llama Index provide a refined level of control over the retrieval process, enabling more precise tuning of the retrieved nodes. This advanced functionality allows for filtering, optimizing, and reranking of nodes based on various criteria and methods. Below, we introduce three sophisticated methods that cater to different aspects of node processing.\n",
    "\n",
    "**1. Similarity Postprocessor**\n",
    "- **Functionality**: This postprocessor filters nodes based on a similarity threshold. It ensures that only nodes with a similarity score above a certain threshold are considered in the final results. This is particularly useful in maintaining a high relevance standard in the retrieved information.\n",
    "- **Source Code**: [Similarity Postprocessor](https://github.com/run-llama/llama_index/blob/2b74fccadb87701eff91bf4ce315829fc3fd9e62/llama_index/postprocessor/node.py#L61)\n",
    "\n",
    "**2. SentenceEmbeddingOptimizer**\n",
    "- **Functionality**: Optimizes the retrieval process by considering sentence embeddings. This postprocessor takes into account the contextual similarity at a sentence level, enhancing the precision of the retrieval.\n",
    "- **Source Code**: [SentenceEmbeddingOptimizer](https://github.com/run-llama/llama_index/blob/2b74fccadb87701eff91bf4ce315829fc3fd9e62/llama_index/postprocessor/optimizer.py#L15)\n",
    "\n",
    "**3. LLMRerank**\n",
    "- **Functionality**: This postprocessor leverages the capabilities of a Large Language Model (LLM) to rerank the nodes. By understanding the content and context at a deeper level, the LLM reranks the nodes, ensuring that the most contextually relevant and informative nodes are prioritized.\n",
    "- **Source Code**: [LLMRerank](https://github.com/run-llama/llama_index/blob/2b74fccadb87701eff91bf4ce315829fc3fd9e62/llama_index/postprocessor/llm_rerank.py#L17)"
   ]
  },
  {
   "cell_type": "markdown",
   "metadata": {
    "id": "xopK0FPqpnGB"
   },
   "source": [
    "#### Similarity Postprocessor\n",
    "\n",
    "The Similarity Postprocessor in Llama Index serves as a critical component for enhancing the precision of search results by filtering out nodes that fall below a predefined similarity score threshold. This functionality is crucial for ensuring that only the most relevant and closely related nodes to a given query are considered, significantly improving the accuracy and relevance of the retrieval process. By setting a specific threshold, users can effectively discard less relevant nodes, focusing only on those with a high degree of relevance to the search query. The implementation of this postprocessor, detailed in the [source code](https://github.com/run-llama/llama_index/blob/2b74fccadb87701eff91bf4ce315829fc3fd9e62/llama_index/postprocessor/node.py#L61), illustrates its role in refining the search results within the Llama Index framework.\n",
    "\n",
    "This postprocessor filters nodes based on a similarity threshold. It ensures that only nodes with a similarity score above a certain threshold are considered in the final results. This is particularly useful in maintaining a high relevance standard in the retrieved information.\n",
    "\n",
    "How it works\n",
    "- only highly relevant nodes closely related to the query are retained. All scores below a threshold are excluded\n",
    "\n",
    "pros\n",
    "- Precision Enhancement: Filters out less relevant nodes, leading to more accurate and focused search results.\n",
    "- Customization: Users can adjust the similarity threshold to fine-tune result relevance.\n",
    "\n",
    "cons\n",
    "- Potential Information Loss: Setting a high similarity threshold may exclude some relevant nodes, leading to information loss.\n",
    "- Parameter Sensitivity: The effectiveness of this approach depends on selecting an appropriate similarity cutoff, which can be challenging for some use cases."
   ]
  },
  {
   "cell_type": "code",
   "execution_count": null,
   "metadata": {
    "id": "3azymDTLpYdK"
   },
   "outputs": [],
   "source": [
    "from llama_index.postprocessor import SimilarityPostprocessor"
   ]
  },
  {
   "cell_type": "markdown",
   "metadata": {
    "id": "PTAvQsV-9B8I"
   },
   "source": [
    "The `similarity_postprocessor = SimilarityPostprocessor(similarity_cutoff=0.93)` line of code in the provided context creates an instance of the `SimilarityPostprocessor` class from the `llama_index` library. This postprocessor is used to filter out nodes that have a similarity score below a certain threshold. In our case, the `similarity_cutoff` is set to 0.93, meaning that only nodes with a similarity score of 0.93 or higher will be included in the final results. This can be useful for ensuring that only the most relevant and closely related nodes are considered, which can improve the accuracy and relevance of the retrieval process.\n",
    "\n",
    "* `similarity_cutoff`: This is the argument that specifies the similarity threshold. Nodes with a similarity score below this threshold will be filtered out.\n"
   ]
  },
  {
   "cell_type": "code",
   "execution_count": null,
   "metadata": {
    "colab": {
     "base_uri": "https://localhost:8080/"
    },
    "executionInfo": {
     "elapsed": 7158,
     "status": "ok",
     "timestamp": 1706097543772,
     "user": {
      "displayName": "Thomas Pernet",
      "userId": "12184844431429654860"
     },
     "user_tz": -60
    },
    "id": "eJhOAfxIpYgg",
    "outputId": "2a98c3d5-7cd6-4bbb-e3b3-7811e74efb30"
   },
   "outputs": [],
   "source": [
    "### Step 1: Generate a question\n",
    "question = llm.complete(formatted_prompts[0]).text + \" Which investors can fund our project?\"\n",
    "\n",
    "### Step 2: Define the retriever\n",
    "retriever_base = index_with_splitter.as_retriever(similarity_top_k=10)\n",
    "\n",
    "### filter nodes with lower score\n",
    "similarity_postprocessor = SimilarityPostprocessor(similarity_cutoff=0.93)\n",
    "\n",
    "### Step 3: Define how to process the retriver an the answer\n",
    "query_engine = RetrieverQueryEngine.from_args(\n",
    "    retriever_base,\n",
    "    service_context=service_context_with_splitter,\n",
    "    node_postprocessors=[similarity_postprocessor],\n",
    "    # response synthesizer args\n",
    "    response_mode =  ResponseMode.SIMPLE_SUMMARIZE,\n",
    "    text_qa_template = DEFAULT_TEXT_QA_PROMPT1,\n",
    "    response_synthesizer = None\n",
    "    )\n",
    "\n",
    "### Step 4: Get the answer\n",
    "print(question)\n",
    "response = query_engine.query(question)\n",
    "print(response)"
   ]
  },
  {
   "cell_type": "markdown",
   "metadata": {
    "id": "dk7bUlOk9jEp"
   },
   "source": [
    "The code below confirms only score above .93 are used in the response."
   ]
  },
  {
   "cell_type": "code",
   "execution_count": null,
   "metadata": {
    "colab": {
     "base_uri": "https://localhost:8080/",
     "height": 179
    },
    "executionInfo": {
     "elapsed": 6,
     "status": "error",
     "timestamp": 1706109006854,
     "user": {
      "displayName": "Thomas Pernet",
      "userId": "12184844431429654860"
     },
     "user_tz": -60
    },
    "id": "BTLWKufDpYis",
    "outputId": "821c8312-1684-40d3-f1ab-d7ac594c9e1c"
   },
   "outputs": [],
   "source": [
    "[response.source_nodes[i].score for i in range(len(response.source_nodes))]"
   ]
  },
  {
   "cell_type": "code",
   "execution_count": null,
   "metadata": {
    "id": "O0Y7fpuNpssg"
   },
   "outputs": [],
   "source": [
    "len([response.source_nodes[i].text for i in range(len(response.source_nodes))])"
   ]
  },
  {
   "cell_type": "markdown",
   "metadata": {
    "id": "B2UwVRZOpuf3"
   },
   "source": [
    "#### SentenceEmbeddingOptimizer\n",
    "\n",
    "The [SentenceEmbeddingOptimizer](https://github.com/run-llama/llama_index/blob/2b74fccadb87701eff91bf4ce315829fc3fd9e62/llama_index/postprocessor/optimizer.py#L15) operates differently from the SimilarityPostprocessor by providing a more nuanced approach to filtering content within nodes. While the SimilarityPostprocessor evaluates and filters nodes based on an overall similarity score, the SentenceEmbeddingOptimizer delves into the individual sentences within each node, offering a more refined control over the content that is retained or discarded.\n",
    "\n",
    "##### SentenceEmbeddingOptimizer: Intra-Node Filtering\n",
    "- **Functionality**: This optimizer assesses the relevance of each sentence within a node individually. By calculating similarity scores for each sentence relative to the query, it provides a granular evaluation of the node's content.\n",
    "- **Filtering Process**:\n",
    "    - **Percentile Cutoff (`percentile_cutoff`)**: This parameter allows the optimizer to rank the sentences within a node based on their individual similarity scores. Only the top-ranked sentences, as determined by the specified percentile, are kept. This ensures that the content of each node is distilled to its most pertinent elements.\n",
    "    - **Threshold Cutoff (`threshold_cutoff`)**: With this parameter, the optimizer sets a benchmark for sentence relevance. Sentences within a node that meet or exceed this similarity threshold are retained, ensuring that each node's content is tightly focused and relevant.\n",
    "- **Outcome**: The result of this process is a set of nodes where each node contains only its most relevant sentences. This can lead to nodes being shortened but enriched in terms of content relevance and precision.\n",
    "\n",
    "##### Difference from SimilarityPostprocessor: Node-Level vs. Sentence-Level Filtering\n",
    "- **SimilarityPostprocessor**:\n",
    "    - Operates at the node level.\n",
    "    - Filters out entire nodes based on a global similarity score.\n",
    "    - A more coarse-grained approach, treating the entire node as a single unit of content.\n",
    "- **SentenceEmbeddingOptimizer**:\n",
    "    - Operates at the sentence level within each node.\n",
    "    - Filters and refines the content of nodes by assessing the relevance of individual sentences.\n",
    "    - A more fine-grained approach, providing a nuanced evaluation of a node's content.\n",
    "\n",
    "In essence, while the SimilarityPostprocessor decides the relevance of entire nodes as single units, the SentenceEmbeddingOptimizer offers a deeper insight into the nodes by evaluating and optimizing the relevance of each sentence within them. This sentence-level filtering ensures that the content within each node is highly relevant and closely aligned with the query, enhancing the precision and value of the retrieved information.\n",
    "\n",
    "Optimizes the retrieval process by considering sentence embeddings. This postprocessor takes into account the contextual similarity at a sentence level\n",
    "\n",
    "How it works\n",
    "- The Sentence Embedding Optimizer operates at the sentence level within each node, providing a nuanced approach to content filtering. If a node has more than one sentences, it is cut, and the score is calculated on each sentence.\n",
    "- Two options\n",
    "   - Percentile Cutoff: the percentage of top-ranked sentences to retain within a node\n",
    "   - Threshold Cutoff: Sentences with similarity scores equal to or higher than the threshold are kept\n",
    "\n",
    "pros\n",
    " 1. Fine-Grained Control: The optimizer allows for precise control over content refinement at the sentence level. This level of granularity ensures that only highly relevant sentences are retained.\n",
    " 2. Enhanced Precision: By evaluating and optimizing individual sentences based on query similarity, the method improves the precision of search results, reducing noise and irrelevant content.\n",
    "\n",
    "cons\n",
    " - Contextual Loss: Aggressive filtering with high cutoffs may exclude context-providing sentences, potentially affecting result comprehensiveness."
   ]
  },
  {
   "cell_type": "code",
   "execution_count": null,
   "metadata": {
    "id": "ec-kVYYxpswK"
   },
   "outputs": [],
   "source": [
    "from llama_index.postprocessor import SentenceEmbeddingOptimizer"
   ]
  },
  {
   "cell_type": "markdown",
   "metadata": {
    "id": "VHaKJkqV-Ipz"
   },
   "source": [
    "to control which nodes to filters out, we use one of the two parameters from `SentenceEmbeddingOptimizer`:\n",
    "\n",
    "- `percentile_cutoff`: This parameter specifies the percentile cutoff for filtering sentences within each node. In the provided code, it is set to 0.92, meaning that only the top 92% of sentences, ranked by their similarity scores, will be retained in each node.\n",
    "- `threshold_cutoff`: This parameter specifies the threshold cutoff for filtering sentences within each node. Sentences with a similarity score below this threshold will be discarded. In the provided code, this parameter is not specified, so it will default to the value of `percentile_cutoff`.\n",
    "\n",
    "\n"
   ]
  },
  {
   "cell_type": "code",
   "execution_count": null,
   "metadata": {
    "colab": {
     "base_uri": "https://localhost:8080/"
    },
    "executionInfo": {
     "elapsed": 77644,
     "status": "ok",
     "timestamp": 1706097668330,
     "user": {
      "displayName": "Thomas Pernet",
      "userId": "12184844431429654860"
     },
     "user_tz": -60
    },
    "id": "IZ9oQh_UpszB",
    "outputId": "84aed501-2c66-4c81-afa1-0a997ea000d7"
   },
   "outputs": [],
   "source": [
    "## Step 1: Generate a question\n",
    "question = llm.complete(formatted_prompts[0]).text + \" Which investors can fund our project?\"\n",
    "\n",
    "### Step 2: Define the retriever\n",
    "retriever_base = index_with_splitter.as_retriever(similarity_top_k=30)\n",
    "\n",
    "### filter nodes with lower score\n",
    "sentence_embedding_postprocessor = SentenceEmbeddingOptimizer(\n",
    "    embed_model=service_context_with_splitter.embed_model,\n",
    "    percentile_cutoff=0.92,\n",
    "    #threshold_cutoff=0.86\n",
    ")\n",
    "\n",
    "### Step 3: Define how to process the retriver an the answer\n",
    "query_engine = RetrieverQueryEngine.from_args(\n",
    "    retriever_base,\n",
    "    service_context=service_context_with_splitter,\n",
    "    node_postprocessors=[sentence_embedding_postprocessor],\n",
    "    # response synthesizer args\n",
    "    response_mode =  ResponseMode.SIMPLE_SUMMARIZE,\n",
    "    text_qa_template = DEFAULT_TEXT_QA_PROMPT1,\n",
    "    response_synthesizer = None\n",
    "    )\n",
    "\n",
    "### Step 4: Get the answer\n",
    "print(question)\n",
    "response = query_engine.query(question)\n",
    "print(response)"
   ]
  },
  {
   "cell_type": "markdown",
   "metadata": {
    "id": "mrJvGxnsDD4f"
   },
   "source": [
    "As we can see, much more results than with the hard coded `SimilarityPostprocessor` score"
   ]
  },
  {
   "cell_type": "code",
   "execution_count": null,
   "metadata": {
    "colab": {
     "base_uri": "https://localhost:8080/"
    },
    "executionInfo": {
     "elapsed": 1155,
     "status": "ok",
     "timestamp": 1706097707152,
     "user": {
      "displayName": "Thomas Pernet",
      "userId": "12184844431429654860"
     },
     "user_tz": -60
    },
    "id": "4lnS52Qyps1D",
    "outputId": "7710b188-f522-4827-8705-7e556d28320a"
   },
   "outputs": [],
   "source": [
    "[response.source_nodes[i].score for i in range(len(response.source_nodes))]"
   ]
  },
  {
   "cell_type": "code",
   "execution_count": null,
   "metadata": {
    "colab": {
     "base_uri": "https://localhost:8080/"
    },
    "executionInfo": {
     "elapsed": 15,
     "status": "ok",
     "timestamp": 1706097713556,
     "user": {
      "displayName": "Thomas Pernet",
      "userId": "12184844431429654860"
     },
     "user_tz": -60
    },
    "id": "qI-KVfqtps3P",
    "outputId": "4b0db94a-e80e-4aab-b4b3-6712144d7387"
   },
   "outputs": [],
   "source": [
    "len([response.source_nodes[i].text for i in range(len(response.source_nodes))])"
   ]
  },
  {
   "cell_type": "markdown",
   "metadata": {
    "id": "iao3nl8Tp0vi"
   },
   "source": [
    "#### LLMRerank\n",
    "\n",
    "The [LLM Reranker](https://github.com/run-llama/llama_index/blob/2b74fccadb87701eff91bf4ce315829fc3fd9e62/llama_index/postprocessor/llm_rerank.py#L17) is an integral feature of the Llama Index, designed to enhance the accuracy of node relevance evaluation by utilizing a Large Language Model (LLM). This process involves presenting a structured prompt to the LLM, which prompts it to analyze a set of document summaries and a related question. The LLM then provides relevance scores for each document, indicating their pertinence to the posed question.\n",
    "\n",
    "This postprocessor leverages the capabilities of a Large Language Model (LLM) to rerank the nodes. By understanding the content and context at a deeper level, the LLM reranks the nodes, ensuring that the most contextually relevant and informative nodes are prioritized.\n",
    "\n",
    "How it works\n",
    "- An LLm is used to validate each node\n",
    "   - The user write a query to evaluate the relevance of each sentence found by the retriever\n",
    "   - In the prompt, the user can explain how to score the node\n",
    "   - A rule or score system is applied to filter out the nodes\n",
    "\n",
    "pros\n",
    "\n",
    "1. Enhanced Relevance: LLM Rerank improves relevance evaluation by using an advanced language model, addressing limitations of traditional methods.\n",
    "2. Advanced Filtering: It ensures only the most relevant documents are included, enhancing result precision.\n",
    "3. Reduced Noise: Irrelevant documents are filtered out, improving result quality.\n",
    "\n",
    "cons\n",
    "\n",
    "1. Slower Processing: LLM Rerank may have slower processing times due to its computational intensity.\n",
    "2. Prompt Sensitivity: Effectiveness depends on the quality and structure of the prompt, which can be challenging to design.\n",
    "3. Code Implementation: It may require additional coding for result extraction, adding complexity."
   ]
  },
  {
   "cell_type": "code",
   "execution_count": null,
   "metadata": {
    "id": "LzhrtHg_ps6D"
   },
   "outputs": [],
   "source": [
    "from llama_index.postprocessor import LLMRerank\n",
    "from typing import List, Tuple"
   ]
  },
  {
   "cell_type": "markdown",
   "metadata": {
    "id": "5zMKPIf-TK5i"
   },
   "source": [
    "The LLM Reranker utilizes a default prompt (DEFAULT_CHOICE_SELECT_PROMPT_TMPL) to guide the LLM in evaluating the relevance of documents. This prompt structures the task by presenting a list of documents alongside a question, instructing the LLM to rank the documents and assign a relevance score from 1 to 10 to each, based on their pertinence to the question. The goal is to identify and rank the most relevant documents, omitting any that don't significantly contribute to answering the question.\n",
    "\n",
    "```\n",
    "DEFAULT_CHOICE_SELECT_PROMPT_TMPL = (\n",
    "    \"A list of documents is shown below. Each document has a number next to it along \"\n",
    "    \"with a summary of the document. A question is also provided. \\n\"\n",
    "    \"Respond with the numbers of the documents \"\n",
    "    \"you should consult to answer the question, in order of relevance, as well \\n\"\n",
    "    \"as the relevance score. The relevance score is a number from 1-10 based on \"\n",
    "    \"how relevant you think the document is to the question.\\n\"\n",
    "    \"Do not include any documents that are not relevant to the question. \\n\"\n",
    "    \"Example format: \\n\"\n",
    "    \"Document 1:\\n<summary of document 1>\\n\\n\"\n",
    "    \"Document 2:\\n<summary of document 2>\\n\\n\"\n",
    "    \"...\\n\\n\"\n",
    "    \"Document 10:\\n<summary of document 10>\\n\\n\"\n",
    "    \"Question: <question>\\n\"\n",
    "    \"Answer:\\n\"\n",
    "    \"Doc: 9, Relevance: 7\\n\"\n",
    "    \"Doc: 3, Relevance: 4\\n\"\n",
    "    \"Doc: 7, Relevance: 3\\n\\n\"\n",
    "    \"Let's try this now: \\n\\n\"\n",
    "    \"{context_str}\\n\"\n",
    "    \"Question: {query_str}\\n\"\n",
    "    \"Answer:\\n\"\n",
    ")\n",
    "```\n",
    "\n",
    "It will assign a score to each text. I encountered instability with this prompt and frequently faced issues with the parsing answer function. You can find the default code at this [link](https://github.com/run-llama/llama_index/blob/2b74fccadb87701eff91bf4ce315829fc3fd9e62/llama_index/indices/utils.py#L87C1-L110C42).\n",
    "\n",
    "```\n",
    "def default_parse_choice_select_answer_fn(\n",
    "    answer: str, num_choices: int, raise_error: bool = False\n",
    ") -> Tuple[List[int], List[float]]:\n",
    "    \"\"\"Default parse choice select answer function.\"\"\"\n",
    "    answer_lines = answer.split(\"\\n\")\n",
    "    answer_nums = []\n",
    "    answer_relevances = []\n",
    "    for answer_line in answer_lines:\n",
    "        line_tokens = answer_line.split(\",\")\n",
    "        if len(line_tokens) != 2:\n",
    "            if not raise_error:\n",
    "                continue\n",
    "            else:\n",
    "                raise ValueError(\n",
    "                    f\"Invalid answer line: {answer_line}. \"\n",
    "                    \"Answer line must be of the form: \"\n",
    "                    \"answer_num: <int>, answer_relevance: <float>\"\n",
    "                )\n",
    "        answer_num = int(line_tokens[0].split(\":\")[1].strip())\n",
    "        if answer_num > num_choices:\n",
    "            continue\n",
    "        answer_nums.append(answer_num)\n",
    "        answer_relevances.append(float(line_tokens[1].split(\":\")[1].strip()))\n",
    "    return answer_nums, answer_relevances\n",
    "\n",
    "```\n",
    "\n",
    "I prefere change the prompt to generate a JSON with a rank and adjust the function myself to ensure the function will parse the output. At the moment, we only select the top five for each batch. We could improve the filter by excluding score below a certain threshold."
   ]
  },
  {
   "cell_type": "code",
   "execution_count": null,
   "metadata": {
    "id": "kxiOK61pps70"
   },
   "outputs": [],
   "source": [
    "import json\n",
    "import pandas as pd\n",
    "def default_parse_choice_select_answer_fn(\n",
    "    answer: str, num_choices: int, raise_error: bool = False\n",
    ") -> Tuple[List[int], List[float]]:\n",
    "  print(answer)\n",
    "  # Replace single quotes with double quotes to make it a valid JSON string\n",
    "  end_index = answer.find(']') + 1\n",
    "  json_part = answer[:end_index]\n",
    "  valid_json_string = json_part.replace(\"'\", '\"')\n",
    "\n",
    "  # Parse the JSON string\n",
    "  data = json.loads(valid_json_string)\n",
    "  data = (\n",
    "      pd.DataFrame(data)\n",
    "      .sort_values(by = ['score'], ascending =False)\n",
    "      .head(num_choices)\n",
    "  )\n",
    "\n",
    "  return list(data['document']), list(data['score'])"
   ]
  },
  {
   "cell_type": "markdown",
   "metadata": {
    "id": "4jKBSFHXGmiB"
   },
   "source": [
    "Here is the prompt I use"
   ]
  },
  {
   "cell_type": "code",
   "execution_count": null,
   "metadata": {
    "id": "X8dfF-Hxp68S"
   },
   "outputs": [],
   "source": [
    "## https://github.com/run-llama/llama_index/blob/main/llama_index/prompts/default_prompts.py#L428\n",
    "## https://github.com/run-llama/llama_index/blob/main/llama_index/postprocessor/llm_rerank.py\n",
    "## https://github.com/run-llama/llama_index/blob/main/llama_index/indices/utils.py\n",
    "choice_select_prompt = (\"\"\"\n",
    "A list of documents is shown below. Each document has a number next to it along with a summary of the document. A question is also provided.\n",
    "\n",
    "Example format:\n",
    "Document 1:\n",
    "<summary of document 1>\n",
    "\n",
    "Document 2:\n",
    "<summary of document 2>\n",
    "\n",
    "...\n",
    "\n",
    "Document 10:\n",
    "<summary of document 10>\n",
    "\n",
    "In your answer, provide a score from 1 to 10, where 10 indicates fully relevant to the question, 5 indicates the document is answering the question without details and all scores below aren't very relevant.\n",
    "Please score each document, and do not provide an explanation. Use the following format in your response:\n",
    "\n",
    "[\n",
    "  {{\n",
    "  'document': first documents number,\n",
    "  'score': first document's score\n",
    "  }},\n",
    "  {{\n",
    "  'document': second documents number,\n",
    "  'score': second document's score\n",
    "  }},\n",
    "  etc\n",
    "]\n",
    "Let's try this now:\n",
    "\n",
    "{context_str}\n",
    "Question: {query_str}\n",
    "Answer:\n",
    "\"\"\")\n",
    "template_answer_updated = PromptTemplate(\n",
    "    choice_select_prompt, prompt_type=PromptType.CHOICE_SELECT\n",
    ")"
   ]
  },
  {
   "cell_type": "code",
   "execution_count": null,
   "metadata": {
    "id": "GCsRKcfip7AJ"
   },
   "outputs": [],
   "source": [
    "### filter nodes with lower score\n",
    "llm_postprocessor = LLMRerank(\n",
    "    choice_batch_size=5,\n",
    "    top_n=5,\n",
    "    choice_select_prompt = template_answer_updated,\n",
    "    parse_choice_select_answer_fn= default_parse_choice_select_answer_fn,\n",
    "    service_context=service_context_with_splitter)"
   ]
  },
  {
   "cell_type": "markdown",
   "metadata": {
    "id": "zDZorf01Twjt"
   },
   "source": [
    "Here is the prompt"
   ]
  },
  {
   "cell_type": "code",
   "execution_count": null,
   "metadata": {
    "colab": {
     "base_uri": "https://localhost:8080/"
    },
    "executionInfo": {
     "elapsed": 10,
     "status": "ok",
     "timestamp": 1706097732897,
     "user": {
      "displayName": "Thomas Pernet",
      "userId": "12184844431429654860"
     },
     "user_tz": -60
    },
    "id": "CmW4MuPBp7Cc",
    "outputId": "834c7054-d5c2-4f30-ee9a-699a36a37431"
   },
   "outputs": [],
   "source": [
    "print(llm_postprocessor._get_prompts()['choice_select_prompt'].template)"
   ]
  },
  {
   "cell_type": "markdown",
   "metadata": {
    "id": "P8dzV3BdU0jT"
   },
   "source": [
    "Below we can see the response from Mistral, and our function `default_parse_choice_select_answer_fn` correctly parsed the output before generating the answer. We used two batches of 5, and selected the top 5 candidates (10 in total since we have two batches)"
   ]
  },
  {
   "cell_type": "code",
   "execution_count": null,
   "metadata": {
    "colab": {
     "base_uri": "https://localhost:8080/"
    },
    "executionInfo": {
     "elapsed": 155378,
     "status": "ok",
     "timestamp": 1706097897498,
     "user": {
      "displayName": "Thomas Pernet",
      "userId": "12184844431429654860"
     },
     "user_tz": -60
    },
    "id": "ZpPmzrFfp-jN",
    "outputId": "bb07b417-11de-49b6-81b4-0f4954454fa6"
   },
   "outputs": [],
   "source": [
    "### Step 1: Generate a question\n",
    "question = llm.complete(formatted_prompts[0]).text + \" Which investors can fund our project?\"\n",
    "\n",
    "### Step 2: Define the retriever\n",
    "retriever_base = index_with_splitter.as_retriever(similarity_top_k=10)\n",
    "\n",
    "\n",
    "### Step 3: Define how to process the retriver an the answer\n",
    "query_engine = RetrieverQueryEngine.from_args(\n",
    "    retriever_base,\n",
    "    service_context=service_context_with_splitter,\n",
    "    node_postprocessors=[llm_postprocessor],\n",
    "    # response synthesizer args\n",
    "    response_mode =  ResponseMode.SIMPLE_SUMMARIZE,\n",
    "    text_qa_template = DEFAULT_TEXT_QA_PROMPT1,\n",
    "    response_synthesizer = None\n",
    "    )\n",
    "\n",
    "### Step 4: Get the answer\n",
    "print(question)\n",
    "response = query_engine.query(question)\n",
    "print(response)"
   ]
  },
  {
   "cell_type": "code",
   "execution_count": null,
   "metadata": {
    "colab": {
     "base_uri": "https://localhost:8080/"
    },
    "executionInfo": {
     "elapsed": 46,
     "status": "ok",
     "timestamp": 1706097897498,
     "user": {
      "displayName": "Thomas Pernet",
      "userId": "12184844431429654860"
     },
     "user_tz": -60
    },
    "id": "0aH4Xl_Xp-l8",
    "outputId": "e4294704-659b-4564-9299-e07927103954"
   },
   "outputs": [],
   "source": [
    "[response.source_nodes[i].score for i in range(len(response.source_nodes))]"
   ]
  },
  {
   "cell_type": "code",
   "execution_count": null,
   "metadata": {
    "colab": {
     "base_uri": "https://localhost:8080/"
    },
    "executionInfo": {
     "elapsed": 34,
     "status": "ok",
     "timestamp": 1706097897499,
     "user": {
      "displayName": "Thomas Pernet",
      "userId": "12184844431429654860"
     },
     "user_tz": -60
    },
    "id": "zge7Env5p-px",
    "outputId": "205c2c2a-fd6d-4b47-9687-c4cd58ab4fd7"
   },
   "outputs": [],
   "source": [
    "len([response.source_nodes[i].text for i in range(len(response.source_nodes))])"
   ]
  },
  {
   "cell_type": "markdown",
   "metadata": {
    "id": "y7qgyayJqEld"
   },
   "source": [
    "## Stage 3: Response synthesiser for LLM Application\n",
    "\n",
    "\n",
    "\n",
    "List of response mode: https://github.com/run-llama/llama_index/blob/main/llama_index/response_synthesizers/type.py#L4\n",
    "\n",
    "There are different methods for generating responses:\n",
    "\n",
    "Certainly, here's the simplified explanation for each method with their names included:\n",
    "\n",
    "- **Simple Summarizer (`SIMPLE_SUMMARIZE`):** Merge all text chunks into one and make a call to the LLM. Note that this might fail if the merged text chunk is too large for the context window.\n",
    "\n",
    "- **Refine (`REFINE`):** This method involves an iterative process of response generation. It uses the context in the first node, along with the query, to generate an initial answer. Then, it refines the answer through N-1 nodes, where N is the total number of nodes.\n",
    "\n",
    "- **Tree Summarizer (`TREE_SUMMARIZE`):** Build a tree index over the candidate nodes, starting with a summary prompt seeded with the query. The tree is constructed in a bottom-up manner, and the root node is returned as the response.\n",
    "\n",
    "- **Compact (`COMPACT`):** This method combines text chunks into larger consolidated chunks to better utilize the available context window, and then refines answers across them. It's faster than the \"Refine\" method since it makes fewer calls to the LLM.\n",
    "\n",
    "- **Generation (`GENERATION`):** This method ignores context and directly uses the LLM to generate a response.\n",
    "\n",
    "- **No Text (`NO_TEXT`):** It returns the retrieved context nodes without synthesizing a final response.\n",
    "\n",
    "- **Accumulate (`ACCUMULATE`):** Synthesize a response for each text chunk and return the concatenation of these responses.\n",
    "\n",
    "- **Compact Accumulate (COMPACT_ACCUMULATE):** Similar to \"Compact\" mode, it combines text chunks into larger consolidated chunks, accumulates answers for each of them, and then returns the concatenation. It's faster than the \"Accumulate\" mode.\n",
    "\n",
    "You can find more details about these methods in the [link provided](https://github.com/run-llama/llama_index/blob/main/llama_index/response_synthesizers/factory.py).\n",
    "\n",
    "In this notebook, we will use\n",
    "\n",
    "- Simple summarizer\n",
    "- Refine\n",
    "- Tree summarizer\n",
    "\n",
    "Sources code:\n",
    "- https://github.com/run-llama/llama_index/blob/main/llama_index/response_synthesizers/factory.py\n",
    "- https://github.com/run-llama/llama_index/blob/main/llama_index/response_synthesizers/type.py#L4\n"
   ]
  },
  {
   "cell_type": "markdown",
   "metadata": {
    "id": "Kjwdj-siSyUP"
   },
   "source": [
    "To use the default prompt, directly pass one of the above values in `response_mode`\n",
    "\n",
    "```\n",
    "RetrieverQueryEngine.from_args(\n",
    "    retriever_base,\n",
    "    service_context=service_context_with_splitter,\n",
    "    node_postprocessors=[similarity_postprocessor],\n",
    "    # response synthesizer args ### redundant with SimpleSummarize?\n",
    "    #response_mode =  ResponseMode.SIMPLE_SUMMARIZE,\n",
    "    #text_qa_template = answer_template,\n",
    "    response_synthesizer= simpler_summarize,\n",
    "\n",
    "    )\n",
    "```\n",
    "\n",
    "and to customize the value, use `response_synthesizer`"
   ]
  },
  {
   "cell_type": "markdown",
   "metadata": {
    "id": "4RYS5EE6qS9P"
   },
   "source": [
    "### Simple summarizer\n",
    "\n",
    "Merge all text chunks into one and make a call to the LLM.\n",
    "\n",
    "How it works\n",
    "- Merge all text chunks into one and make a call to the LLM.\n",
    "\n",
    "pros\n",
    "- Speed: It can provide quick responses due to its efficiency in generating answers based on retrieved candidates.\n",
    "- Consistency: Responses tend to be consistent and follow predefined templates, ensuring uniformity.\n",
    "\n",
    "cons\n",
    "- Results are truncated if the chunk is too long, enhance, context might be lost\n",
    "- Depends on the quality of the text. The simple summarizer appends and truncates all nodes. The final answer will heavily depend on the quality of each text, and the final document might not be logically structured. Poorly written sentences might provide noise in the answer\n",
    "\n"
   ]
  },
  {
   "cell_type": "markdown",
   "metadata": {},
   "source": [
    "In this example, we use the prompt we defined earlier in the notebook\n",
    "\n",
    "```\"\"\"\n",
    "Potential investment opportunities are below.\\n\n",
    "---------------------\\n\n",
    "{context_str}\\n\n",
    "---------------------\\n\n",
    "Given these potential investment opportunities, which ones are most unambiguously suitable\n",
    "\n",
    "Make sure to answer the following question {query_str} and add a title at the top\n",
    "of the answer following this template\n",
    "\n",
    "# Title: Add title here\n",
    "\n",
    "## Answer\n",
    "\n",
    "- Investor 1: explanation\n",
    "- Investor 2: explanation\n",
    "- etc\"\"\"\n",
    "```\n",
    "\n",
    "- https://github.com/run-llama/llama_index/blob/main/llama_index/response_synthesizers/simple_summarize.py"
   ]
  },
  {
   "cell_type": "code",
   "execution_count": null,
   "metadata": {
    "id": "y_Fjxm4Dp-uN"
   },
   "outputs": [],
   "source": [
    "from llama_index.response_synthesizers import SimpleSummarize"
   ]
  },
  {
   "cell_type": "code",
   "execution_count": null,
   "metadata": {
    "colab": {
     "base_uri": "https://localhost:8080/"
    },
    "executionInfo": {
     "elapsed": 113371,
     "status": "ok",
     "timestamp": 1706098138794,
     "user": {
      "displayName": "Thomas Pernet",
      "userId": "12184844431429654860"
     },
     "user_tz": -60
    },
    "id": "4YKfaIi5qX8G",
    "outputId": "5db38274-4e07-40b7-deb5-9602f97e4c51"
   },
   "outputs": [],
   "source": [
    "simpler_summarize = SimpleSummarize(\n",
    "    service_context=service_context_with_splitter,\n",
    "    text_qa_template = DEFAULT_TEXT_QA_PROMPT1\n",
    "    )\n",
    "\n",
    "### Step 5: combine everything\n",
    "query_engine = RetrieverQueryEngine.from_args(\n",
    "    retriever_base,\n",
    "    service_context=service_context_with_splitter,\n",
    "    #node_postprocessors=[similarity_postprocessor],\n",
    "    # response synthesizer args ### redundant with SimpleSummarize?\n",
    "    #response_mode =  ResponseMode.SIMPLE_SUMMARIZE,\n",
    "    #text_qa_template = answer_template,\n",
    "    response_synthesizer= simpler_summarize,\n",
    "\n",
    "    )\n",
    "\n",
    "### Step 6 extract answer\n",
    "print(question)\n",
    "response = query_engine.query(question)\n",
    "print(response)"
   ]
  },
  {
   "cell_type": "code",
   "execution_count": null,
   "metadata": {
    "colab": {
     "base_uri": "https://localhost:8080/"
    },
    "executionInfo": {
     "elapsed": 15,
     "status": "ok",
     "timestamp": 1706098142212,
     "user": {
      "displayName": "Thomas Pernet",
      "userId": "12184844431429654860"
     },
     "user_tz": -60
    },
    "id": "KHY89VGiqX-d",
    "outputId": "9574c205-6212-46b0-a1f4-d413babd3e60"
   },
   "outputs": [],
   "source": [
    "simpler_summarize.get_prompts()"
   ]
  },
  {
   "cell_type": "markdown",
   "metadata": {
    "id": "YtT2asMwqeHl"
   },
   "source": [
    "### Refine\n",
    "\n",
    "This method involves an iterative process of response generation. It uses the context in the first node, along with the query, to generate an initial answer\n",
    "\n",
    "How it works\n",
    "- This method involves an iterative process of response generation. It uses the context in the first node, along with the query, to generate an initial answer. Then, it refines the answer through N-1 nodes, where N is the total number of nodes.\n",
    "\n",
    "pros\n",
    "- Enhanced Answer Quality: It has the potential to significantly improve the quality of responses by iteratively refining them through multiple text chunks.\n",
    "- Contextual Understanding: It takes into account the context of each text chunk, allowing for more contextually relevant answers.\n",
    "\n",
    "cons\n",
    "- Resource-Intensive: The iterative process, involving multiple LLM calls, can be resource-intensive and slower than simpler methods.\n",
    "\n",
    "In summary, the `REFINE` class is designed to enhance the response to a query by refining it through multiple text chunks, making use of iterative LLM calls to provide a more comprehensive and accurate answer.\n",
    "\n",
    "Below is the source code to find the default values for the prompt\n",
    "\n",
    "- https://github.com/run-llama/llama_index/blob/main/llama_index/response_synthesizers/refine.py\n",
    "- https://github.com/run-llama/llama_index/blob/main/llama_index/prompts/default_prompt_selectors.py#L27\n",
    "- https://github.com/run-llama/llama_index/blob/main/llama_index/prompts/default_prompts.py#L428"
   ]
  },
  {
   "cell_type": "code",
   "execution_count": null,
   "metadata": {
    "id": "44gCC3bZqeQU"
   },
   "outputs": [],
   "source": [
    "from llama_index.response_synthesizers import Refine"
   ]
  },
  {
   "cell_type": "markdown",
   "metadata": {
    "id": "VjvHZ_Y2K2Wj"
   },
   "source": [
    "Here is the default prompt"
   ]
  },
  {
   "cell_type": "code",
   "execution_count": null,
   "metadata": {
    "id": "Dn1-gTESqeVs"
   },
   "outputs": [],
   "source": [
    "### default template\n",
    "#DEFAULT_TEXT_QA_PROMPT_TMPL = (\n",
    "#    \"Context information is below.\\n\"\n",
    "#    \"---------------------\\n\"\n",
    "#    \"{context_str}\\n\"\n",
    "#    \"---------------------\\n\"\n",
    "#    \"Given the context information and not prior knowledge, \"\n",
    "#    \"answer the query.\\n\"\n",
    "#    \"Query: {query_str}\\n\"\n",
    "#    \"Answer: \"\n",
    "#)\n",
    "#DEFAULT_TEXT_QA_PROMPT = PromptTemplate(\n",
    "#    DEFAULT_TEXT_QA_PROMPT_TMPL, prompt_type=PromptType.QUESTION_ANSWER\n",
    "#)\n",
    "\n",
    "DEFAULT_REFINE_PROMPT_TMPL = (\n",
    "    \"The original query is as follows: {query_str}\\n\"\n",
    "    \"We have provided an existing answer: {existing_answer}\\n\"\n",
    "    \"We have the opportunity to refine the existing answer \"\n",
    "    \"(only if needed) with some more context below.\\n\"\n",
    "    \"------------\\n\"\n",
    "    \"{context_msg}\\n\"\n",
    "    \"------------\\n\"\n",
    "    \"Given the new context, refine the original answer to better \"\n",
    "    \"answer the query. \"\n",
    "    \"If the context isn't useful, return the original answer.\\n\"\n",
    "    \"Refined Answer: \"\n",
    ")\n",
    "DEFAULT_REFINE_PROMPT = PromptTemplate(\n",
    "    DEFAULT_REFINE_PROMPT_TMPL, prompt_type=PromptType.REFINE\n",
    ")"
   ]
  },
  {
   "cell_type": "markdown",
   "metadata": {
    "id": "hUmfWt0LK42q"
   },
   "source": [
    "In the cell below, we can see the LLM has been called multiple times."
   ]
  },
  {
   "cell_type": "code",
   "execution_count": null,
   "metadata": {
    "colab": {
     "base_uri": "https://localhost:8080/"
    },
    "executionInfo": {
     "elapsed": 370203,
     "status": "ok",
     "timestamp": 1706098564069,
     "user": {
      "displayName": "Thomas Pernet",
      "userId": "12184844431429654860"
     },
     "user_tz": -60
    },
    "id": "pCwtqUvfqeYy",
    "outputId": "75d99cbd-c6af-438e-ea2f-4df1e11fc9d7"
   },
   "outputs": [],
   "source": [
    "refine_summarize = Refine(\n",
    "    text_qa_template = DEFAULT_TEXT_QA_PROMPT1,\n",
    "    refine_template = DEFAULT_REFINE_PROMPT,\n",
    "    service_context=service_context_with_splitter\n",
    "    )\n",
    "### Step 5: combine everything\n",
    "query_engine = RetrieverQueryEngine.from_args(\n",
    "    retriever_base,\n",
    "    service_context=service_context_with_splitter,\n",
    "    #node_postprocessors=[similarity_postprocessor],\n",
    "    response_synthesizer= refine_summarize\n",
    "    )\n",
    "\n",
    "### Step 6 extract answer\n",
    "print(question)\n",
    "response = query_engine.query(question)\n",
    "print(response)"
   ]
  },
  {
   "cell_type": "markdown",
   "metadata": {
    "id": "R_LfuCuoqnQL"
   },
   "source": [
    "### Tree summarizer\n",
    "\n",
    "The `TreeSummarize` class is responsible for building a summarized response by recursively merging text chunks in a bottom-up fashion, similar to constructing a tree from leaves to the root. It does:\n",
    "\n",
    "Build a tree index over the candidate nodes, starting with a summary prompt seeded with the query\n",
    "\n",
    "How it works\n",
    " 1. It takes a query and a sequence of text chunks as input.\n",
    " 2. It starts by repacking the text chunks so that each chunk fits within the context window of the language model (LLM).\n",
    " 3. If there is only one text chunk, it generates a final response directly from that chunk.\n",
    " 4. If there are multiple text chunks, it proceeds to summarize each individual chunk.\n",
    " 5. For each chunk, it uses a template to format the context information and the query.\n",
    " 6. It then sends the formatted context and query to the LLM to generate a summary.\n",
    " 7. If an output class is specified, it parses the summary into the desired format.\n",
    " 8. It recursively repeats the summarization process with the generated summaries until there is only one final response left.\n",
    "    1. All summary fits in the context length of the LLm\n",
    " 9. The final summarized response is returned.\n",
    "\n",
    "pros\n",
    "- Comprehensive Summarization: The TreeSummarize class aims to provide a comprehensive and coherent response by summarizing multiple text chunks in a hierarchical manner. It ensures that information from various sources is effectively integrated into the final response.\n",
    "- Enhanced Answer Quality: Similar to the Refine Summarizer, the TreeSummarize class focuses on iterative summarization, which can lead to higher answer quality as it refines and consolidates information step by step\n",
    "\n",
    "cons\n",
    "- Resource-Intensive: The iterative process, involving multiple LLM calls, can be resource-intensive and slower than simpler methods.\n",
    "- Possible Information Loss: In the hierarchical summarization process, there is a risk of losing some fine-grained details or nuances as information is condensed and merged from multiple sources.\n",
    "\n",
    "In summary, the `TreeSummarize` class is designed to create a coherent and comprehensive response by summarizing text chunks in a hierarchical manner, ensuring that the final response integrates information from multiple sources effectively.\n",
    "\n",
    "\n",
    "Below is the source code to find the default values for the prompt\n",
    "\n",
    "- https://github.com/run-llama/llama_index/blob/main/llama_index/response_synthesizers/tree_summarize.py\n",
    "- https://github.com/run-llama/llama_index/blob/main/llama_index/prompts/default_prompt_selectors.py#L27\n"
   ]
  },
  {
   "cell_type": "code",
   "execution_count": null,
   "metadata": {
    "id": "8cmYJw6yqea0"
   },
   "outputs": [],
   "source": [
    "from llama_index.response_synthesizers import TreeSummarize"
   ]
  },
  {
   "cell_type": "code",
   "execution_count": null,
   "metadata": {
    "id": "G6jjRq6tqedO"
   },
   "outputs": [],
   "source": [
    "DEFAULT_TREE_SUMMARIZE_TMPL = (\n",
    "    \"Context information from multiple sources is below.\\n\"\n",
    "    \"---------------------\\n\"\n",
    "    \"{context_str}\\n\"\n",
    "    \"---------------------\\n\"\n",
    "    \"Given the information from multiple sources and not prior knowledge, \"\n",
    "    \"answer the query.\\n\"\n",
    "    \"Query: {query_str}\\n\"\n",
    "    \"Answer: \"\n",
    ")\n",
    "DEFAULT_TREE_SUMMARIZE_PROMPT = PromptTemplate(\n",
    "    DEFAULT_TREE_SUMMARIZE_TMPL, prompt_type=PromptType.SUMMARY\n",
    ")"
   ]
  },
  {
   "cell_type": "code",
   "execution_count": null,
   "metadata": {
    "colab": {
     "base_uri": "https://localhost:8080/"
    },
    "executionInfo": {
     "elapsed": 52440,
     "status": "ok",
     "timestamp": 1706098674690,
     "user": {
      "displayName": "Thomas Pernet",
      "userId": "12184844431429654860"
     },
     "user_tz": -60
    },
    "id": "zJDslASoqtDG",
    "outputId": "b81ad50f-6893-4726-f9c0-78b55f0f3dc9"
   },
   "outputs": [],
   "source": [
    "tree_summarize = TreeSummarize(\n",
    "\n",
    "    summary_template = DEFAULT_TREE_SUMMARIZE_PROMPT,\n",
    "    service_context=service_context_with_splitter\n",
    "    )\n",
    "\n",
    "### Step 5: combine everything\n",
    "query_engine = RetrieverQueryEngine.from_args(\n",
    "    retriever_base,\n",
    "    service_context=service_context_with_splitter,\n",
    "    text_qa_template = DEFAULT_TEXT_QA_PROMPT1,\n",
    "    #node_postprocessors=[similarity_postprocessor],\n",
    "    response_synthesizer= tree_summarize\n",
    "    )\n",
    "\n",
    "### Step 6 extract answer\n",
    "print(question)\n",
    "response = query_engine.query(question)\n",
    "print(response)"
   ]
  },
  {
   "attachments": {
    "ef25db01-10da-472b-8b37-514362766332.png": {
     "image/png": "[encoded data removed]"
    }
   },
   "cell_type": "markdown",
   "metadata": {},
   "source": [
    "## Summary RAG strategy\n",
    "\n",
    "![image.png](attachment:ef25db01-10da-472b-8b37-514362766332.png)\n",
    "\n",
    "- Bottom Left (Quick and Straightforward Retrieval):\n",
    "   - Strategy: Basic Retriever, Similarity Postprocessor (threshold: 0.8), Simple Response Synthesizer\n",
    "   - Explanation: This approach is designed for rapid retrieval with low computational overhead. It quickly identifies relevant nodes and produces straightforward responses without intricate processing.\n",
    "- Top Right (Comprehensive and Meticulous Analysis):\n",
    "   - Strategy: Fusion Retriever, LLM Reranker, Tree Summarizer\n",
    "   - Explanation: This setup prioritizes comprehensive analysis and depth of information. It integrates diverse retrieval methods, scrutinizes the relevance of content with an LLM, and constructs a well-structured and detailed response through a hierarchical summarization process.\n",
    "- Bottom Right (Efficient Precision):\n",
    "   - Strategy: Fusion Retriever, Embedding Optimizer, Refine Response Synthesizer\n",
    "   - Explanation: Focused on delivering precise and contextually relevant results efficiently, this strategy combines the strengths of fusion retrieval and sentence-level optimization, and further refines the responses for clarity and relevance.\n",
    "- Top Left (In-Depth Precision and Insights):\n",
    "   - Strategy: Fusion Retriever, Embedding Optimizer, Tree Summarizer\n",
    "   - Explanation: This approach offers meticulous precision and in-depth insights, suitable for complex queries requiring comprehensive analysis. It leverages the fusion retriever for a broad search scope, refines at a sentence level for precision, and employs a tree summarizer to weave a detailed and coherent narrative from multiple sources."
   ]
  },
  {
   "cell_type": "markdown",
   "metadata": {
    "id": "XpKWK8s0tqnE"
   },
   "source": [
    "# Metadata search\n",
    "\n",
    "Metadata plays a pivotal role in the process of identifying the most relevant nodes of information. However, there are instances where we already possess insights into the potential location of a response, achieved through a practice known as metadata filtering.\n",
    "\n",
    "In our example, we have three distinct metadata categories that serve as valuable filters:\n",
    "\n",
    "- Industry\n",
    "- Business Interest\n",
    "- Business Community\n",
    "\n",
    "These metadata values, which were generated earlier in this notebook, are essentially keywords that enable us to refine our search.\n",
    "\n",
    "## Basic search metadata\n",
    "\n",
    "However, it's important to be aware of certain limitations within Llama Index:\n",
    "\n",
    "1. **Date Filtering:** Llama Index does not offer support for date filtering. This means that users cannot filter information based on specific dates or time ranges, which may be essential for certain applications.\n",
    "\n",
    "2. **Single Value Per Key:** Llama Index restricts the usage of only one value per key when filtering metadata. This limitation can be a constraint in scenarios where multiple values per key are required for more nuanced and complex filtering operations.\n",
    "\n",
    "\n",
    "Source codes:\n",
    "- https://docs.llamaindex.ai/en/stable/api/llama_index.vector_stores.MetadataFilter.html\n",
    "- https://docs.llamaindex.ai/en/stable/api/llama_index.vector_stores.FilterOperator.html"
   ]
  },
  {
   "cell_type": "code",
   "execution_count": null,
   "metadata": {
    "id": "IXdzWgNXuCTZ"
   },
   "outputs": [],
   "source": [
    "from llama_index.vector_stores.types import MetadataFilters,MetadataFilter, ExactMatchFilter, FilterCondition, FilterOperator"
   ]
  },
  {
   "cell_type": "code",
   "execution_count": null,
   "metadata": {
    "colab": {
     "base_uri": "https://localhost:8080/",
     "height": 309
    },
    "executionInfo": {
     "elapsed": 22,
     "status": "ok",
     "timestamp": 1706098697871,
     "user": {
      "displayName": "Thomas Pernet",
      "userId": "12184844431429654860"
     },
     "user_tz": -60
    },
    "id": "cUwgF5zLaAnB",
    "outputId": "18c1efde-8a05-44ad-faac-93e0f5705982"
   },
   "outputs": [],
   "source": [
    "df.head(1)\n",
    "#clean_interest,clean_industry"
   ]
  },
  {
   "cell_type": "markdown",
   "metadata": {
    "id": "vqgLkS2LMwS_"
   },
   "source": [
    "We can see the most representated industries, business interest and business communities in our dataset."
   ]
  },
  {
   "cell_type": "code",
   "execution_count": null,
   "metadata": {
    "colab": {
     "base_uri": "https://localhost:8080/"
    },
    "executionInfo": {
     "elapsed": 939,
     "status": "ok",
     "timestamp": 1706098773425,
     "user": {
      "displayName": "Thomas Pernet",
      "userId": "12184844431429654860"
     },
     "user_tz": -60
    },
    "id": "4ZpRmuZ2aGsj",
    "outputId": "3a92e14e-0521-4b6b-8c29-e0779393bf27"
   },
   "outputs": [],
   "source": [
    "(\n",
    "    df\n",
    "    .explode(\"clean_industry\")['clean_industry']\n",
    "    .value_counts()\n",
    ")"
   ]
  },
  {
   "cell_type": "code",
   "execution_count": null,
   "metadata": {
    "colab": {
     "base_uri": "https://localhost:8080/"
    },
    "executionInfo": {
     "elapsed": 6,
     "status": "ok",
     "timestamp": 1706098774652,
     "user": {
      "displayName": "Thomas Pernet",
      "userId": "12184844431429654860"
     },
     "user_tz": -60
    },
    "id": "GkEadpaNaRW4",
    "outputId": "a03e70f9-09f5-424d-a2db-feacd3d27401"
   },
   "outputs": [],
   "source": [
    "(\n",
    "    df\n",
    "    .explode(\"clean_interest\")['clean_interest']\n",
    "    .value_counts()\n",
    ")"
   ]
  },
  {
   "cell_type": "code",
   "execution_count": null,
   "metadata": {
    "colab": {
     "base_uri": "https://localhost:8080/"
    },
    "executionInfo": {
     "elapsed": 5,
     "status": "ok",
     "timestamp": 1706098780620,
     "user": {
      "displayName": "Thomas Pernet",
      "userId": "12184844431429654860"
     },
     "user_tz": -60
    },
    "id": "jH5a4hTuaRgp",
    "outputId": "e990fb31-1c20-4b2e-d91c-a5352fccf3f5"
   },
   "outputs": [],
   "source": [
    "(\n",
    "    df\n",
    "    .explode(\"clean_communities\")['clean_communities']\n",
    "    .value_counts()\n",
    ")"
   ]
  },
  {
   "cell_type": "markdown",
   "metadata": {
    "id": "QrcOIotyNBGw"
   },
   "source": [
    "Let's filter the industry \"Technology\", and see how is the result"
   ]
  },
  {
   "cell_type": "code",
   "execution_count": null,
   "metadata": {
    "colab": {
     "base_uri": "https://localhost:8080/",
     "height": 160
    },
    "executionInfo": {
     "elapsed": 27243,
     "status": "ok",
     "timestamp": 1706099030869,
     "user": {
      "displayName": "Thomas Pernet",
      "userId": "12184844431429654860"
     },
     "user_tz": -60
    },
    "id": "ocH41DZWuDUa",
    "outputId": "81554db5-9103-4ffd-be32-a934e292efd9"
   },
   "outputs": [],
   "source": [
    "filters = MetadataFilters(\n",
    "    filters=[\n",
    "        MetadataFilter(\n",
    "        key=\"industry\",\n",
    "        value=\"Technology\",\n",
    "        operator=FilterOperator.EQ\n",
    "        )\n",
    "    ],\n",
    ")\n",
    "\n",
    "query_engine = index_with_splitter.as_query_engine(filters=filters)\n",
    "response = query_engine.query(question)\n",
    "response.response"
   ]
  },
  {
   "cell_type": "code",
   "execution_count": null,
   "metadata": {
    "colab": {
     "base_uri": "https://localhost:8080/"
    },
    "executionInfo": {
     "elapsed": 1119,
     "status": "ok",
     "timestamp": 1706099043028,
     "user": {
      "displayName": "Thomas Pernet",
      "userId": "12184844431429654860"
     },
     "user_tz": -60
    },
    "id": "vE3R9a7TuREy",
    "outputId": "f7e790c1-cb45-4e4f-8b7b-a9fe7783a4dd"
   },
   "outputs": [],
   "source": [
    "[response.source_nodes[i].metadata['industry'] for i in range(len(response.source_nodes))]"
   ]
  },
  {
   "cell_type": "markdown",
   "metadata": {
    "id": "Agc3oSL4uTAl"
   },
   "source": [
    "Additionally, it is feasible to apply filters to multiple metadata categories simultaneously. To achieve this, we utilize the 'MetadataFilter' multiple times. Users have the flexibility to opt for either an `AND` condition, which combines the two values, or an `OR` condition, which filters nodes based on the presence of either of the keywords."
   ]
  },
  {
   "cell_type": "code",
   "execution_count": null,
   "metadata": {
    "id": "9EkkrjcfuYCF"
   },
   "outputs": [],
   "source": [
    "filters = MetadataFilters(\n",
    "    filters=[\n",
    "        MetadataFilter(\n",
    "            key=\"industry\",\n",
    "            value=\"Technology\",\n",
    "            operator=FilterOperator.EQ\n",
    "        ),\n",
    "        MetadataFilter(\n",
    "            key=\"interest\",\n",
    "            value=\"Consumer Goods\",\n",
    "            operator=FilterOperator.EQ\n",
    "        )\n",
    "    ],\n",
    "    condition=FilterCondition.AND\n",
    ")"
   ]
  },
  {
   "cell_type": "code",
   "execution_count": null,
   "metadata": {
    "colab": {
     "base_uri": "https://localhost:8080/",
     "height": 143
    },
    "executionInfo": {
     "elapsed": 73971,
     "status": "ok",
     "timestamp": 1706099209716,
     "user": {
      "displayName": "Thomas Pernet",
      "userId": "12184844431429654860"
     },
     "user_tz": -60
    },
    "id": "6trhvqriub2e",
    "outputId": "1888a013-5e04-41c5-aeba-87b27f92ba69"
   },
   "outputs": [],
   "source": [
    "query_engine = index_with_splitter.as_query_engine(filters=filters,similarity_top_k=12)\n",
    "response = query_engine.query(question)\n",
    "response.response"
   ]
  },
  {
   "cell_type": "code",
   "execution_count": null,
   "metadata": {
    "colab": {
     "base_uri": "https://localhost:8080/"
    },
    "executionInfo": {
     "elapsed": 3,
     "status": "ok",
     "timestamp": 1706099218920,
     "user": {
      "displayName": "Thomas Pernet",
      "userId": "12184844431429654860"
     },
     "user_tz": -60
    },
    "id": "muqqdxQ0ueZn",
    "outputId": "c84259cf-d2b0-4a21-c1ee-5fac24da3093"
   },
   "outputs": [],
   "source": [
    "[response.source_nodes[i].metadata['industry'] for i in range(len(response.source_nodes))]"
   ]
  },
  {
   "cell_type": "code",
   "execution_count": null,
   "metadata": {
    "colab": {
     "base_uri": "https://localhost:8080/"
    },
    "executionInfo": {
     "elapsed": 6,
     "status": "ok",
     "timestamp": 1706099220142,
     "user": {
      "displayName": "Thomas Pernet",
      "userId": "12184844431429654860"
     },
     "user_tz": -60
    },
    "id": "xDgqdJeWbw2r",
    "outputId": "00e386c5-844a-4c50-a7c6-f48c54d5ee30"
   },
   "outputs": [],
   "source": [
    "[response.source_nodes[i].metadata['interest'] for i in range(len(response.source_nodes))]"
   ]
  },
  {
   "cell_type": "markdown",
   "metadata": {},
   "source": [
    "## Multivalues search"
   ]
  },
  {
   "cell_type": "code",
   "execution_count": null,
   "metadata": {
    "id": "NgIwVoumvPIr"
   },
   "outputs": [],
   "source": [
    "from itertools import product\n",
    "\n",
    "\n",
    "def retrieve_nodes_for_multiple_filters(filter_dict, mode='full'):\n",
    "    # Initialize an empty list to hold all retrieved nodes\n",
    "    all_nodes = []\n",
    "    seen_node_ids = set()\n",
    "\n",
    "    if mode == 'or':\n",
    "        # Original logic: Retrieve nodes for each key-value pair separately\n",
    "        for key, values in filter_dict.items():\n",
    "            for value in values:\n",
    "                filters = MetadataFilters(\n",
    "                    filters=[\n",
    "                        ExactMatchFilter(key=key, value=value)\n",
    "                    ]\n",
    "                )\n",
    "                query_engine = index_with_splitter.as_query_engine(filters=filters, similarity_top_k=10000)\n",
    "                #### Strategy full\n",
    "                nodes = query_engine.retrieve(\"full\")\n",
    "                list_ids = [node.id_ for node in nodes]\n",
    "                list_nodes = index_with_splitter.docstore.get_nodes(node_ids=list_ids)\n",
    "                all_nodes.extend(list_nodes)\n",
    "\n",
    "    elif mode == 'and':\n",
    "        # 'AND' logic: Retrieve nodes that match all key-value pairs simultaneously\n",
    "        # Generate all combinations of key-value pairs\n",
    "        all_combinations = list(product(*filter_dict.values()))\n",
    "\n",
    "        for combination in all_combinations:\n",
    "            filters = MetadataFilters(\n",
    "                filters=[\n",
    "                    MetadataFilter(key=key, value=value, operator=FilterOperator.EQ)\n",
    "                    for key, value in zip(filter_dict.keys(), combination)\n",
    "                ],\n",
    "                condition=FilterCondition.AND\n",
    "            )\n",
    "            query_engine = index_with_splitter.as_query_engine(filters=filters, similarity_top_k=10000)\n",
    "            #### Strategy full\n",
    "            nodes = query_engine.retrieve(\"full\")\n",
    "            list_ids = [node.id_ for node in nodes]\n",
    "            list_nodes = index_with_splitter.docstore.get_nodes(node_ids=list_ids)\n",
    "            all_nodes.extend(list_nodes)\n",
    "\n",
    "    else:\n",
    "        raise ValueError(\"Invalid mode. Use 'or' or 'and'.\")\n",
    "\n",
    "    # Before returning all_nodes, filter out duplicates\n",
    "    unique_nodes = [node for node in all_nodes if node.id_ not in seen_node_ids and not seen_node_ids.add(node.id_)]\n",
    "\n",
    "    ## generate the vectorStore\n",
    "    service_context_with_splitter_1 = ServiceContext.from_defaults(\n",
    "            embed_model=embed_model,\n",
    "            llm=llm,\n",
    "          #text_splitter=text_splitter\n",
    "        )\n",
    "    vector_store_temp = VectorStoreIndex(unique_nodes,service_context=service_context_with_splitter_1)\n",
    "\n",
    "    return unique_nodes, vector_store_temp\n",
    "\n"
   ]
  },
  {
   "cell_type": "code",
   "execution_count": null,
   "metadata": {
    "tags": []
   },
   "outputs": [],
   "source": [
    "(\n",
    "    df\n",
    "    .explode(\"clean_industry\")['clean_industry']\n",
    "    .value_counts()\n",
    "    .head(2)\n",
    ")"
   ]
  },
  {
   "cell_type": "code",
   "execution_count": null,
   "metadata": {
    "tags": []
   },
   "outputs": [],
   "source": [
    "(\n",
    "    df\n",
    "    .explode(\"clean_communities\")['clean_communities']\n",
    "    .value_counts()\n",
    "    .head(2)\n",
    ")"
   ]
  },
  {
   "cell_type": "code",
   "execution_count": null,
   "metadata": {},
   "outputs": [],
   "source": [
    "(\n",
    "    df\n",
    "    .explode(\"clean_communities\")\n",
    "    .loc[lambda x: x['clean_communities'].isin(['ESIL - Early Stage Investing Launchpad'])][['formatted_card']]\n",
    "\n",
    ")"
   ]
  },
  {
   "cell_type": "code",
   "execution_count": null,
   "metadata": {
    "tags": []
   },
   "outputs": [],
   "source": [
    "filter_dict = {\n",
    "    'communities': ['ESIL - Early Stage Investing Launchpad'],\n",
    "    'industry': ['Technology'],\n",
    "}"
   ]
  },
  {
   "cell_type": "code",
   "execution_count": null,
   "metadata": {
    "tags": []
   },
   "outputs": [],
   "source": [
    "vi_nodes_or,vs_nodes_or = retrieve_nodes_for_multiple_filters(filter_dict, mode='or')\n",
    "len(vs_nodes_or.docstore.docs)"
   ]
  },
  {
   "cell_type": "code",
   "execution_count": null,
   "metadata": {
    "tags": []
   },
   "outputs": [],
   "source": [
    "vi_nodes_or,vs_nodes_or = retrieve_nodes_for_multiple_filters(filter_dict, mode='and')\n",
    "len(vs_nodes_or.docstore.docs)"
   ]
  },
  {
   "cell_type": "code",
   "execution_count": null,
   "metadata": {
    "tags": []
   },
   "outputs": [],
   "source": [
    "query = \"What is the lowest ticket for the investor in the ESIL - Early Stage Investing Launchpad business community in Technology?\""
   ]
  },
  {
   "cell_type": "code",
   "execution_count": null,
   "metadata": {
    "tags": []
   },
   "outputs": [],
   "source": [
    "### No need to split again\n",
    "service_context_with_splitter_1 = ServiceContext.from_defaults(\n",
    "        embed_model=embed_model,\n",
    "        llm=llm,\n",
    "       #text_splitter=text_splitter\n",
    "    )"
   ]
  },
  {
   "cell_type": "code",
   "execution_count": null,
   "metadata": {
    "tags": []
   },
   "outputs": [],
   "source": [
    "#### perform the search\n",
    "retriever_base = vs_nodes_or.as_retriever(similarity_top_k=5)\n",
    "query_engine = RetrieverQueryEngine.from_args(\n",
    "     retriever_base,\n",
    "    service_context=service_context_with_splitter_1,\n",
    "     #text_qa_template = DEFAULT_TEXT_QA_PROMPT1,\n",
    "    )\n",
    "response = query_engine.query(query)\n",
    "print(response.response)"
   ]
  },
  {
   "cell_type": "markdown",
   "metadata": {},
   "source": [
    "## Search in document"
   ]
  },
  {
   "cell_type": "code",
   "execution_count": null,
   "metadata": {
    "tags": []
   },
   "outputs": [],
   "source": [
    "from llama_index.response_synthesizers import get_response_synthesizer"
   ]
  },
  {
   "cell_type": "code",
   "execution_count": null,
   "metadata": {},
   "outputs": [],
   "source": [
    "from llama_index.schema import  NodeWithScore\n",
    "def flatten_comprehension(matrix, remove_dup = True):\n",
    "    if remove_dup:\n",
    "        return list(set([item for row in matrix for item in row]))\n",
    "    else:\n",
    "        return [item for row in matrix for item in row]\n"
   ]
  },
  {
   "cell_type": "code",
   "execution_count": null,
   "metadata": {},
   "outputs": [],
   "source": [
    "retriever_base = vs_nodes_or.as_retriever(similarity_top_k=10)\n",
    "query_engine = RetrieverQueryEngine.from_args(\n",
    "     retriever_base,\n",
    "    service_context=service_context_with_splitter_1,\n",
    "     #text_qa_template = DEFAULT_TEXT_QA_PROMPT1,\n",
    "    )"
   ]
  },
  {
   "cell_type": "code",
   "execution_count": null,
   "metadata": {},
   "outputs": [],
   "source": [
    "query = \"XX\""
   ]
  },
  {
   "cell_type": "code",
   "execution_count": null,
   "metadata": {},
   "outputs": [],
   "source": [
    "nodes_candidates = query_engine.retrieve(query)"
   ]
  },
  {
   "cell_type": "code",
   "execution_count": null,
   "metadata": {},
   "outputs": [],
   "source": [
    "len(nodes_candidates)"
   ]
  },
  {
   "cell_type": "code",
   "execution_count": null,
   "metadata": {
    "tags": []
   },
   "outputs": [],
   "source": [
    "from statistics import mean\n",
    "def reconstruct_document(node_with_answer, nodes_candidates):\n",
    "    ### Node response\n",
    "    node_response = node_with_answer.node.id_\n",
    "    nodes_candidates_ids =  [i.node.id_ for i in nodes_candidates]\n",
    "    ### node score\n",
    "    #node_score = node_with_answer.score\n",
    "    #### List best candidates\n",
    "    node_parent = [values.node_id for key, values in node_with_answer.node.relationships.items() if key.value == '1'][0]\n",
    "    doc_ids = index_with_splitter.docstore.get_ref_doc_info(ref_doc_id = node_parent)\n",
    "    list_nodes = index_with_splitter.docstore.get_nodes(node_ids  = doc_ids.node_ids)\n",
    "    list_nodes_ids = [i.id_ for i in list_nodes]\n",
    "    #print(nodes_candidates, node_response)\n",
    "    other_candidates = [i for i in list_nodes_ids if (i in nodes_candidates_ids) & (i != node_response)]\n",
    "    append_score = [node_with_answer.score]\n",
    "    append_nodes_score = [node_with_answer]\n",
    "    append_nodes_text = [node_with_answer.node.text]\n",
    "    append_candidates_ids = [node_response]\n",
    "    for other_candidate in other_candidates:\n",
    "        r_other_candidate = [i for i in nodes_candidates if i.node.id_ == other_candidate][0]\n",
    "        append_score.append(r_other_candidate.score)\n",
    "        append_nodes_score.append(r_other_candidate)\n",
    "        append_nodes_text.append(r_other_candidate.text)\n",
    "        append_candidates_ids.append(r_other_candidate.id_)\n",
    "\n",
    "    #### List all nodes to use the document\n",
    "    append_document_score: List[NodeWithScore] = []\n",
    "    for i, node in enumerate(list_nodes):\n",
    "        append_document_score.append(NodeWithScore(node=node, score=mean(append_score)))\n",
    "\n",
    "    dic = {\n",
    "        'parent':node_parent,\n",
    "        'title':node_with_answer.node.metadata['title'],\n",
    "        'node_best_choice':node_response,\n",
    "        'node_best_choice_text':append_nodes_text,\n",
    "        'list_scores':append_score,\n",
    "        'nodes':doc_ids,\n",
    "        \"list_nodes_ids\":list_nodes_ids,\n",
    "        \"list_nodes_candidates_ids\":append_candidates_ids,\n",
    "        'list_nodes':list_nodes,\n",
    "        \"NodeWithScore\": append_nodes_score,\n",
    "        \"NodeWithScoreDocuments\":append_document_score\n",
    "    }\n",
    "\n",
    "    return dic\n",
    "\n",
    "def remove_duplicate_parents(list_of_dicts, key):\n",
    "    unique_dicts = []\n",
    "    seen_parents = set()\n",
    "\n",
    "    for d in list_of_dicts:\n",
    "        parent_value = d.get(key)  # Get the 'parent' value from the dictionary\n",
    "\n",
    "        # Check if the 'parent' value is not in the set of seen parents\n",
    "        if parent_value not in seen_parents:\n",
    "            unique_dicts.append(d)  # Add the dictionary to the unique list\n",
    "            seen_parents.add(parent_value)  # Add the 'parent' value to the set of seen parents\n",
    "\n",
    "    return unique_dicts\n"
   ]
  },
  {
   "cell_type": "code",
   "execution_count": null,
   "metadata": {},
   "outputs": [],
   "source": [
    "test = reconstruct_document(nodes_candidates[1],nodes_candidates)"
   ]
  },
  {
   "cell_type": "code",
   "execution_count": null,
   "metadata": {},
   "outputs": [],
   "source": [
    "test['NodeWithScore']"
   ]
  },
  {
   "cell_type": "code",
   "execution_count": null,
   "metadata": {},
   "outputs": [],
   "source": [
    "len(test['NodeWithScore'])"
   ]
  },
  {
   "cell_type": "code",
   "execution_count": null,
   "metadata": {},
   "outputs": [],
   "source": [
    "### Extract all documents\n",
    "all_docs = [reconstruct_document(node_with_answer = i,nodes_candidates = nodes_candidates) for i in nodes_candidates]\n",
    "all_docs_removed_dup = remove_duplicate_parents(all_docs, 'parent')"
   ]
  },
  {
   "cell_type": "code",
   "execution_count": null,
   "metadata": {},
   "outputs": [],
   "source": [
    "len(all_docs)"
   ]
  },
  {
   "cell_type": "code",
   "execution_count": null,
   "metadata": {},
   "outputs": [],
   "source": [
    "[i['title'] for i in all_docs]"
   ]
  },
  {
   "cell_type": "code",
   "execution_count": null,
   "metadata": {},
   "outputs": [],
   "source": [
    "len(all_docs_removed_dup)"
   ]
  },
  {
   "cell_type": "code",
   "execution_count": null,
   "metadata": {},
   "outputs": [],
   "source": [
    "[i['title'] for i in all_docs_removed_dup]"
   ]
  },
  {
   "cell_type": "code",
   "execution_count": null,
   "metadata": {},
   "outputs": [],
   "source": [
    "[print(i.text) for i in all_docs_removed_dup[1]['list_nodes']]"
   ]
  },
  {
   "cell_type": "markdown",
   "metadata": {},
   "source": [
    "Select document or nodes"
   ]
  },
  {
   "cell_type": "code",
   "execution_count": null,
   "metadata": {},
   "outputs": [],
   "source": [
    "list_full_nodes_responce = flatten_comprehension([i['NodeWithScore'] for i in all_docs_removed_dup], remove_dup = False)"
   ]
  },
  {
   "cell_type": "markdown",
   "metadata": {},
   "source": [
    "### Test"
   ]
  },
  {
   "cell_type": "code",
   "execution_count": null,
   "metadata": {},
   "outputs": [],
   "source": [
    "len(list_full_nodes_responce)"
   ]
  },
  {
   "cell_type": "code",
   "execution_count": null,
   "metadata": {},
   "outputs": [],
   "source": [
    "retriever_base = index_with_splitter.as_retriever(similarity_top_k=30)\n",
    "\n",
    "### filter nodes with lower score\n",
    "sentence_embedding_postprocessor = SentenceEmbeddingOptimizer(\n",
    "    embed_model=service_context_with_splitter.embed_model,\n",
    "    percentile_cutoff=0.92,\n",
    "    #threshold_cutoff=0.86\n",
    ")\n",
    "\n",
    "### Step 3: Define how to process the retriver an the answer\n",
    "query_engine = RetrieverQueryEngine.from_args(\n",
    "    retriever_base,\n",
    "    service_context=service_context_with_splitter,\n",
    "    node_postprocessors=[sentence_embedding_postprocessor],\n",
    "    # response synthesizer args\n",
    "    response_mode =  ResponseMode.SIMPLE_SUMMARIZE,\n",
    "    text_qa_template = DEFAULT_TEXT_QA_PROMPT1,\n",
    "    response_synthesizer = None\n",
    "    )\n",
    "\n",
    "### Step 4: Get the answer\n",
    "print(question)\n",
    "response = query_engine.query(question)\n",
    "print(response)"
   ]
  },
  {
   "cell_type": "code",
   "execution_count": null,
   "metadata": {},
   "outputs": [],
   "source": [
    "DEFAULT_REFINE_PROMPT = \"\"\"\n",
    "The original query is as follows: {query_str}\n",
    "We have provided an existing answer: {existing_answer}\n",
    "We have the opportunity to refine the existing answer\n",
    "(only if needed) with some more context below\n",
    "------------\n",
    "{context_msg}\n",
    "------------\n",
    "Given the new context, refine the original answer to better\n",
    "answer the query.\n",
    "If the context isn't useful, return the original answer\n",
    "Refined Answer:\n",
    "\"\"\""
   ]
  },
  {
   "cell_type": "code",
   "execution_count": null,
   "metadata": {},
   "outputs": [],
   "source": [
    "from llama_index.prompts import SelectorPromptTemplate"
   ]
  },
  {
   "cell_type": "code",
   "execution_count": null,
   "metadata": {},
   "outputs": [],
   "source": [
    "def get_refine_synthesizer(prompt):\n",
    "    DEFAULT_REFINE_PROMPT_TMPL = PromptTemplate(\n",
    "    prompt, prompt_type=PromptType.REFINE\n",
    ")\n",
    "    DEFAULT_REFINE_PROMPT_SEL = SelectorPromptTemplate(\n",
    "    default_template=DEFAULT_REFINE_PROMPT_TMPL\n",
    ")\n",
    "    return DEFAULT_REFINE_PROMPT_SEL"
   ]
  },
  {
   "cell_type": "code",
   "execution_count": null,
   "metadata": {},
   "outputs": [],
   "source": [
    "# Function to get the SentenceEmbeddingOptimizer\n",
    "def get_sentence_embedding_optimizer(percentile_cutoff):\n",
    "    return SentenceEmbeddingOptimizer(\n",
    "        embed_model=service_context_with_splitter.embed_model,\n",
    "        percentile_cutoff=percentile_cutoff\n",
    "    )\n"
   ]
  },
  {
   "cell_type": "code",
   "execution_count": null,
   "metadata": {},
   "outputs": [],
   "source": [
    "# service_context_with_splitter\n",
    "retriever = index_with_splitter.as_retriever(similarity_top_k=10)"
   ]
  },
  {
   "cell_type": "code",
   "execution_count": null,
   "metadata": {},
   "outputs": [],
   "source": [
    "postprocessor = get_sentence_embedding_optimizer(.8)"
   ]
  },
  {
   "cell_type": "code",
   "execution_count": null,
   "metadata": {},
   "outputs": [],
   "source": [
    "query_engine = RetrieverQueryEngine.from_args(\n",
    "                retriever,\n",
    "                service_context=service_context_with_splitter,\n",
    "                node_postprocessors=[postprocessor],\n",
    "                response_mode=ResponseMode.SIMPLE_SUMMARIZE,\n",
    "    #text_qa_template = DEFAULT_TEXT_QA_PROMPT1,\n",
    "    #response_synthesizer = None\n",
    "            )"
   ]
  },
  {
   "cell_type": "code",
   "execution_count": null,
   "metadata": {},
   "outputs": [],
   "source": [
    "from llama_index.schema import NodeWithScore, QueryBundle"
   ]
  },
  {
   "cell_type": "code",
   "execution_count": null,
   "metadata": {},
   "outputs": [],
   "source": [
    "results = query_engine.retrieve(QueryBundle(question))"
   ]
  },
  {
   "cell_type": "code",
   "execution_count": null,
   "metadata": {},
   "outputs": [],
   "source": [
    "## We generate the answers on all the nodes within the collection\n",
    "_response_synthesizer = get_response_synthesizer(\n",
    "            service_context=service_context_with_splitter_1,\n",
    "            callback_manager=None,\n",
    "            response_mode = ResponseMode.REFINE,\n",
    "    refine_template = get_refine_synthesizer(DEFAULT_REFINE_PROMPT)\n",
    "            #text_qa_template = DEFAULT_TEXT_QA_PROMPT1,\n",
    "        )\n",
    "response = _response_synthesizer.synthesize(\n",
    "    query=query,\n",
    "    nodes=list_full_nodes_responce\n",
    ")\n",
    "[print(i, '\\n') for i in response.response.split('.')]"
   ]
  }
 ],
 "metadata": {
  "accelerator": "GPU",
  "colab": {
   "authorship_tag": "ABX9TyPtW4Acbb5EDjopomeRCh9v",
   "gpuType": "T4",
   "provenance": [],
   "toc_visible": true
  },
  "kernelspec": {
   "display_name": "llama_index",
   "language": "python",
   "name": "llama_index"
  },
  "language_info": {
   "codemirror_mode": {
    "name": "ipython",
    "version": 3
   },
   "file_extension": ".py",
   "mimetype": "text/x-python",
   "name": "python",
   "nbconvert_exporter": "python",
   "pygments_lexer": "ipython3",
   "version": "3.8.18"
  },
  "widgets": {
   "application/vnd.jupyter.widget-state+json": {
    "009097ea2c2c46b3a406dd398a200e07": {
     "model_module": "@jupyter-widgets/base",
     "model_module_version": "1.2.0",
     "model_name": "LayoutModel",
     "state": {
      "_model_module": "@jupyter-widgets/base",
      "_model_module_version": "1.2.0",
      "_model_name": "LayoutModel",
      "_view_count": null,
      "_view_module": "@jupyter-widgets/base",
      "_view_module_version": "1.2.0",
      "_view_name": "LayoutView",
      "align_content": null,
      "align_items": null,
      "align_self": null,
      "border": null,
      "bottom": null,
      "display": null,
      "flex": null,
      "flex_flow": null,
      "grid_area": null,
      "grid_auto_columns": null,
      "grid_auto_flow": null,
      "grid_auto_rows": null,
      "grid_column": null,
      "grid_gap": null,
      "grid_row": null,
      "grid_template_areas": null,
      "grid_template_columns": null,
      "grid_template_rows": null,
      "height": null,
      "justify_content": null,
      "justify_items": null,
      "left": null,
      "margin": null,
      "max_height": null,
      "max_width": null,
      "min_height": null,
      "min_width": null,
      "object_fit": null,
      "object_position": null,
      "order": null,
      "overflow": null,
      "overflow_x": null,
      "overflow_y": null,
      "padding": null,
      "right": null,
      "top": null,
      "visibility": null,
      "width": null
     }
    },
    "00cf0bb3b649425c9152ac76630c482d": {
     "model_module": "@jupyter-widgets/base",
     "model_module_version": "1.2.0",
     "model_name": "LayoutModel",
     "state": {
      "_model_module": "@jupyter-widgets/base",
      "_model_module_version": "1.2.0",
      "_model_name": "LayoutModel",
      "_view_count": null,
      "_view_module": "@jupyter-widgets/base",
      "_view_module_version": "1.2.0",
      "_view_name": "LayoutView",
      "align_content": null,
      "align_items": null,
      "align_self": null,
      "border": null,
      "bottom": null,
      "display": null,
      "flex": null,
      "flex_flow": null,
      "grid_area": null,
      "grid_auto_columns": null,
      "grid_auto_flow": null,
      "grid_auto_rows": null,
      "grid_column": null,
      "grid_gap": null,
      "grid_row": null,
      "grid_template_areas": null,
      "grid_template_columns": null,
      "grid_template_rows": null,
      "height": null,
      "justify_content": null,
      "justify_items": null,
      "left": null,
      "margin": null,
      "max_height": null,
      "max_width": null,
      "min_height": null,
      "min_width": null,
      "object_fit": null,
      "object_position": null,
      "order": null,
      "overflow": null,
      "overflow_x": null,
      "overflow_y": null,
      "padding": null,
      "right": null,
      "top": null,
      "visibility": null,
      "width": null
     }
    },
    "03402be3c0cc4e3da4ac00e2b644ebb2": {
     "model_module": "@jupyter-widgets/controls",
     "model_module_version": "1.5.0",
     "model_name": "HTMLModel",
     "state": {
      "_dom_classes": [],
      "_model_module": "@jupyter-widgets/controls",
      "_model_module_version": "1.5.0",
      "_model_name": "HTMLModel",
      "_view_count": null,
      "_view_module": "@jupyter-widgets/controls",
      "_view_module_version": "1.5.0",
      "_view_name": "HTMLView",
      "description": "",
      "description_tooltip": null,
      "layout": "IPY_MODEL_d9f42b968a6e49ea8f8b17f15e0c27ed",
      "placeholder": "​",
      "style": "IPY_MODEL_f222945cafa74c0f99079d03397b8ea6",
      "value": "model-00002-of-00003.safetensors: 100%"
     }
    },
    "09eda2ddb2f24c1082d30beb7ae463c8": {
     "model_module": "@jupyter-widgets/controls",
     "model_module_version": "1.5.0",
     "model_name": "FloatProgressModel",
     "state": {
      "_dom_classes": [],
      "_model_module": "@jupyter-widgets/controls",
      "_model_module_version": "1.5.0",
      "_model_name": "FloatProgressModel",
      "_view_count": null,
      "_view_module": "@jupyter-widgets/controls",
      "_view_module_version": "1.5.0",
      "_view_name": "ProgressView",
      "bar_style": "success",
      "description": "",
      "description_tooltip": null,
      "layout": "IPY_MODEL_cd84f8ded0734a9f8f63bf4ff5745e92",
      "max": 90888945,
      "min": 0,
      "orientation": "horizontal",
      "style": "IPY_MODEL_82f9acc9fabe49c18cafe64bc35121cc",
      "value": 90888945
     }
    },
    "0a2a476708204e15af1bbafadd2fa6fd": {
     "model_module": "@jupyter-widgets/base",
     "model_module_version": "1.2.0",
     "model_name": "LayoutModel",
     "state": {
      "_model_module": "@jupyter-widgets/base",
      "_model_module_version": "1.2.0",
      "_model_name": "LayoutModel",
      "_view_count": null,
      "_view_module": "@jupyter-widgets/base",
      "_view_module_version": "1.2.0",
      "_view_name": "LayoutView",
      "align_content": null,
      "align_items": null,
      "align_self": null,
      "border": null,
      "bottom": null,
      "display": null,
      "flex": null,
      "flex_flow": null,
      "grid_area": null,
      "grid_auto_columns": null,
      "grid_auto_flow": null,
      "grid_auto_rows": null,
      "grid_column": null,
      "grid_gap": null,
      "grid_row": null,
      "grid_template_areas": null,
      "grid_template_columns": null,
      "grid_template_rows": null,
      "height": null,
      "justify_content": null,
      "justify_items": null,
      "left": null,
      "margin": null,
      "max_height": null,
      "max_width": null,
      "min_height": null,
      "min_width": null,
      "object_fit": null,
      "object_position": null,
      "order": null,
      "overflow": null,
      "overflow_x": null,
      "overflow_y": null,
      "padding": null,
      "right": null,
      "top": null,
      "visibility": null,
      "width": null
     }
    },
    "0bfaf396463b4d088aafcf072bc629f8": {
     "model_module": "@jupyter-widgets/base",
     "model_module_version": "1.2.0",
     "model_name": "LayoutModel",
     "state": {
      "_model_module": "@jupyter-widgets/base",
      "_model_module_version": "1.2.0",
      "_model_name": "LayoutModel",
      "_view_count": null,
      "_view_module": "@jupyter-widgets/base",
      "_view_module_version": "1.2.0",
      "_view_name": "LayoutView",
      "align_content": null,
      "align_items": null,
      "align_self": null,
      "border": null,
      "bottom": null,
      "display": null,
      "flex": null,
      "flex_flow": null,
      "grid_area": null,
      "grid_auto_columns": null,
      "grid_auto_flow": null,
      "grid_auto_rows": null,
      "grid_column": null,
      "grid_gap": null,
      "grid_row": null,
      "grid_template_areas": null,
      "grid_template_columns": null,
      "grid_template_rows": null,
      "height": null,
      "justify_content": null,
      "justify_items": null,
      "left": null,
      "margin": null,
      "max_height": null,
      "max_width": null,
      "min_height": null,
      "min_width": null,
      "object_fit": null,
      "object_position": null,
      "order": null,
      "overflow": null,
      "overflow_x": null,
      "overflow_y": null,
      "padding": null,
      "right": null,
      "top": null,
      "visibility": null,
      "width": null
     }
    },
    "0ed768bbfb0d47b58a04285c218f9b4d": {
     "model_module": "@jupyter-widgets/base",
     "model_module_version": "1.2.0",
     "model_name": "LayoutModel",
     "state": {
      "_model_module": "@jupyter-widgets/base",
      "_model_module_version": "1.2.0",
      "_model_name": "LayoutModel",
      "_view_count": null,
      "_view_module": "@jupyter-widgets/base",
      "_view_module_version": "1.2.0",
      "_view_name": "LayoutView",
      "align_content": null,
      "align_items": null,
      "align_self": null,
      "border": null,
      "bottom": null,
      "display": null,
      "flex": null,
      "flex_flow": null,
      "grid_area": null,
      "grid_auto_columns": null,
      "grid_auto_flow": null,
      "grid_auto_rows": null,
      "grid_column": null,
      "grid_gap": null,
      "grid_row": null,
      "grid_template_areas": null,
      "grid_template_columns": null,
      "grid_template_rows": null,
      "height": null,
      "justify_content": null,
      "justify_items": null,
      "left": null,
      "margin": null,
      "max_height": null,
      "max_width": null,
      "min_height": null,
      "min_width": null,
      "object_fit": null,
      "object_position": null,
      "order": null,
      "overflow": null,
      "overflow_x": null,
      "overflow_y": null,
      "padding": null,
      "right": null,
      "top": null,
      "visibility": null,
      "width": null
     }
    },
    "1415e2bc5ecc43d1b54431cf2d7bf86e": {
     "model_module": "@jupyter-widgets/base",
     "model_module_version": "1.2.0",
     "model_name": "LayoutModel",
     "state": {
      "_model_module": "@jupyter-widgets/base",
      "_model_module_version": "1.2.0",
      "_model_name": "LayoutModel",
      "_view_count": null,
      "_view_module": "@jupyter-widgets/base",
      "_view_module_version": "1.2.0",
      "_view_name": "LayoutView",
      "align_content": null,
      "align_items": null,
      "align_self": null,
      "border": null,
      "bottom": null,
      "display": null,
      "flex": null,
      "flex_flow": null,
      "grid_area": null,
      "grid_auto_columns": null,
      "grid_auto_flow": null,
      "grid_auto_rows": null,
      "grid_column": null,
      "grid_gap": null,
      "grid_row": null,
      "grid_template_areas": null,
      "grid_template_columns": null,
      "grid_template_rows": null,
      "height": null,
      "justify_content": null,
      "justify_items": null,
      "left": null,
      "margin": null,
      "max_height": null,
      "max_width": null,
      "min_height": null,
      "min_width": null,
      "object_fit": null,
      "object_position": null,
      "order": null,
      "overflow": null,
      "overflow_x": null,
      "overflow_y": null,
      "padding": null,
      "right": null,
      "top": null,
      "visibility": null,
      "width": null
     }
    },
    "14b2054428d945eb9b90f20462c73557": {
     "model_module": "@jupyter-widgets/controls",
     "model_module_version": "1.5.0",
     "model_name": "HBoxModel",
     "state": {
      "_dom_classes": [],
      "_model_module": "@jupyter-widgets/controls",
      "_model_module_version": "1.5.0",
      "_model_name": "HBoxModel",
      "_view_count": null,
      "_view_module": "@jupyter-widgets/controls",
      "_view_module_version": "1.5.0",
      "_view_name": "HBoxView",
      "box_style": "",
      "children": [
       "IPY_MODEL_e6749126264b4d9da81ac2dd8310e290",
       "IPY_MODEL_cd449e751eb4493ab7e0fc6cdf9c707b",
       "IPY_MODEL_fefa75b78563471eb1644064166cfc51"
      ],
      "layout": "IPY_MODEL_4935a85f54bd41aeacdbb0a75a5d4638"
     }
    },
    "1704d3f50d3d4ada8827261030e3e68c": {
     "model_module": "@jupyter-widgets/controls",
     "model_module_version": "1.5.0",
     "model_name": "HBoxModel",
     "state": {
      "_dom_classes": [],
      "_model_module": "@jupyter-widgets/controls",
      "_model_module_version": "1.5.0",
      "_model_name": "HBoxModel",
      "_view_count": null,
      "_view_module": "@jupyter-widgets/controls",
      "_view_module_version": "1.5.0",
      "_view_name": "HBoxView",
      "box_style": "",
      "children": [
       "IPY_MODEL_4d4f6b51456a45df95390bf5e508b37c",
       "IPY_MODEL_1f0c1042dd734f5aa61a4e10eb3c9933",
       "IPY_MODEL_c02b5d3363bd4406b9787bb621b50b3d"
      ],
      "layout": "IPY_MODEL_1a8b3013427e47c08cb40fc730683248"
     }
    },
    "176471f09ecb46eb9c664b024382eab6": {
     "model_module": "@jupyter-widgets/controls",
     "model_module_version": "1.5.0",
     "model_name": "HTMLModel",
     "state": {
      "_dom_classes": [],
      "_model_module": "@jupyter-widgets/controls",
      "_model_module_version": "1.5.0",
      "_model_name": "HTMLModel",
      "_view_count": null,
      "_view_module": "@jupyter-widgets/controls",
      "_view_module_version": "1.5.0",
      "_view_name": "HTMLView",
      "description": "",
      "description_tooltip": null,
      "layout": "IPY_MODEL_985c4243ccf140b78456480a4f5af3bd",
      "placeholder": "​",
      "style": "IPY_MODEL_325349b8e882439696c977fa9ecfbcfe",
      "value": "tokenizer_config.json: 100%"
     }
    },
    "18242c28358f49af8480699fdf2aea76": {
     "model_module": "@jupyter-widgets/controls",
     "model_module_version": "1.5.0",
     "model_name": "HTMLModel",
     "state": {
      "_dom_classes": [],
      "_model_module": "@jupyter-widgets/controls",
      "_model_module_version": "1.5.0",
      "_model_name": "HTMLModel",
      "_view_count": null,
      "_view_module": "@jupyter-widgets/controls",
      "_view_module_version": "1.5.0",
      "_view_name": "HTMLView",
      "description": "",
      "description_tooltip": null,
      "layout": "IPY_MODEL_1fbb5df8bc2d4bf8bb67857526c629bd",
      "placeholder": "​",
      "style": "IPY_MODEL_5df8de8a443c4df68e38b972cca8e9db",
      "value": "model-00001-of-00003.safetensors: 100%"
     }
    },
    "184e3da22f0d42b3b59a9315dd64658c": {
     "model_module": "@jupyter-widgets/controls",
     "model_module_version": "1.5.0",
     "model_name": "HTMLModel",
     "state": {
      "_dom_classes": [],
      "_model_module": "@jupyter-widgets/controls",
      "_model_module_version": "1.5.0",
      "_model_name": "HTMLModel",
      "_view_count": null,
      "_view_module": "@jupyter-widgets/controls",
      "_view_module_version": "1.5.0",
      "_view_name": "HTMLView",
      "description": "",
      "description_tooltip": null,
      "layout": "IPY_MODEL_e04bb049434c4023813b394aa7ee3ac1",
      "placeholder": "​",
      "style": "IPY_MODEL_c73f6f12a69744e0a873f102917265ea",
      "value": " 3/3 [01:14&lt;00:00, 24.36s/it]"
     }
    },
    "1a8b3013427e47c08cb40fc730683248": {
     "model_module": "@jupyter-widgets/base",
     "model_module_version": "1.2.0",
     "model_name": "LayoutModel",
     "state": {
      "_model_module": "@jupyter-widgets/base",
      "_model_module_version": "1.2.0",
      "_model_name": "LayoutModel",
      "_view_count": null,
      "_view_module": "@jupyter-widgets/base",
      "_view_module_version": "1.2.0",
      "_view_name": "LayoutView",
      "align_content": null,
      "align_items": null,
      "align_self": null,
      "border": null,
      "bottom": null,
      "display": null,
      "flex": null,
      "flex_flow": null,
      "grid_area": null,
      "grid_auto_columns": null,
      "grid_auto_flow": null,
      "grid_auto_rows": null,
      "grid_column": null,
      "grid_gap": null,
      "grid_row": null,
      "grid_template_areas": null,
      "grid_template_columns": null,
      "grid_template_rows": null,
      "height": null,
      "justify_content": null,
      "justify_items": null,
      "left": null,
      "margin": null,
      "max_height": null,
      "max_width": null,
      "min_height": null,
      "min_width": null,
      "object_fit": null,
      "object_position": null,
      "order": null,
      "overflow": null,
      "overflow_x": null,
      "overflow_y": null,
      "padding": null,
      "right": null,
      "top": null,
      "visibility": null,
      "width": null
     }
    },
    "1a99f358634b49858f54ab836fc30152": {
     "model_module": "@jupyter-widgets/controls",
     "model_module_version": "1.5.0",
     "model_name": "HTMLModel",
     "state": {
      "_dom_classes": [],
      "_model_module": "@jupyter-widgets/controls",
      "_model_module_version": "1.5.0",
      "_model_name": "HTMLModel",
      "_view_count": null,
      "_view_module": "@jupyter-widgets/controls",
      "_view_module_version": "1.5.0",
      "_view_name": "HTMLView",
      "description": "",
      "description_tooltip": null,
      "layout": "IPY_MODEL_54d7c73ecb854591a5ac9350aeb0edfd",
      "placeholder": "​",
      "style": "IPY_MODEL_b62bfac304484f879727ca756964ccd0",
      "value": " 493k/493k [00:00&lt;00:00, 19.4MB/s]"
     }
    },
    "1b081205729d4f8c808ee684dc09c56a": {
     "model_module": "@jupyter-widgets/controls",
     "model_module_version": "1.5.0",
     "model_name": "DescriptionStyleModel",
     "state": {
      "_model_module": "@jupyter-widgets/controls",
      "_model_module_version": "1.5.0",
      "_model_name": "DescriptionStyleModel",
      "_view_count": null,
      "_view_module": "@jupyter-widgets/base",
      "_view_module_version": "1.2.0",
      "_view_name": "StyleView",
      "description_width": ""
     }
    },
    "1c68ef2091694f6781a3c4522d7d2e3a": {
     "model_module": "@jupyter-widgets/controls",
     "model_module_version": "1.5.0",
     "model_name": "HTMLModel",
     "state": {
      "_dom_classes": [],
      "_model_module": "@jupyter-widgets/controls",
      "_model_module_version": "1.5.0",
      "_model_name": "HTMLModel",
      "_view_count": null,
      "_view_module": "@jupyter-widgets/controls",
      "_view_module_version": "1.5.0",
      "_view_name": "HTMLView",
      "description": "",
      "description_tooltip": null,
      "layout": "IPY_MODEL_f9712d0b0b4f4d508ca5b319022d92b3",
      "placeholder": "​",
      "style": "IPY_MODEL_de464a4dd60449af8e9b722f7f51a070",
      "value": " 111/111 [00:00&lt;00:00, 8.24kB/s]"
     }
    },
    "1e105edf90784b639354bf0f11600b70": {
     "model_module": "@jupyter-widgets/controls",
     "model_module_version": "1.5.0",
     "model_name": "DescriptionStyleModel",
     "state": {
      "_model_module": "@jupyter-widgets/controls",
      "_model_module_version": "1.5.0",
      "_model_name": "DescriptionStyleModel",
      "_view_count": null,
      "_view_module": "@jupyter-widgets/base",
      "_view_module_version": "1.2.0",
      "_view_name": "StyleView",
      "description_width": ""
     }
    },
    "1e951806d6ee482b98d94438afa11561": {
     "model_module": "@jupyter-widgets/controls",
     "model_module_version": "1.5.0",
     "model_name": "DescriptionStyleModel",
     "state": {
      "_model_module": "@jupyter-widgets/controls",
      "_model_module_version": "1.5.0",
      "_model_name": "DescriptionStyleModel",
      "_view_count": null,
      "_view_module": "@jupyter-widgets/base",
      "_view_module_version": "1.2.0",
      "_view_name": "StyleView",
      "description_width": ""
     }
    },
    "1ea816a596a04099af860f303ae3730c": {
     "model_module": "@jupyter-widgets/controls",
     "model_module_version": "1.5.0",
     "model_name": "FloatProgressModel",
     "state": {
      "_dom_classes": [],
      "_model_module": "@jupyter-widgets/controls",
      "_model_module_version": "1.5.0",
      "_model_name": "FloatProgressModel",
      "_view_count": null,
      "_view_module": "@jupyter-widgets/controls",
      "_view_module_version": "1.5.0",
      "_view_name": "ProgressView",
      "bar_style": "success",
      "description": "",
      "description_tooltip": null,
      "layout": "IPY_MODEL_d4e4eeac406f46a98d9cd03aecd04678",
      "max": 4540516344,
      "min": 0,
      "orientation": "horizontal",
      "style": "IPY_MODEL_a9f6442f0d474f638e7c80099e8f9806",
      "value": 4540516344
     }
    },
    "1f0c1042dd734f5aa61a4e10eb3c9933": {
     "model_module": "@jupyter-widgets/controls",
     "model_module_version": "1.5.0",
     "model_name": "FloatProgressModel",
     "state": {
      "_dom_classes": [],
      "_model_module": "@jupyter-widgets/controls",
      "_model_module_version": "1.5.0",
      "_model_name": "FloatProgressModel",
      "_view_count": null,
      "_view_module": "@jupyter-widgets/controls",
      "_view_module_version": "1.5.0",
      "_view_name": "ProgressView",
      "bar_style": "success",
      "description": "",
      "description_tooltip": null,
      "layout": "IPY_MODEL_9e2c534ca9fc4ef3b5d7eb852ca78dd4",
      "max": 596,
      "min": 0,
      "orientation": "horizontal",
      "style": "IPY_MODEL_8e35df83bc47457e9aa9d885009978d8",
      "value": 596
     }
    },
    "1f4c00c4114e4484ba0c7a4d014474e7": {
     "model_module": "@jupyter-widgets/base",
     "model_module_version": "1.2.0",
     "model_name": "LayoutModel",
     "state": {
      "_model_module": "@jupyter-widgets/base",
      "_model_module_version": "1.2.0",
      "_model_name": "LayoutModel",
      "_view_count": null,
      "_view_module": "@jupyter-widgets/base",
      "_view_module_version": "1.2.0",
      "_view_name": "LayoutView",
      "align_content": null,
      "align_items": null,
      "align_self": null,
      "border": null,
      "bottom": null,
      "display": null,
      "flex": null,
      "flex_flow": null,
      "grid_area": null,
      "grid_auto_columns": null,
      "grid_auto_flow": null,
      "grid_auto_rows": null,
      "grid_column": null,
      "grid_gap": null,
      "grid_row": null,
      "grid_template_areas": null,
      "grid_template_columns": null,
      "grid_template_rows": null,
      "height": null,
      "justify_content": null,
      "justify_items": null,
      "left": null,
      "margin": null,
      "max_height": null,
      "max_width": null,
      "min_height": null,
      "min_width": null,
      "object_fit": null,
      "object_position": null,
      "order": null,
      "overflow": null,
      "overflow_x": null,
      "overflow_y": null,
      "padding": null,
      "right": null,
      "top": null,
      "visibility": null,
      "width": null
     }
    },
    "1fbb5df8bc2d4bf8bb67857526c629bd": {
     "model_module": "@jupyter-widgets/base",
     "model_module_version": "1.2.0",
     "model_name": "LayoutModel",
     "state": {
      "_model_module": "@jupyter-widgets/base",
      "_model_module_version": "1.2.0",
      "_model_name": "LayoutModel",
      "_view_count": null,
      "_view_module": "@jupyter-widgets/base",
      "_view_module_version": "1.2.0",
      "_view_name": "LayoutView",
      "align_content": null,
      "align_items": null,
      "align_self": null,
      "border": null,
      "bottom": null,
      "display": null,
      "flex": null,
      "flex_flow": null,
      "grid_area": null,
      "grid_auto_columns": null,
      "grid_auto_flow": null,
      "grid_auto_rows": null,
      "grid_column": null,
      "grid_gap": null,
      "grid_row": null,
      "grid_template_areas": null,
      "grid_template_columns": null,
      "grid_template_rows": null,
      "height": null,
      "justify_content": null,
      "justify_items": null,
      "left": null,
      "margin": null,
      "max_height": null,
      "max_width": null,
      "min_height": null,
      "min_width": null,
      "object_fit": null,
      "object_position": null,
      "order": null,
      "overflow": null,
      "overflow_x": null,
      "overflow_y": null,
      "padding": null,
      "right": null,
      "top": null,
      "visibility": null,
      "width": null
     }
    },
    "1fd054bc0fde4c9098c9a6a134b1063c": {
     "model_module": "@jupyter-widgets/controls",
     "model_module_version": "1.5.0",
     "model_name": "FloatProgressModel",
     "state": {
      "_dom_classes": [],
      "_model_module": "@jupyter-widgets/controls",
      "_model_module_version": "1.5.0",
      "_model_name": "FloatProgressModel",
      "_view_count": null,
      "_view_module": "@jupyter-widgets/controls",
      "_view_module_version": "1.5.0",
      "_view_name": "ProgressView",
      "bar_style": "success",
      "description": "",
      "description_tooltip": null,
      "layout": "IPY_MODEL_2ab40ff1831743c18e7048a734c67e5b",
      "max": 493443,
      "min": 0,
      "orientation": "horizontal",
      "style": "IPY_MODEL_b8630829046341cd908166d8a7fd77fe",
      "value": 493443
     }
    },
    "22456e4d77a24e5da4df63578cf3f7fe": {
     "model_module": "@jupyter-widgets/base",
     "model_module_version": "1.2.0",
     "model_name": "LayoutModel",
     "state": {
      "_model_module": "@jupyter-widgets/base",
      "_model_module_version": "1.2.0",
      "_model_name": "LayoutModel",
      "_view_count": null,
      "_view_module": "@jupyter-widgets/base",
      "_view_module_version": "1.2.0",
      "_view_name": "LayoutView",
      "align_content": null,
      "align_items": null,
      "align_self": null,
      "border": null,
      "bottom": null,
      "display": null,
      "flex": null,
      "flex_flow": null,
      "grid_area": null,
      "grid_auto_columns": null,
      "grid_auto_flow": null,
      "grid_auto_rows": null,
      "grid_column": null,
      "grid_gap": null,
      "grid_row": null,
      "grid_template_areas": null,
      "grid_template_columns": null,
      "grid_template_rows": null,
      "height": null,
      "justify_content": null,
      "justify_items": null,
      "left": null,
      "margin": null,
      "max_height": null,
      "max_width": null,
      "min_height": null,
      "min_width": null,
      "object_fit": null,
      "object_position": null,
      "order": null,
      "overflow": null,
      "overflow_x": null,
      "overflow_y": null,
      "padding": null,
      "right": null,
      "top": null,
      "visibility": null,
      "width": null
     }
    },
    "22ba9da434fd4f0aaa7cb0a02b1b8215": {
     "model_module": "@jupyter-widgets/controls",
     "model_module_version": "1.5.0",
     "model_name": "HTMLModel",
     "state": {
      "_dom_classes": [],
      "_model_module": "@jupyter-widgets/controls",
      "_model_module_version": "1.5.0",
      "_model_name": "HTMLModel",
      "_view_count": null,
      "_view_module": "@jupyter-widgets/controls",
      "_view_module_version": "1.5.0",
      "_view_name": "HTMLView",
      "description": "",
      "description_tooltip": null,
      "layout": "IPY_MODEL_1415e2bc5ecc43d1b54431cf2d7bf86e",
      "placeholder": "​",
      "style": "IPY_MODEL_4f4d9d34386c40dfbe0e140947d0b959",
      "value": " 5.00G/5.00G [01:23&lt;00:00, 46.8MB/s]"
     }
    },
    "250e143ceffa451c88b3085311f09a53": {
     "model_module": "@jupyter-widgets/base",
     "model_module_version": "1.2.0",
     "model_name": "LayoutModel",
     "state": {
      "_model_module": "@jupyter-widgets/base",
      "_model_module_version": "1.2.0",
      "_model_name": "LayoutModel",
      "_view_count": null,
      "_view_module": "@jupyter-widgets/base",
      "_view_module_version": "1.2.0",
      "_view_name": "LayoutView",
      "align_content": null,
      "align_items": null,
      "align_self": null,
      "border": null,
      "bottom": null,
      "display": null,
      "flex": null,
      "flex_flow": null,
      "grid_area": null,
      "grid_auto_columns": null,
      "grid_auto_flow": null,
      "grid_auto_rows": null,
      "grid_column": null,
      "grid_gap": null,
      "grid_row": null,
      "grid_template_areas": null,
      "grid_template_columns": null,
      "grid_template_rows": null,
      "height": null,
      "justify_content": null,
      "justify_items": null,
      "left": null,
      "margin": null,
      "max_height": null,
      "max_width": null,
      "min_height": null,
      "min_width": null,
      "object_fit": null,
      "object_position": null,
      "order": null,
      "overflow": null,
      "overflow_x": null,
      "overflow_y": null,
      "padding": null,
      "right": null,
      "top": null,
      "visibility": null,
      "width": null
     }
    },
    "28f6526d3b614cca8ff09c74d9abc135": {
     "model_module": "@jupyter-widgets/controls",
     "model_module_version": "1.5.0",
     "model_name": "DescriptionStyleModel",
     "state": {
      "_model_module": "@jupyter-widgets/controls",
      "_model_module_version": "1.5.0",
      "_model_name": "DescriptionStyleModel",
      "_view_count": null,
      "_view_module": "@jupyter-widgets/base",
      "_view_module_version": "1.2.0",
      "_view_name": "StyleView",
      "description_width": ""
     }
    },
    "294fa6b108d7407abcaba939ab7cf6ad": {
     "model_module": "@jupyter-widgets/controls",
     "model_module_version": "1.5.0",
     "model_name": "DescriptionStyleModel",
     "state": {
      "_model_module": "@jupyter-widgets/controls",
      "_model_module_version": "1.5.0",
      "_model_name": "DescriptionStyleModel",
      "_view_count": null,
      "_view_module": "@jupyter-widgets/base",
      "_view_module_version": "1.2.0",
      "_view_name": "StyleView",
      "description_width": ""
     }
    },
    "2981f02bc35f4b648bb0becbbb5b637a": {
     "model_module": "@jupyter-widgets/controls",
     "model_module_version": "1.5.0",
     "model_name": "HBoxModel",
     "state": {
      "_dom_classes": [],
      "_model_module": "@jupyter-widgets/controls",
      "_model_module_version": "1.5.0",
      "_model_name": "HBoxModel",
      "_view_count": null,
      "_view_module": "@jupyter-widgets/controls",
      "_view_module_version": "1.5.0",
      "_view_name": "HBoxView",
      "box_style": "",
      "children": [
       "IPY_MODEL_94345f79de9f4862aebebc87e2d5e246",
       "IPY_MODEL_bfefcb99043b47e7b97934c08cac90c6",
       "IPY_MODEL_870d9320381f4468953126b5a24bf749"
      ],
      "layout": "IPY_MODEL_c8d9b26953d245ff8d75d5c0c0148f3f"
     }
    },
    "2ab40ff1831743c18e7048a734c67e5b": {
     "model_module": "@jupyter-widgets/base",
     "model_module_version": "1.2.0",
     "model_name": "LayoutModel",
     "state": {
      "_model_module": "@jupyter-widgets/base",
      "_model_module_version": "1.2.0",
      "_model_name": "LayoutModel",
      "_view_count": null,
      "_view_module": "@jupyter-widgets/base",
      "_view_module_version": "1.2.0",
      "_view_name": "LayoutView",
      "align_content": null,
      "align_items": null,
      "align_self": null,
      "border": null,
      "bottom": null,
      "display": null,
      "flex": null,
      "flex_flow": null,
      "grid_area": null,
      "grid_auto_columns": null,
      "grid_auto_flow": null,
      "grid_auto_rows": null,
      "grid_column": null,
      "grid_gap": null,
      "grid_row": null,
      "grid_template_areas": null,
      "grid_template_columns": null,
      "grid_template_rows": null,
      "height": null,
      "justify_content": null,
      "justify_items": null,
      "left": null,
      "margin": null,
      "max_height": null,
      "max_width": null,
      "min_height": null,
      "min_width": null,
      "object_fit": null,
      "object_position": null,
      "order": null,
      "overflow": null,
      "overflow_x": null,
      "overflow_y": null,
      "padding": null,
      "right": null,
      "top": null,
      "visibility": null,
      "width": null
     }
    },
    "2b6b898e332247b992b94edacc369ab8": {
     "model_module": "@jupyter-widgets/controls",
     "model_module_version": "1.5.0",
     "model_name": "FloatProgressModel",
     "state": {
      "_dom_classes": [],
      "_model_module": "@jupyter-widgets/controls",
      "_model_module_version": "1.5.0",
      "_model_name": "FloatProgressModel",
      "_view_count": null,
      "_view_module": "@jupyter-widgets/controls",
      "_view_module_version": "1.5.0",
      "_view_name": "ProgressView",
      "bar_style": "success",
      "description": "",
      "description_tooltip": null,
      "layout": "IPY_MODEL_7d7b63bc41e946ef857292a73e445416",
      "max": 111,
      "min": 0,
      "orientation": "horizontal",
      "style": "IPY_MODEL_556181afb6d042349492b881e2571767",
      "value": 111
     }
    },
    "2c8d6d21e2ff424eadf4e15db907f298": {
     "model_module": "@jupyter-widgets/controls",
     "model_module_version": "1.5.0",
     "model_name": "HBoxModel",
     "state": {
      "_dom_classes": [],
      "_model_module": "@jupyter-widgets/controls",
      "_model_module_version": "1.5.0",
      "_model_name": "HBoxModel",
      "_view_count": null,
      "_view_module": "@jupyter-widgets/controls",
      "_view_module_version": "1.5.0",
      "_view_name": "HBoxView",
      "box_style": "",
      "children": [
       "IPY_MODEL_176471f09ecb46eb9c664b024382eab6",
       "IPY_MODEL_d5cb42bca7574b94a0bb8eb2964f2ff4",
       "IPY_MODEL_c4fd4b73103e4cf4a5c9419cd5e3cd01"
      ],
      "layout": "IPY_MODEL_e8772846d1ac44f49d7bc12ddedff1ef"
     }
    },
    "2e006d12291047caa5edf871a8ab1cca": {
     "model_module": "@jupyter-widgets/controls",
     "model_module_version": "1.5.0",
     "model_name": "HTMLModel",
     "state": {
      "_dom_classes": [],
      "_model_module": "@jupyter-widgets/controls",
      "_model_module_version": "1.5.0",
      "_model_name": "HTMLModel",
      "_view_count": null,
      "_view_module": "@jupyter-widgets/controls",
      "_view_module_version": "1.5.0",
      "_view_name": "HTMLView",
      "description": "",
      "description_tooltip": null,
      "layout": "IPY_MODEL_97923435a8b545a29127d4c41aed8977",
      "placeholder": "​",
      "style": "IPY_MODEL_b15f08b15f1c4e9b87925af4893683c0",
      "value": "special_tokens_map.json: 100%"
     }
    },
    "2e7a830835cc415ea04daab77eb1a3fd": {
     "model_module": "@jupyter-widgets/controls",
     "model_module_version": "1.5.0",
     "model_name": "DescriptionStyleModel",
     "state": {
      "_model_module": "@jupyter-widgets/controls",
      "_model_module_version": "1.5.0",
      "_model_name": "DescriptionStyleModel",
      "_view_count": null,
      "_view_module": "@jupyter-widgets/base",
      "_view_module_version": "1.2.0",
      "_view_name": "StyleView",
      "description_width": ""
     }
    },
    "3025de5cd61b4c79abef6f88b4c5dc8d": {
     "model_module": "@jupyter-widgets/controls",
     "model_module_version": "1.5.0",
     "model_name": "HTMLModel",
     "state": {
      "_dom_classes": [],
      "_model_module": "@jupyter-widgets/controls",
      "_model_module_version": "1.5.0",
      "_model_name": "HTMLModel",
      "_view_count": null,
      "_view_module": "@jupyter-widgets/controls",
      "_view_module_version": "1.5.0",
      "_view_name": "HTMLView",
      "description": "",
      "description_tooltip": null,
      "layout": "IPY_MODEL_597c2a2ab9824a2db41f7386de63b16a",
      "placeholder": "​",
      "style": "IPY_MODEL_c7f3af1b1c8b42a2889edb7213ecb605",
      "value": " 1.80M/1.80M [00:00&lt;00:00, 7.94MB/s]"
     }
    },
    "3195e701137e425fbb46c9fdc27f90d0": {
     "model_module": "@jupyter-widgets/base",
     "model_module_version": "1.2.0",
     "model_name": "LayoutModel",
     "state": {
      "_model_module": "@jupyter-widgets/base",
      "_model_module_version": "1.2.0",
      "_model_name": "LayoutModel",
      "_view_count": null,
      "_view_module": "@jupyter-widgets/base",
      "_view_module_version": "1.2.0",
      "_view_name": "LayoutView",
      "align_content": null,
      "align_items": null,
      "align_self": null,
      "border": null,
      "bottom": null,
      "display": null,
      "flex": null,
      "flex_flow": null,
      "grid_area": null,
      "grid_auto_columns": null,
      "grid_auto_flow": null,
      "grid_auto_rows": null,
      "grid_column": null,
      "grid_gap": null,
      "grid_row": null,
      "grid_template_areas": null,
      "grid_template_columns": null,
      "grid_template_rows": null,
      "height": null,
      "justify_content": null,
      "justify_items": null,
      "left": null,
      "margin": null,
      "max_height": null,
      "max_width": null,
      "min_height": null,
      "min_width": null,
      "object_fit": null,
      "object_position": null,
      "order": null,
      "overflow": null,
      "overflow_x": null,
      "overflow_y": null,
      "padding": null,
      "right": null,
      "top": null,
      "visibility": null,
      "width": null
     }
    },
    "325349b8e882439696c977fa9ecfbcfe": {
     "model_module": "@jupyter-widgets/controls",
     "model_module_version": "1.5.0",
     "model_name": "DescriptionStyleModel",
     "state": {
      "_model_module": "@jupyter-widgets/controls",
      "_model_module_version": "1.5.0",
      "_model_name": "DescriptionStyleModel",
      "_view_count": null,
      "_view_module": "@jupyter-widgets/base",
      "_view_module_version": "1.2.0",
      "_view_name": "StyleView",
      "description_width": ""
     }
    },
    "332d126e2ead4907be7e9aab4baf2ecf": {
     "model_module": "@jupyter-widgets/controls",
     "model_module_version": "1.5.0",
     "model_name": "DescriptionStyleModel",
     "state": {
      "_model_module": "@jupyter-widgets/controls",
      "_model_module_version": "1.5.0",
      "_model_name": "DescriptionStyleModel",
      "_view_count": null,
      "_view_module": "@jupyter-widgets/base",
      "_view_module_version": "1.2.0",
      "_view_name": "StyleView",
      "description_width": ""
     }
    },
    "33d8d0105ed44269bd133fc31e73b64e": {
     "model_module": "@jupyter-widgets/controls",
     "model_module_version": "1.5.0",
     "model_name": "DescriptionStyleModel",
     "state": {
      "_model_module": "@jupyter-widgets/controls",
      "_model_module_version": "1.5.0",
      "_model_name": "DescriptionStyleModel",
      "_view_count": null,
      "_view_module": "@jupyter-widgets/base",
      "_view_module_version": "1.2.0",
      "_view_name": "StyleView",
      "description_width": ""
     }
    },
    "37347ad986984a4fb2579c9158d62acb": {
     "model_module": "@jupyter-widgets/controls",
     "model_module_version": "1.5.0",
     "model_name": "ProgressStyleModel",
     "state": {
      "_model_module": "@jupyter-widgets/controls",
      "_model_module_version": "1.5.0",
      "_model_name": "ProgressStyleModel",
      "_view_count": null,
      "_view_module": "@jupyter-widgets/base",
      "_view_module_version": "1.2.0",
      "_view_name": "StyleView",
      "bar_color": null,
      "description_width": ""
     }
    },
    "3a89734604a7482eaf079ee269a66c27": {
     "model_module": "@jupyter-widgets/controls",
     "model_module_version": "1.5.0",
     "model_name": "DescriptionStyleModel",
     "state": {
      "_model_module": "@jupyter-widgets/controls",
      "_model_module_version": "1.5.0",
      "_model_name": "DescriptionStyleModel",
      "_view_count": null,
      "_view_module": "@jupyter-widgets/base",
      "_view_module_version": "1.2.0",
      "_view_name": "StyleView",
      "description_width": ""
     }
    },
    "3af814e558a94f00bdff3549c4b5b6f5": {
     "model_module": "@jupyter-widgets/controls",
     "model_module_version": "1.5.0",
     "model_name": "DescriptionStyleModel",
     "state": {
      "_model_module": "@jupyter-widgets/controls",
      "_model_module_version": "1.5.0",
      "_model_name": "DescriptionStyleModel",
      "_view_count": null,
      "_view_module": "@jupyter-widgets/base",
      "_view_module_version": "1.2.0",
      "_view_name": "StyleView",
      "description_width": ""
     }
    },
    "3c3423dbb7d14b439dbb1c8fe58d2db9": {
     "model_module": "@jupyter-widgets/base",
     "model_module_version": "1.2.0",
     "model_name": "LayoutModel",
     "state": {
      "_model_module": "@jupyter-widgets/base",
      "_model_module_version": "1.2.0",
      "_model_name": "LayoutModel",
      "_view_count": null,
      "_view_module": "@jupyter-widgets/base",
      "_view_module_version": "1.2.0",
      "_view_name": "LayoutView",
      "align_content": null,
      "align_items": null,
      "align_self": null,
      "border": null,
      "bottom": null,
      "display": null,
      "flex": null,
      "flex_flow": null,
      "grid_area": null,
      "grid_auto_columns": null,
      "grid_auto_flow": null,
      "grid_auto_rows": null,
      "grid_column": null,
      "grid_gap": null,
      "grid_row": null,
      "grid_template_areas": null,
      "grid_template_columns": null,
      "grid_template_rows": null,
      "height": null,
      "justify_content": null,
      "justify_items": null,
      "left": null,
      "margin": null,
      "max_height": null,
      "max_width": null,
      "min_height": null,
      "min_width": null,
      "object_fit": null,
      "object_position": null,
      "order": null,
      "overflow": null,
      "overflow_x": null,
      "overflow_y": null,
      "padding": null,
      "right": null,
      "top": null,
      "visibility": null,
      "width": null
     }
    },
    "3cdecea831db4539b8605722bf5cab62": {
     "model_module": "@jupyter-widgets/controls",
     "model_module_version": "1.5.0",
     "model_name": "ProgressStyleModel",
     "state": {
      "_model_module": "@jupyter-widgets/controls",
      "_model_module_version": "1.5.0",
      "_model_name": "ProgressStyleModel",
      "_view_count": null,
      "_view_module": "@jupyter-widgets/base",
      "_view_module_version": "1.2.0",
      "_view_name": "StyleView",
      "bar_color": null,
      "description_width": ""
     }
    },
    "404ab87cd7fb478cb4ca3eda00d46d54": {
     "model_module": "@jupyter-widgets/controls",
     "model_module_version": "1.5.0",
     "model_name": "DescriptionStyleModel",
     "state": {
      "_model_module": "@jupyter-widgets/controls",
      "_model_module_version": "1.5.0",
      "_model_name": "DescriptionStyleModel",
      "_view_count": null,
      "_view_module": "@jupyter-widgets/base",
      "_view_module_version": "1.2.0",
      "_view_name": "StyleView",
      "description_width": ""
     }
    },
    "438db4f67ebc4561a4243fe9db670dcb": {
     "model_module": "@jupyter-widgets/base",
     "model_module_version": "1.2.0",
     "model_name": "LayoutModel",
     "state": {
      "_model_module": "@jupyter-widgets/base",
      "_model_module_version": "1.2.0",
      "_model_name": "LayoutModel",
      "_view_count": null,
      "_view_module": "@jupyter-widgets/base",
      "_view_module_version": "1.2.0",
      "_view_name": "LayoutView",
      "align_content": null,
      "align_items": null,
      "align_self": null,
      "border": null,
      "bottom": null,
      "display": null,
      "flex": null,
      "flex_flow": null,
      "grid_area": null,
      "grid_auto_columns": null,
      "grid_auto_flow": null,
      "grid_auto_rows": null,
      "grid_column": null,
      "grid_gap": null,
      "grid_row": null,
      "grid_template_areas": null,
      "grid_template_columns": null,
      "grid_template_rows": null,
      "height": null,
      "justify_content": null,
      "justify_items": null,
      "left": null,
      "margin": null,
      "max_height": null,
      "max_width": null,
      "min_height": null,
      "min_width": null,
      "object_fit": null,
      "object_position": null,
      "order": null,
      "overflow": null,
      "overflow_x": null,
      "overflow_y": null,
      "padding": null,
      "right": null,
      "top": null,
      "visibility": null,
      "width": null
     }
    },
    "43e73b3686904271af130f1498371fe1": {
     "model_module": "@jupyter-widgets/controls",
     "model_module_version": "1.5.0",
     "model_name": "FloatProgressModel",
     "state": {
      "_dom_classes": [],
      "_model_module": "@jupyter-widgets/controls",
      "_model_module_version": "1.5.0",
      "_model_name": "FloatProgressModel",
      "_view_count": null,
      "_view_module": "@jupyter-widgets/controls",
      "_view_module_version": "1.5.0",
      "_view_name": "ProgressView",
      "bar_style": "success",
      "description": "",
      "description_tooltip": null,
      "layout": "IPY_MODEL_789923a060f64eef8bbb9e83c11c6420",
      "max": 231508,
      "min": 0,
      "orientation": "horizontal",
      "style": "IPY_MODEL_fc4cb7e594484b9fa4aadf817e0a8536",
      "value": 231508
     }
    },
    "48b1908998b24b4c89b1493afa1a7a03": {
     "model_module": "@jupyter-widgets/base",
     "model_module_version": "1.2.0",
     "model_name": "LayoutModel",
     "state": {
      "_model_module": "@jupyter-widgets/base",
      "_model_module_version": "1.2.0",
      "_model_name": "LayoutModel",
      "_view_count": null,
      "_view_module": "@jupyter-widgets/base",
      "_view_module_version": "1.2.0",
      "_view_name": "LayoutView",
      "align_content": null,
      "align_items": null,
      "align_self": null,
      "border": null,
      "bottom": null,
      "display": null,
      "flex": null,
      "flex_flow": null,
      "grid_area": null,
      "grid_auto_columns": null,
      "grid_auto_flow": null,
      "grid_auto_rows": null,
      "grid_column": null,
      "grid_gap": null,
      "grid_row": null,
      "grid_template_areas": null,
      "grid_template_columns": null,
      "grid_template_rows": null,
      "height": null,
      "justify_content": null,
      "justify_items": null,
      "left": null,
      "margin": null,
      "max_height": null,
      "max_width": null,
      "min_height": null,
      "min_width": null,
      "object_fit": null,
      "object_position": null,
      "order": null,
      "overflow": null,
      "overflow_x": null,
      "overflow_y": null,
      "padding": null,
      "right": null,
      "top": null,
      "visibility": null,
      "width": null
     }
    },
    "4935a85f54bd41aeacdbb0a75a5d4638": {
     "model_module": "@jupyter-widgets/base",
     "model_module_version": "1.2.0",
     "model_name": "LayoutModel",
     "state": {
      "_model_module": "@jupyter-widgets/base",
      "_model_module_version": "1.2.0",
      "_model_name": "LayoutModel",
      "_view_count": null,
      "_view_module": "@jupyter-widgets/base",
      "_view_module_version": "1.2.0",
      "_view_name": "LayoutView",
      "align_content": null,
      "align_items": null,
      "align_self": null,
      "border": null,
      "bottom": null,
      "display": null,
      "flex": null,
      "flex_flow": null,
      "grid_area": null,
      "grid_auto_columns": null,
      "grid_auto_flow": null,
      "grid_auto_rows": null,
      "grid_column": null,
      "grid_gap": null,
      "grid_row": null,
      "grid_template_areas": null,
      "grid_template_columns": null,
      "grid_template_rows": null,
      "height": null,
      "justify_content": null,
      "justify_items": null,
      "left": null,
      "margin": null,
      "max_height": null,
      "max_width": null,
      "min_height": null,
      "min_width": null,
      "object_fit": null,
      "object_position": null,
      "order": null,
      "overflow": null,
      "overflow_x": null,
      "overflow_y": null,
      "padding": null,
      "right": null,
      "top": null,
      "visibility": null,
      "width": null
     }
    },
    "4a0bfb833cb6463b89d00ae4b7e9a44c": {
     "model_module": "@jupyter-widgets/controls",
     "model_module_version": "1.5.0",
     "model_name": "HTMLModel",
     "state": {
      "_dom_classes": [],
      "_model_module": "@jupyter-widgets/controls",
      "_model_module_version": "1.5.0",
      "_model_name": "HTMLModel",
      "_view_count": null,
      "_view_module": "@jupyter-widgets/controls",
      "_view_module_version": "1.5.0",
      "_view_name": "HTMLView",
      "description": "",
      "description_tooltip": null,
      "layout": "IPY_MODEL_0a2a476708204e15af1bbafadd2fa6fd",
      "placeholder": "​",
      "style": "IPY_MODEL_6ce88b29d0f94333a2dda4abd3e4c165",
      "value": " 4.54G/4.54G [01:09&lt;00:00, 145MB/s]"
     }
    },
    "4d4f6b51456a45df95390bf5e508b37c": {
     "model_module": "@jupyter-widgets/controls",
     "model_module_version": "1.5.0",
     "model_name": "HTMLModel",
     "state": {
      "_dom_classes": [],
      "_model_module": "@jupyter-widgets/controls",
      "_model_module_version": "1.5.0",
      "_model_name": "HTMLModel",
      "_view_count": null,
      "_view_module": "@jupyter-widgets/controls",
      "_view_module_version": "1.5.0",
      "_view_name": "HTMLView",
      "description": "",
      "description_tooltip": null,
      "layout": "IPY_MODEL_ac8d9f457ed843068e0458cfd81cb43c",
      "placeholder": "​",
      "style": "IPY_MODEL_d94ea4a55d59466f962f128b41859767",
      "value": "config.json: 100%"
     }
    },
    "4f4d9d34386c40dfbe0e140947d0b959": {
     "model_module": "@jupyter-widgets/controls",
     "model_module_version": "1.5.0",
     "model_name": "DescriptionStyleModel",
     "state": {
      "_model_module": "@jupyter-widgets/controls",
      "_model_module_version": "1.5.0",
      "_model_name": "DescriptionStyleModel",
      "_view_count": null,
      "_view_module": "@jupyter-widgets/base",
      "_view_module_version": "1.2.0",
      "_view_name": "StyleView",
      "description_width": ""
     }
    },
    "4f68e068868a43739e5d5e634ea0a47e": {
     "model_module": "@jupyter-widgets/controls",
     "model_module_version": "1.5.0",
     "model_name": "ProgressStyleModel",
     "state": {
      "_model_module": "@jupyter-widgets/controls",
      "_model_module_version": "1.5.0",
      "_model_name": "ProgressStyleModel",
      "_view_count": null,
      "_view_module": "@jupyter-widgets/base",
      "_view_module_version": "1.2.0",
      "_view_name": "StyleView",
      "bar_color": null,
      "description_width": ""
     }
    },
    "4fb16fc3c08d47eeb2c4ed39db27be47": {
     "model_module": "@jupyter-widgets/controls",
     "model_module_version": "1.5.0",
     "model_name": "ProgressStyleModel",
     "state": {
      "_model_module": "@jupyter-widgets/controls",
      "_model_module_version": "1.5.0",
      "_model_name": "ProgressStyleModel",
      "_view_count": null,
      "_view_module": "@jupyter-widgets/base",
      "_view_module_version": "1.2.0",
      "_view_name": "StyleView",
      "bar_color": null,
      "description_width": ""
     }
    },
    "4ff40ccf7e0a4de987e1c03e401bd701": {
     "model_module": "@jupyter-widgets/base",
     "model_module_version": "1.2.0",
     "model_name": "LayoutModel",
     "state": {
      "_model_module": "@jupyter-widgets/base",
      "_model_module_version": "1.2.0",
      "_model_name": "LayoutModel",
      "_view_count": null,
      "_view_module": "@jupyter-widgets/base",
      "_view_module_version": "1.2.0",
      "_view_name": "LayoutView",
      "align_content": null,
      "align_items": null,
      "align_self": null,
      "border": null,
      "bottom": null,
      "display": null,
      "flex": null,
      "flex_flow": null,
      "grid_area": null,
      "grid_auto_columns": null,
      "grid_auto_flow": null,
      "grid_auto_rows": null,
      "grid_column": null,
      "grid_gap": null,
      "grid_row": null,
      "grid_template_areas": null,
      "grid_template_columns": null,
      "grid_template_rows": null,
      "height": null,
      "justify_content": null,
      "justify_items": null,
      "left": null,
      "margin": null,
      "max_height": null,
      "max_width": null,
      "min_height": null,
      "min_width": null,
      "object_fit": null,
      "object_position": null,
      "order": null,
      "overflow": null,
      "overflow_x": null,
      "overflow_y": null,
      "padding": null,
      "right": null,
      "top": null,
      "visibility": null,
      "width": null
     }
    },
    "5023468da7f04e0f98c3861349d8003e": {
     "model_module": "@jupyter-widgets/base",
     "model_module_version": "1.2.0",
     "model_name": "LayoutModel",
     "state": {
      "_model_module": "@jupyter-widgets/base",
      "_model_module_version": "1.2.0",
      "_model_name": "LayoutModel",
      "_view_count": null,
      "_view_module": "@jupyter-widgets/base",
      "_view_module_version": "1.2.0",
      "_view_name": "LayoutView",
      "align_content": null,
      "align_items": null,
      "align_self": null,
      "border": null,
      "bottom": null,
      "display": null,
      "flex": null,
      "flex_flow": null,
      "grid_area": null,
      "grid_auto_columns": null,
      "grid_auto_flow": null,
      "grid_auto_rows": null,
      "grid_column": null,
      "grid_gap": null,
      "grid_row": null,
      "grid_template_areas": null,
      "grid_template_columns": null,
      "grid_template_rows": null,
      "height": null,
      "justify_content": null,
      "justify_items": null,
      "left": null,
      "margin": null,
      "max_height": null,
      "max_width": null,
      "min_height": null,
      "min_width": null,
      "object_fit": null,
      "object_position": null,
      "order": null,
      "overflow": null,
      "overflow_x": null,
      "overflow_y": null,
      "padding": null,
      "right": null,
      "top": null,
      "visibility": null,
      "width": null
     }
    },
    "528ed3aa2bba4295b0284bac5020d65e": {
     "model_module": "@jupyter-widgets/controls",
     "model_module_version": "1.5.0",
     "model_name": "DescriptionStyleModel",
     "state": {
      "_model_module": "@jupyter-widgets/controls",
      "_model_module_version": "1.5.0",
      "_model_name": "DescriptionStyleModel",
      "_view_count": null,
      "_view_module": "@jupyter-widgets/base",
      "_view_module_version": "1.2.0",
      "_view_name": "StyleView",
      "description_width": ""
     }
    },
    "52e8474009794f39aad6c0f279923238": {
     "model_module": "@jupyter-widgets/base",
     "model_module_version": "1.2.0",
     "model_name": "LayoutModel",
     "state": {
      "_model_module": "@jupyter-widgets/base",
      "_model_module_version": "1.2.0",
      "_model_name": "LayoutModel",
      "_view_count": null,
      "_view_module": "@jupyter-widgets/base",
      "_view_module_version": "1.2.0",
      "_view_name": "LayoutView",
      "align_content": null,
      "align_items": null,
      "align_self": null,
      "border": null,
      "bottom": null,
      "display": null,
      "flex": null,
      "flex_flow": null,
      "grid_area": null,
      "grid_auto_columns": null,
      "grid_auto_flow": null,
      "grid_auto_rows": null,
      "grid_column": null,
      "grid_gap": null,
      "grid_row": null,
      "grid_template_areas": null,
      "grid_template_columns": null,
      "grid_template_rows": null,
      "height": null,
      "justify_content": null,
      "justify_items": null,
      "left": null,
      "margin": null,
      "max_height": null,
      "max_width": null,
      "min_height": null,
      "min_width": null,
      "object_fit": null,
      "object_position": null,
      "order": null,
      "overflow": null,
      "overflow_x": null,
      "overflow_y": null,
      "padding": null,
      "right": null,
      "top": null,
      "visibility": null,
      "width": null
     }
    },
    "530b76008d2b47e1bd1ae1bb98f60231": {
     "model_module": "@jupyter-widgets/controls",
     "model_module_version": "1.5.0",
     "model_name": "DescriptionStyleModel",
     "state": {
      "_model_module": "@jupyter-widgets/controls",
      "_model_module_version": "1.5.0",
      "_model_name": "DescriptionStyleModel",
      "_view_count": null,
      "_view_module": "@jupyter-widgets/base",
      "_view_module_version": "1.2.0",
      "_view_name": "StyleView",
      "description_width": ""
     }
    },
    "54b9ab3c7ad947ce916313689820b600": {
     "model_module": "@jupyter-widgets/controls",
     "model_module_version": "1.5.0",
     "model_name": "HTMLModel",
     "state": {
      "_dom_classes": [],
      "_model_module": "@jupyter-widgets/controls",
      "_model_module_version": "1.5.0",
      "_model_name": "HTMLModel",
      "_view_count": null,
      "_view_module": "@jupyter-widgets/controls",
      "_view_module_version": "1.5.0",
      "_view_name": "HTMLView",
      "description": "",
      "description_tooltip": null,
      "layout": "IPY_MODEL_f2c90a2b9b8b4369860dc8bfbf57076e",
      "placeholder": "​",
      "style": "IPY_MODEL_530b76008d2b47e1bd1ae1bb98f60231",
      "value": " 72.0/72.0 [00:00&lt;00:00, 2.81kB/s]"
     }
    },
    "54d7c73ecb854591a5ac9350aeb0edfd": {
     "model_module": "@jupyter-widgets/base",
     "model_module_version": "1.2.0",
     "model_name": "LayoutModel",
     "state": {
      "_model_module": "@jupyter-widgets/base",
      "_model_module_version": "1.2.0",
      "_model_name": "LayoutModel",
      "_view_count": null,
      "_view_module": "@jupyter-widgets/base",
      "_view_module_version": "1.2.0",
      "_view_name": "LayoutView",
      "align_content": null,
      "align_items": null,
      "align_self": null,
      "border": null,
      "bottom": null,
      "display": null,
      "flex": null,
      "flex_flow": null,
      "grid_area": null,
      "grid_auto_columns": null,
      "grid_auto_flow": null,
      "grid_auto_rows": null,
      "grid_column": null,
      "grid_gap": null,
      "grid_row": null,
      "grid_template_areas": null,
      "grid_template_columns": null,
      "grid_template_rows": null,
      "height": null,
      "justify_content": null,
      "justify_items": null,
      "left": null,
      "margin": null,
      "max_height": null,
      "max_width": null,
      "min_height": null,
      "min_width": null,
      "object_fit": null,
      "object_position": null,
      "order": null,
      "overflow": null,
      "overflow_x": null,
      "overflow_y": null,
      "padding": null,
      "right": null,
      "top": null,
      "visibility": null,
      "width": null
     }
    },
    "554b711d8eaf4aa8ba021ea07cf0969a": {
     "model_module": "@jupyter-widgets/base",
     "model_module_version": "1.2.0",
     "model_name": "LayoutModel",
     "state": {
      "_model_module": "@jupyter-widgets/base",
      "_model_module_version": "1.2.0",
      "_model_name": "LayoutModel",
      "_view_count": null,
      "_view_module": "@jupyter-widgets/base",
      "_view_module_version": "1.2.0",
      "_view_name": "LayoutView",
      "align_content": null,
      "align_items": null,
      "align_self": null,
      "border": null,
      "bottom": null,
      "display": null,
      "flex": null,
      "flex_flow": null,
      "grid_area": null,
      "grid_auto_columns": null,
      "grid_auto_flow": null,
      "grid_auto_rows": null,
      "grid_column": null,
      "grid_gap": null,
      "grid_row": null,
      "grid_template_areas": null,
      "grid_template_columns": null,
      "grid_template_rows": null,
      "height": null,
      "justify_content": null,
      "justify_items": null,
      "left": null,
      "margin": null,
      "max_height": null,
      "max_width": null,
      "min_height": null,
      "min_width": null,
      "object_fit": null,
      "object_position": null,
      "order": null,
      "overflow": null,
      "overflow_x": null,
      "overflow_y": null,
      "padding": null,
      "right": null,
      "top": null,
      "visibility": null,
      "width": null
     }
    },
    "556181afb6d042349492b881e2571767": {
     "model_module": "@jupyter-widgets/controls",
     "model_module_version": "1.5.0",
     "model_name": "ProgressStyleModel",
     "state": {
      "_model_module": "@jupyter-widgets/controls",
      "_model_module_version": "1.5.0",
      "_model_name": "ProgressStyleModel",
      "_view_count": null,
      "_view_module": "@jupyter-widgets/base",
      "_view_module_version": "1.2.0",
      "_view_name": "StyleView",
      "bar_color": null,
      "description_width": ""
     }
    },
    "55f1ff79df554ae6bbc35db9f20834c6": {
     "model_module": "@jupyter-widgets/base",
     "model_module_version": "1.2.0",
     "model_name": "LayoutModel",
     "state": {
      "_model_module": "@jupyter-widgets/base",
      "_model_module_version": "1.2.0",
      "_model_name": "LayoutModel",
      "_view_count": null,
      "_view_module": "@jupyter-widgets/base",
      "_view_module_version": "1.2.0",
      "_view_name": "LayoutView",
      "align_content": null,
      "align_items": null,
      "align_self": null,
      "border": null,
      "bottom": null,
      "display": null,
      "flex": null,
      "flex_flow": null,
      "grid_area": null,
      "grid_auto_columns": null,
      "grid_auto_flow": null,
      "grid_auto_rows": null,
      "grid_column": null,
      "grid_gap": null,
      "grid_row": null,
      "grid_template_areas": null,
      "grid_template_columns": null,
      "grid_template_rows": null,
      "height": null,
      "justify_content": null,
      "justify_items": null,
      "left": null,
      "margin": null,
      "max_height": null,
      "max_width": null,
      "min_height": null,
      "min_width": null,
      "object_fit": null,
      "object_position": null,
      "order": null,
      "overflow": null,
      "overflow_x": null,
      "overflow_y": null,
      "padding": null,
      "right": null,
      "top": null,
      "visibility": null,
      "width": null
     }
    },
    "597c2a2ab9824a2db41f7386de63b16a": {
     "model_module": "@jupyter-widgets/base",
     "model_module_version": "1.2.0",
     "model_name": "LayoutModel",
     "state": {
      "_model_module": "@jupyter-widgets/base",
      "_model_module_version": "1.2.0",
      "_model_name": "LayoutModel",
      "_view_count": null,
      "_view_module": "@jupyter-widgets/base",
      "_view_module_version": "1.2.0",
      "_view_name": "LayoutView",
      "align_content": null,
      "align_items": null,
      "align_self": null,
      "border": null,
      "bottom": null,
      "display": null,
      "flex": null,
      "flex_flow": null,
      "grid_area": null,
      "grid_auto_columns": null,
      "grid_auto_flow": null,
      "grid_auto_rows": null,
      "grid_column": null,
      "grid_gap": null,
      "grid_row": null,
      "grid_template_areas": null,
      "grid_template_columns": null,
      "grid_template_rows": null,
      "height": null,
      "justify_content": null,
      "justify_items": null,
      "left": null,
      "margin": null,
      "max_height": null,
      "max_width": null,
      "min_height": null,
      "min_width": null,
      "object_fit": null,
      "object_position": null,
      "order": null,
      "overflow": null,
      "overflow_x": null,
      "overflow_y": null,
      "padding": null,
      "right": null,
      "top": null,
      "visibility": null,
      "width": null
     }
    },
    "59b56e5b31f5467bbf3787270d1efd32": {
     "model_module": "@jupyter-widgets/controls",
     "model_module_version": "1.5.0",
     "model_name": "FloatProgressModel",
     "state": {
      "_dom_classes": [],
      "_model_module": "@jupyter-widgets/controls",
      "_model_module_version": "1.5.0",
      "_model_name": "FloatProgressModel",
      "_view_count": null,
      "_view_module": "@jupyter-widgets/controls",
      "_view_module_version": "1.5.0",
      "_view_name": "ProgressView",
      "bar_style": "success",
      "description": "",
      "description_tooltip": null,
      "layout": "IPY_MODEL_ee3af3128c5a488e882a15caea29639e",
      "max": 4943162336,
      "min": 0,
      "orientation": "horizontal",
      "style": "IPY_MODEL_8601d0418be44d92ac0959646e0819f2",
      "value": 4943162336
     }
    },
    "5bbf84b9f7554b44b45ae300c2fd3477": {
     "model_module": "@jupyter-widgets/controls",
     "model_module_version": "1.5.0",
     "model_name": "HBoxModel",
     "state": {
      "_dom_classes": [],
      "_model_module": "@jupyter-widgets/controls",
      "_model_module_version": "1.5.0",
      "_model_name": "HBoxModel",
      "_view_count": null,
      "_view_module": "@jupyter-widgets/controls",
      "_view_module_version": "1.5.0",
      "_view_name": "HBoxView",
      "box_style": "",
      "children": [
       "IPY_MODEL_2e006d12291047caa5edf871a8ab1cca",
       "IPY_MODEL_9e45175502d24659b081e1453627275a",
       "IPY_MODEL_54b9ab3c7ad947ce916313689820b600"
      ],
      "layout": "IPY_MODEL_83580db20f01460babe8910ece57e00a"
     }
    },
    "5d893981f2f64ff5b0e214b7e7151d77": {
     "model_module": "@jupyter-widgets/controls",
     "model_module_version": "1.5.0",
     "model_name": "HTMLModel",
     "state": {
      "_dom_classes": [],
      "_model_module": "@jupyter-widgets/controls",
      "_model_module_version": "1.5.0",
      "_model_name": "HTMLModel",
      "_view_count": null,
      "_view_module": "@jupyter-widgets/controls",
      "_view_module_version": "1.5.0",
      "_view_name": "HTMLView",
      "description": "",
      "description_tooltip": null,
      "layout": "IPY_MODEL_1f4c00c4114e4484ba0c7a4d014474e7",
      "placeholder": "​",
      "style": "IPY_MODEL_a9605e7377144d4c89018b80d9fc22d3",
      "value": "pytorch_model.bin: 100%"
     }
    },
    "5df131cd34384574a028f8a762bac424": {
     "model_module": "@jupyter-widgets/controls",
     "model_module_version": "1.5.0",
     "model_name": "HTMLModel",
     "state": {
      "_dom_classes": [],
      "_model_module": "@jupyter-widgets/controls",
      "_model_module_version": "1.5.0",
      "_model_name": "HTMLModel",
      "_view_count": null,
      "_view_module": "@jupyter-widgets/controls",
      "_view_module_version": "1.5.0",
      "_view_name": "HTMLView",
      "description": "",
      "description_tooltip": null,
      "layout": "IPY_MODEL_703f369f1413400f8c50d7fa50081ed9",
      "placeholder": "​",
      "style": "IPY_MODEL_a72b84f943d64c8c97c1dfcd5446386c",
      "value": "tokenizer.model: 100%"
     }
    },
    "5df8de8a443c4df68e38b972cca8e9db": {
     "model_module": "@jupyter-widgets/controls",
     "model_module_version": "1.5.0",
     "model_name": "DescriptionStyleModel",
     "state": {
      "_model_module": "@jupyter-widgets/controls",
      "_model_module_version": "1.5.0",
      "_model_name": "DescriptionStyleModel",
      "_view_count": null,
      "_view_module": "@jupyter-widgets/base",
      "_view_module_version": "1.2.0",
      "_view_name": "StyleView",
      "description_width": ""
     }
    },
    "5f6ac5da2f4a4de6b141e32e0fceb0df": {
     "model_module": "@jupyter-widgets/controls",
     "model_module_version": "1.5.0",
     "model_name": "HBoxModel",
     "state": {
      "_dom_classes": [],
      "_model_module": "@jupyter-widgets/controls",
      "_model_module_version": "1.5.0",
      "_model_name": "HBoxModel",
      "_view_count": null,
      "_view_module": "@jupyter-widgets/controls",
      "_view_module_version": "1.5.0",
      "_view_name": "HBoxView",
      "box_style": "",
      "children": [
       "IPY_MODEL_84d689d769f548faa9fc3365323ad055",
       "IPY_MODEL_43e73b3686904271af130f1498371fe1",
       "IPY_MODEL_9fbee15734f04fb48589f16ba0afcd8e"
      ],
      "layout": "IPY_MODEL_99b89ffcc47044e9bcb46bd5ff5f8326"
     }
    },
    "62ada286282b4a709f0a97be76bb5a74": {
     "model_module": "@jupyter-widgets/base",
     "model_module_version": "1.2.0",
     "model_name": "LayoutModel",
     "state": {
      "_model_module": "@jupyter-widgets/base",
      "_model_module_version": "1.2.0",
      "_model_name": "LayoutModel",
      "_view_count": null,
      "_view_module": "@jupyter-widgets/base",
      "_view_module_version": "1.2.0",
      "_view_name": "LayoutView",
      "align_content": null,
      "align_items": null,
      "align_self": null,
      "border": null,
      "bottom": null,
      "display": null,
      "flex": null,
      "flex_flow": null,
      "grid_area": null,
      "grid_auto_columns": null,
      "grid_auto_flow": null,
      "grid_auto_rows": null,
      "grid_column": null,
      "grid_gap": null,
      "grid_row": null,
      "grid_template_areas": null,
      "grid_template_columns": null,
      "grid_template_rows": null,
      "height": null,
      "justify_content": null,
      "justify_items": null,
      "left": null,
      "margin": null,
      "max_height": null,
      "max_width": null,
      "min_height": null,
      "min_width": null,
      "object_fit": null,
      "object_position": null,
      "order": null,
      "overflow": null,
      "overflow_x": null,
      "overflow_y": null,
      "padding": null,
      "right": null,
      "top": null,
      "visibility": null,
      "width": null
     }
    },
    "62c05a4e04324f429fa55647ac7ff51e": {
     "model_module": "@jupyter-widgets/controls",
     "model_module_version": "1.5.0",
     "model_name": "FloatProgressModel",
     "state": {
      "_dom_classes": [],
      "_model_module": "@jupyter-widgets/controls",
      "_model_module_version": "1.5.0",
      "_model_name": "FloatProgressModel",
      "_view_count": null,
      "_view_module": "@jupyter-widgets/controls",
      "_view_module_version": "1.5.0",
      "_view_name": "ProgressView",
      "bar_style": "success",
      "description": "",
      "description_tooltip": null,
      "layout": "IPY_MODEL_6dfad769809548f699c52323ff16cdd4",
      "max": 25125,
      "min": 0,
      "orientation": "horizontal",
      "style": "IPY_MODEL_65ad8d83a6a14c9e8876c8ff5ec86670",
      "value": 25125
     }
    },
    "65ad8d83a6a14c9e8876c8ff5ec86670": {
     "model_module": "@jupyter-widgets/controls",
     "model_module_version": "1.5.0",
     "model_name": "ProgressStyleModel",
     "state": {
      "_model_module": "@jupyter-widgets/controls",
      "_model_module_version": "1.5.0",
      "_model_name": "ProgressStyleModel",
      "_view_count": null,
      "_view_module": "@jupyter-widgets/base",
      "_view_module_version": "1.2.0",
      "_view_name": "StyleView",
      "bar_color": null,
      "description_width": ""
     }
    },
    "67a769e450494d658a725bea7a0f2c08": {
     "model_module": "@jupyter-widgets/controls",
     "model_module_version": "1.5.0",
     "model_name": "DescriptionStyleModel",
     "state": {
      "_model_module": "@jupyter-widgets/controls",
      "_model_module_version": "1.5.0",
      "_model_name": "DescriptionStyleModel",
      "_view_count": null,
      "_view_module": "@jupyter-widgets/base",
      "_view_module_version": "1.2.0",
      "_view_name": "StyleView",
      "description_width": ""
     }
    },
    "67af698972744071be510e4182f4864b": {
     "model_module": "@jupyter-widgets/controls",
     "model_module_version": "1.5.0",
     "model_name": "ProgressStyleModel",
     "state": {
      "_model_module": "@jupyter-widgets/controls",
      "_model_module_version": "1.5.0",
      "_model_name": "ProgressStyleModel",
      "_view_count": null,
      "_view_module": "@jupyter-widgets/base",
      "_view_module_version": "1.2.0",
      "_view_name": "StyleView",
      "bar_color": null,
      "description_width": ""
     }
    },
    "681586af52b840f2ba2187966e176eb1": {
     "model_module": "@jupyter-widgets/base",
     "model_module_version": "1.2.0",
     "model_name": "LayoutModel",
     "state": {
      "_model_module": "@jupyter-widgets/base",
      "_model_module_version": "1.2.0",
      "_model_name": "LayoutModel",
      "_view_count": null,
      "_view_module": "@jupyter-widgets/base",
      "_view_module_version": "1.2.0",
      "_view_name": "LayoutView",
      "align_content": null,
      "align_items": null,
      "align_self": null,
      "border": null,
      "bottom": null,
      "display": null,
      "flex": null,
      "flex_flow": null,
      "grid_area": null,
      "grid_auto_columns": null,
      "grid_auto_flow": null,
      "grid_auto_rows": null,
      "grid_column": null,
      "grid_gap": null,
      "grid_row": null,
      "grid_template_areas": null,
      "grid_template_columns": null,
      "grid_template_rows": null,
      "height": null,
      "justify_content": null,
      "justify_items": null,
      "left": null,
      "margin": null,
      "max_height": null,
      "max_width": null,
      "min_height": null,
      "min_width": null,
      "object_fit": null,
      "object_position": null,
      "order": null,
      "overflow": null,
      "overflow_x": null,
      "overflow_y": null,
      "padding": null,
      "right": null,
      "top": null,
      "visibility": null,
      "width": null
     }
    },
    "6b38aa472aad4ff6b55afab71ff0081f": {
     "model_module": "@jupyter-widgets/controls",
     "model_module_version": "1.5.0",
     "model_name": "DescriptionStyleModel",
     "state": {
      "_model_module": "@jupyter-widgets/controls",
      "_model_module_version": "1.5.0",
      "_model_name": "DescriptionStyleModel",
      "_view_count": null,
      "_view_module": "@jupyter-widgets/base",
      "_view_module_version": "1.2.0",
      "_view_name": "StyleView",
      "description_width": ""
     }
    },
    "6ce88b29d0f94333a2dda4abd3e4c165": {
     "model_module": "@jupyter-widgets/controls",
     "model_module_version": "1.5.0",
     "model_name": "DescriptionStyleModel",
     "state": {
      "_model_module": "@jupyter-widgets/controls",
      "_model_module_version": "1.5.0",
      "_model_name": "DescriptionStyleModel",
      "_view_count": null,
      "_view_module": "@jupyter-widgets/base",
      "_view_module_version": "1.2.0",
      "_view_name": "StyleView",
      "description_width": ""
     }
    },
    "6dfad769809548f699c52323ff16cdd4": {
     "model_module": "@jupyter-widgets/base",
     "model_module_version": "1.2.0",
     "model_name": "LayoutModel",
     "state": {
      "_model_module": "@jupyter-widgets/base",
      "_model_module_version": "1.2.0",
      "_model_name": "LayoutModel",
      "_view_count": null,
      "_view_module": "@jupyter-widgets/base",
      "_view_module_version": "1.2.0",
      "_view_name": "LayoutView",
      "align_content": null,
      "align_items": null,
      "align_self": null,
      "border": null,
      "bottom": null,
      "display": null,
      "flex": null,
      "flex_flow": null,
      "grid_area": null,
      "grid_auto_columns": null,
      "grid_auto_flow": null,
      "grid_auto_rows": null,
      "grid_column": null,
      "grid_gap": null,
      "grid_row": null,
      "grid_template_areas": null,
      "grid_template_columns": null,
      "grid_template_rows": null,
      "height": null,
      "justify_content": null,
      "justify_items": null,
      "left": null,
      "margin": null,
      "max_height": null,
      "max_width": null,
      "min_height": null,
      "min_width": null,
      "object_fit": null,
      "object_position": null,
      "order": null,
      "overflow": null,
      "overflow_x": null,
      "overflow_y": null,
      "padding": null,
      "right": null,
      "top": null,
      "visibility": null,
      "width": null
     }
    },
    "703f369f1413400f8c50d7fa50081ed9": {
     "model_module": "@jupyter-widgets/base",
     "model_module_version": "1.2.0",
     "model_name": "LayoutModel",
     "state": {
      "_model_module": "@jupyter-widgets/base",
      "_model_module_version": "1.2.0",
      "_model_name": "LayoutModel",
      "_view_count": null,
      "_view_module": "@jupyter-widgets/base",
      "_view_module_version": "1.2.0",
      "_view_name": "LayoutView",
      "align_content": null,
      "align_items": null,
      "align_self": null,
      "border": null,
      "bottom": null,
      "display": null,
      "flex": null,
      "flex_flow": null,
      "grid_area": null,
      "grid_auto_columns": null,
      "grid_auto_flow": null,
      "grid_auto_rows": null,
      "grid_column": null,
      "grid_gap": null,
      "grid_row": null,
      "grid_template_areas": null,
      "grid_template_columns": null,
      "grid_template_rows": null,
      "height": null,
      "justify_content": null,
      "justify_items": null,
      "left": null,
      "margin": null,
      "max_height": null,
      "max_width": null,
      "min_height": null,
      "min_width": null,
      "object_fit": null,
      "object_position": null,
      "order": null,
      "overflow": null,
      "overflow_x": null,
      "overflow_y": null,
      "padding": null,
      "right": null,
      "top": null,
      "visibility": null,
      "width": null
     }
    },
    "7596b08f9bd74f319a6c5b3083479450": {
     "model_module": "@jupyter-widgets/controls",
     "model_module_version": "1.5.0",
     "model_name": "DescriptionStyleModel",
     "state": {
      "_model_module": "@jupyter-widgets/controls",
      "_model_module_version": "1.5.0",
      "_model_name": "DescriptionStyleModel",
      "_view_count": null,
      "_view_module": "@jupyter-widgets/base",
      "_view_module_version": "1.2.0",
      "_view_name": "StyleView",
      "description_width": ""
     }
    },
    "76566dd06c534690850dc6aa6d235490": {
     "model_module": "@jupyter-widgets/controls",
     "model_module_version": "1.5.0",
     "model_name": "DescriptionStyleModel",
     "state": {
      "_model_module": "@jupyter-widgets/controls",
      "_model_module_version": "1.5.0",
      "_model_name": "DescriptionStyleModel",
      "_view_count": null,
      "_view_module": "@jupyter-widgets/base",
      "_view_module_version": "1.2.0",
      "_view_name": "StyleView",
      "description_width": ""
     }
    },
    "789923a060f64eef8bbb9e83c11c6420": {
     "model_module": "@jupyter-widgets/base",
     "model_module_version": "1.2.0",
     "model_name": "LayoutModel",
     "state": {
      "_model_module": "@jupyter-widgets/base",
      "_model_module_version": "1.2.0",
      "_model_name": "LayoutModel",
      "_view_count": null,
      "_view_module": "@jupyter-widgets/base",
      "_view_module_version": "1.2.0",
      "_view_name": "LayoutView",
      "align_content": null,
      "align_items": null,
      "align_self": null,
      "border": null,
      "bottom": null,
      "display": null,
      "flex": null,
      "flex_flow": null,
      "grid_area": null,
      "grid_auto_columns": null,
      "grid_auto_flow": null,
      "grid_auto_rows": null,
      "grid_column": null,
      "grid_gap": null,
      "grid_row": null,
      "grid_template_areas": null,
      "grid_template_columns": null,
      "grid_template_rows": null,
      "height": null,
      "justify_content": null,
      "justify_items": null,
      "left": null,
      "margin": null,
      "max_height": null,
      "max_width": null,
      "min_height": null,
      "min_width": null,
      "object_fit": null,
      "object_position": null,
      "order": null,
      "overflow": null,
      "overflow_x": null,
      "overflow_y": null,
      "padding": null,
      "right": null,
      "top": null,
      "visibility": null,
      "width": null
     }
    },
    "7d7b63bc41e946ef857292a73e445416": {
     "model_module": "@jupyter-widgets/base",
     "model_module_version": "1.2.0",
     "model_name": "LayoutModel",
     "state": {
      "_model_module": "@jupyter-widgets/base",
      "_model_module_version": "1.2.0",
      "_model_name": "LayoutModel",
      "_view_count": null,
      "_view_module": "@jupyter-widgets/base",
      "_view_module_version": "1.2.0",
      "_view_name": "LayoutView",
      "align_content": null,
      "align_items": null,
      "align_self": null,
      "border": null,
      "bottom": null,
      "display": null,
      "flex": null,
      "flex_flow": null,
      "grid_area": null,
      "grid_auto_columns": null,
      "grid_auto_flow": null,
      "grid_auto_rows": null,
      "grid_column": null,
      "grid_gap": null,
      "grid_row": null,
      "grid_template_areas": null,
      "grid_template_columns": null,
      "grid_template_rows": null,
      "height": null,
      "justify_content": null,
      "justify_items": null,
      "left": null,
      "margin": null,
      "max_height": null,
      "max_width": null,
      "min_height": null,
      "min_width": null,
      "object_fit": null,
      "object_position": null,
      "order": null,
      "overflow": null,
      "overflow_x": null,
      "overflow_y": null,
      "padding": null,
      "right": null,
      "top": null,
      "visibility": null,
      "width": null
     }
    },
    "7fd5cd30508c4a7388a1b3981f613901": {
     "model_module": "@jupyter-widgets/controls",
     "model_module_version": "1.5.0",
     "model_name": "HTMLModel",
     "state": {
      "_dom_classes": [],
      "_model_module": "@jupyter-widgets/controls",
      "_model_module_version": "1.5.0",
      "_model_name": "HTMLModel",
      "_view_count": null,
      "_view_module": "@jupyter-widgets/controls",
      "_view_module_version": "1.5.0",
      "_view_name": "HTMLView",
      "description": "",
      "description_tooltip": null,
      "layout": "IPY_MODEL_a54e512d892b45ecab41976d6c340d16",
      "placeholder": "​",
      "style": "IPY_MODEL_1e105edf90784b639354bf0f11600b70",
      "value": "Downloading shards: 100%"
     }
    },
    "82f9acc9fabe49c18cafe64bc35121cc": {
     "model_module": "@jupyter-widgets/controls",
     "model_module_version": "1.5.0",
     "model_name": "ProgressStyleModel",
     "state": {
      "_model_module": "@jupyter-widgets/controls",
      "_model_module_version": "1.5.0",
      "_model_name": "ProgressStyleModel",
      "_view_count": null,
      "_view_module": "@jupyter-widgets/base",
      "_view_module_version": "1.2.0",
      "_view_name": "StyleView",
      "bar_color": null,
      "description_width": ""
     }
    },
    "83580db20f01460babe8910ece57e00a": {
     "model_module": "@jupyter-widgets/base",
     "model_module_version": "1.2.0",
     "model_name": "LayoutModel",
     "state": {
      "_model_module": "@jupyter-widgets/base",
      "_model_module_version": "1.2.0",
      "_model_name": "LayoutModel",
      "_view_count": null,
      "_view_module": "@jupyter-widgets/base",
      "_view_module_version": "1.2.0",
      "_view_name": "LayoutView",
      "align_content": null,
      "align_items": null,
      "align_self": null,
      "border": null,
      "bottom": null,
      "display": null,
      "flex": null,
      "flex_flow": null,
      "grid_area": null,
      "grid_auto_columns": null,
      "grid_auto_flow": null,
      "grid_auto_rows": null,
      "grid_column": null,
      "grid_gap": null,
      "grid_row": null,
      "grid_template_areas": null,
      "grid_template_columns": null,
      "grid_template_rows": null,
      "height": null,
      "justify_content": null,
      "justify_items": null,
      "left": null,
      "margin": null,
      "max_height": null,
      "max_width": null,
      "min_height": null,
      "min_width": null,
      "object_fit": null,
      "object_position": null,
      "order": null,
      "overflow": null,
      "overflow_x": null,
      "overflow_y": null,
      "padding": null,
      "right": null,
      "top": null,
      "visibility": null,
      "width": null
     }
    },
    "84d689d769f548faa9fc3365323ad055": {
     "model_module": "@jupyter-widgets/controls",
     "model_module_version": "1.5.0",
     "model_name": "HTMLModel",
     "state": {
      "_dom_classes": [],
      "_model_module": "@jupyter-widgets/controls",
      "_model_module_version": "1.5.0",
      "_model_name": "HTMLModel",
      "_view_count": null,
      "_view_module": "@jupyter-widgets/controls",
      "_view_module_version": "1.5.0",
      "_view_name": "HTMLView",
      "description": "",
      "description_tooltip": null,
      "layout": "IPY_MODEL_438db4f67ebc4561a4243fe9db670dcb",
      "placeholder": "​",
      "style": "IPY_MODEL_9366ed69fa3e4a40a4f69dd32c41f7cf",
      "value": "vocab.txt: 100%"
     }
    },
    "851a71702fbb4ee392ffc31021c9d71b": {
     "model_module": "@jupyter-widgets/base",
     "model_module_version": "1.2.0",
     "model_name": "LayoutModel",
     "state": {
      "_model_module": "@jupyter-widgets/base",
      "_model_module_version": "1.2.0",
      "_model_name": "LayoutModel",
      "_view_count": null,
      "_view_module": "@jupyter-widgets/base",
      "_view_module_version": "1.2.0",
      "_view_name": "LayoutView",
      "align_content": null,
      "align_items": null,
      "align_self": null,
      "border": null,
      "bottom": null,
      "display": null,
      "flex": null,
      "flex_flow": null,
      "grid_area": null,
      "grid_auto_columns": null,
      "grid_auto_flow": null,
      "grid_auto_rows": null,
      "grid_column": null,
      "grid_gap": null,
      "grid_row": null,
      "grid_template_areas": null,
      "grid_template_columns": null,
      "grid_template_rows": null,
      "height": null,
      "justify_content": null,
      "justify_items": null,
      "left": null,
      "margin": null,
      "max_height": null,
      "max_width": null,
      "min_height": null,
      "min_width": null,
      "object_fit": null,
      "object_position": null,
      "order": null,
      "overflow": null,
      "overflow_x": null,
      "overflow_y": null,
      "padding": null,
      "right": null,
      "top": null,
      "visibility": null,
      "width": null
     }
    },
    "8601d0418be44d92ac0959646e0819f2": {
     "model_module": "@jupyter-widgets/controls",
     "model_module_version": "1.5.0",
     "model_name": "ProgressStyleModel",
     "state": {
      "_model_module": "@jupyter-widgets/controls",
      "_model_module_version": "1.5.0",
      "_model_name": "ProgressStyleModel",
      "_view_count": null,
      "_view_module": "@jupyter-widgets/base",
      "_view_module_version": "1.2.0",
      "_view_name": "StyleView",
      "bar_color": null,
      "description_width": ""
     }
    },
    "870d9320381f4468953126b5a24bf749": {
     "model_module": "@jupyter-widgets/controls",
     "model_module_version": "1.5.0",
     "model_name": "HTMLModel",
     "state": {
      "_dom_classes": [],
      "_model_module": "@jupyter-widgets/controls",
      "_model_module_version": "1.5.0",
      "_model_name": "HTMLModel",
      "_view_count": null,
      "_view_module": "@jupyter-widgets/controls",
      "_view_module_version": "1.5.0",
      "_view_name": "HTMLView",
      "description": "",
      "description_tooltip": null,
      "layout": "IPY_MODEL_cdeeb4b90e054a07bb3434ad097355a1",
      "placeholder": "​",
      "style": "IPY_MODEL_28f6526d3b614cca8ff09c74d9abc135",
      "value": " 612/612 [00:00&lt;00:00, 37.5kB/s]"
     }
    },
    "8b7a83c224ec4e579fee41ae170ffcc4": {
     "model_module": "@jupyter-widgets/base",
     "model_module_version": "1.2.0",
     "model_name": "LayoutModel",
     "state": {
      "_model_module": "@jupyter-widgets/base",
      "_model_module_version": "1.2.0",
      "_model_name": "LayoutModel",
      "_view_count": null,
      "_view_module": "@jupyter-widgets/base",
      "_view_module_version": "1.2.0",
      "_view_name": "LayoutView",
      "align_content": null,
      "align_items": null,
      "align_self": null,
      "border": null,
      "bottom": null,
      "display": null,
      "flex": null,
      "flex_flow": null,
      "grid_area": null,
      "grid_auto_columns": null,
      "grid_auto_flow": null,
      "grid_auto_rows": null,
      "grid_column": null,
      "grid_gap": null,
      "grid_row": null,
      "grid_template_areas": null,
      "grid_template_columns": null,
      "grid_template_rows": null,
      "height": null,
      "justify_content": null,
      "justify_items": null,
      "left": null,
      "margin": null,
      "max_height": null,
      "max_width": null,
      "min_height": null,
      "min_width": null,
      "object_fit": null,
      "object_position": null,
      "order": null,
      "overflow": null,
      "overflow_x": null,
      "overflow_y": null,
      "padding": null,
      "right": null,
      "top": null,
      "visibility": null,
      "width": null
     }
    },
    "8bc375d10359456da3441816bd217162": {
     "model_module": "@jupyter-widgets/base",
     "model_module_version": "1.2.0",
     "model_name": "LayoutModel",
     "state": {
      "_model_module": "@jupyter-widgets/base",
      "_model_module_version": "1.2.0",
      "_model_name": "LayoutModel",
      "_view_count": null,
      "_view_module": "@jupyter-widgets/base",
      "_view_module_version": "1.2.0",
      "_view_name": "LayoutView",
      "align_content": null,
      "align_items": null,
      "align_self": null,
      "border": null,
      "bottom": null,
      "display": null,
      "flex": null,
      "flex_flow": null,
      "grid_area": null,
      "grid_auto_columns": null,
      "grid_auto_flow": null,
      "grid_auto_rows": null,
      "grid_column": null,
      "grid_gap": null,
      "grid_row": null,
      "grid_template_areas": null,
      "grid_template_columns": null,
      "grid_template_rows": null,
      "height": null,
      "justify_content": null,
      "justify_items": null,
      "left": null,
      "margin": null,
      "max_height": null,
      "max_width": null,
      "min_height": null,
      "min_width": null,
      "object_fit": null,
      "object_position": null,
      "order": null,
      "overflow": null,
      "overflow_x": null,
      "overflow_y": null,
      "padding": null,
      "right": null,
      "top": null,
      "visibility": null,
      "width": null
     }
    },
    "8e35df83bc47457e9aa9d885009978d8": {
     "model_module": "@jupyter-widgets/controls",
     "model_module_version": "1.5.0",
     "model_name": "ProgressStyleModel",
     "state": {
      "_model_module": "@jupyter-widgets/controls",
      "_model_module_version": "1.5.0",
      "_model_name": "ProgressStyleModel",
      "_view_count": null,
      "_view_module": "@jupyter-widgets/base",
      "_view_module_version": "1.2.0",
      "_view_name": "StyleView",
      "bar_color": null,
      "description_width": ""
     }
    },
    "8e78d05d622449479027cb6190d46ac1": {
     "model_module": "@jupyter-widgets/controls",
     "model_module_version": "1.5.0",
     "model_name": "HTMLModel",
     "state": {
      "_dom_classes": [],
      "_model_module": "@jupyter-widgets/controls",
      "_model_module_version": "1.5.0",
      "_model_name": "HTMLModel",
      "_view_count": null,
      "_view_module": "@jupyter-widgets/controls",
      "_view_module_version": "1.5.0",
      "_view_name": "HTMLView",
      "description": "",
      "description_tooltip": null,
      "layout": "IPY_MODEL_9d9e1a84ef304ccfb9fdd34dcd330de1",
      "placeholder": "​",
      "style": "IPY_MODEL_6b38aa472aad4ff6b55afab71ff0081f",
      "value": "model.safetensors.index.json: 100%"
     }
    },
    "91e208050fc4450687546b6f43a8bfe3": {
     "model_module": "@jupyter-widgets/controls",
     "model_module_version": "1.5.0",
     "model_name": "HTMLModel",
     "state": {
      "_dom_classes": [],
      "_model_module": "@jupyter-widgets/controls",
      "_model_module_version": "1.5.0",
      "_model_name": "HTMLModel",
      "_view_count": null,
      "_view_module": "@jupyter-widgets/controls",
      "_view_module_version": "1.5.0",
      "_view_name": "HTMLView",
      "description": "",
      "description_tooltip": null,
      "layout": "IPY_MODEL_0ed768bbfb0d47b58a04285c218f9b4d",
      "placeholder": "​",
      "style": "IPY_MODEL_404ab87cd7fb478cb4ca3eda00d46d54",
      "value": " 466k/466k [00:00&lt;00:00, 2.52MB/s]"
     }
    },
    "932bc9fae1be47f9af6b9041781cd6b6": {
     "model_module": "@jupyter-widgets/controls",
     "model_module_version": "1.5.0",
     "model_name": "DescriptionStyleModel",
     "state": {
      "_model_module": "@jupyter-widgets/controls",
      "_model_module_version": "1.5.0",
      "_model_name": "DescriptionStyleModel",
      "_view_count": null,
      "_view_module": "@jupyter-widgets/base",
      "_view_module_version": "1.2.0",
      "_view_name": "StyleView",
      "description_width": ""
     }
    },
    "9366ed69fa3e4a40a4f69dd32c41f7cf": {
     "model_module": "@jupyter-widgets/controls",
     "model_module_version": "1.5.0",
     "model_name": "DescriptionStyleModel",
     "state": {
      "_model_module": "@jupyter-widgets/controls",
      "_model_module_version": "1.5.0",
      "_model_name": "DescriptionStyleModel",
      "_view_count": null,
      "_view_module": "@jupyter-widgets/base",
      "_view_module_version": "1.2.0",
      "_view_name": "StyleView",
      "description_width": ""
     }
    },
    "93d47ddd42fa48b889e6e50c872d6674": {
     "model_module": "@jupyter-widgets/base",
     "model_module_version": "1.2.0",
     "model_name": "LayoutModel",
     "state": {
      "_model_module": "@jupyter-widgets/base",
      "_model_module_version": "1.2.0",
      "_model_name": "LayoutModel",
      "_view_count": null,
      "_view_module": "@jupyter-widgets/base",
      "_view_module_version": "1.2.0",
      "_view_name": "LayoutView",
      "align_content": null,
      "align_items": null,
      "align_self": null,
      "border": null,
      "bottom": null,
      "display": null,
      "flex": null,
      "flex_flow": null,
      "grid_area": null,
      "grid_auto_columns": null,
      "grid_auto_flow": null,
      "grid_auto_rows": null,
      "grid_column": null,
      "grid_gap": null,
      "grid_row": null,
      "grid_template_areas": null,
      "grid_template_columns": null,
      "grid_template_rows": null,
      "height": null,
      "justify_content": null,
      "justify_items": null,
      "left": null,
      "margin": null,
      "max_height": null,
      "max_width": null,
      "min_height": null,
      "min_width": null,
      "object_fit": null,
      "object_position": null,
      "order": null,
      "overflow": null,
      "overflow_x": null,
      "overflow_y": null,
      "padding": null,
      "right": null,
      "top": null,
      "visibility": null,
      "width": null
     }
    },
    "94345f79de9f4862aebebc87e2d5e246": {
     "model_module": "@jupyter-widgets/controls",
     "model_module_version": "1.5.0",
     "model_name": "HTMLModel",
     "state": {
      "_dom_classes": [],
      "_model_module": "@jupyter-widgets/controls",
      "_model_module_version": "1.5.0",
      "_model_name": "HTMLModel",
      "_view_count": null,
      "_view_module": "@jupyter-widgets/controls",
      "_view_module_version": "1.5.0",
      "_view_name": "HTMLView",
      "description": "",
      "description_tooltip": null,
      "layout": "IPY_MODEL_52e8474009794f39aad6c0f279923238",
      "placeholder": "​",
      "style": "IPY_MODEL_7596b08f9bd74f319a6c5b3083479450",
      "value": "config.json: 100%"
     }
    },
    "97923435a8b545a29127d4c41aed8977": {
     "model_module": "@jupyter-widgets/base",
     "model_module_version": "1.2.0",
     "model_name": "LayoutModel",
     "state": {
      "_model_module": "@jupyter-widgets/base",
      "_model_module_version": "1.2.0",
      "_model_name": "LayoutModel",
      "_view_count": null,
      "_view_module": "@jupyter-widgets/base",
      "_view_module_version": "1.2.0",
      "_view_name": "LayoutView",
      "align_content": null,
      "align_items": null,
      "align_self": null,
      "border": null,
      "bottom": null,
      "display": null,
      "flex": null,
      "flex_flow": null,
      "grid_area": null,
      "grid_auto_columns": null,
      "grid_auto_flow": null,
      "grid_auto_rows": null,
      "grid_column": null,
      "grid_gap": null,
      "grid_row": null,
      "grid_template_areas": null,
      "grid_template_columns": null,
      "grid_template_rows": null,
      "height": null,
      "justify_content": null,
      "justify_items": null,
      "left": null,
      "margin": null,
      "max_height": null,
      "max_width": null,
      "min_height": null,
      "min_width": null,
      "object_fit": null,
      "object_position": null,
      "order": null,
      "overflow": null,
      "overflow_x": null,
      "overflow_y": null,
      "padding": null,
      "right": null,
      "top": null,
      "visibility": null,
      "width": null
     }
    },
    "985c4243ccf140b78456480a4f5af3bd": {
     "model_module": "@jupyter-widgets/base",
     "model_module_version": "1.2.0",
     "model_name": "LayoutModel",
     "state": {
      "_model_module": "@jupyter-widgets/base",
      "_model_module_version": "1.2.0",
      "_model_name": "LayoutModel",
      "_view_count": null,
      "_view_module": "@jupyter-widgets/base",
      "_view_module_version": "1.2.0",
      "_view_name": "LayoutView",
      "align_content": null,
      "align_items": null,
      "align_self": null,
      "border": null,
      "bottom": null,
      "display": null,
      "flex": null,
      "flex_flow": null,
      "grid_area": null,
      "grid_auto_columns": null,
      "grid_auto_flow": null,
      "grid_auto_rows": null,
      "grid_column": null,
      "grid_gap": null,
      "grid_row": null,
      "grid_template_areas": null,
      "grid_template_columns": null,
      "grid_template_rows": null,
      "height": null,
      "justify_content": null,
      "justify_items": null,
      "left": null,
      "margin": null,
      "max_height": null,
      "max_width": null,
      "min_height": null,
      "min_width": null,
      "object_fit": null,
      "object_position": null,
      "order": null,
      "overflow": null,
      "overflow_x": null,
      "overflow_y": null,
      "padding": null,
      "right": null,
      "top": null,
      "visibility": null,
      "width": null
     }
    },
    "98a3df0404ea4bad9807d946862cea8a": {
     "model_module": "@jupyter-widgets/base",
     "model_module_version": "1.2.0",
     "model_name": "LayoutModel",
     "state": {
      "_model_module": "@jupyter-widgets/base",
      "_model_module_version": "1.2.0",
      "_model_name": "LayoutModel",
      "_view_count": null,
      "_view_module": "@jupyter-widgets/base",
      "_view_module_version": "1.2.0",
      "_view_name": "LayoutView",
      "align_content": null,
      "align_items": null,
      "align_self": null,
      "border": null,
      "bottom": null,
      "display": null,
      "flex": null,
      "flex_flow": null,
      "grid_area": null,
      "grid_auto_columns": null,
      "grid_auto_flow": null,
      "grid_auto_rows": null,
      "grid_column": null,
      "grid_gap": null,
      "grid_row": null,
      "grid_template_areas": null,
      "grid_template_columns": null,
      "grid_template_rows": null,
      "height": null,
      "justify_content": null,
      "justify_items": null,
      "left": null,
      "margin": null,
      "max_height": null,
      "max_width": null,
      "min_height": null,
      "min_width": null,
      "object_fit": null,
      "object_position": null,
      "order": null,
      "overflow": null,
      "overflow_x": null,
      "overflow_y": null,
      "padding": null,
      "right": null,
      "top": null,
      "visibility": null,
      "width": null
     }
    },
    "98ce2d14b573402cad3a7787ad7eb150": {
     "model_module": "@jupyter-widgets/controls",
     "model_module_version": "1.5.0",
     "model_name": "HBoxModel",
     "state": {
      "_dom_classes": [],
      "_model_module": "@jupyter-widgets/controls",
      "_model_module_version": "1.5.0",
      "_model_name": "HBoxModel",
      "_view_count": null,
      "_view_module": "@jupyter-widgets/controls",
      "_view_module_version": "1.5.0",
      "_view_name": "HBoxView",
      "box_style": "",
      "children": [
       "IPY_MODEL_5df131cd34384574a028f8a762bac424",
       "IPY_MODEL_1fd054bc0fde4c9098c9a6a134b1063c",
       "IPY_MODEL_1a99f358634b49858f54ab836fc30152"
      ],
      "layout": "IPY_MODEL_b3ce2429429e474baf137257dca4b76c"
     }
    },
    "99b89ffcc47044e9bcb46bd5ff5f8326": {
     "model_module": "@jupyter-widgets/base",
     "model_module_version": "1.2.0",
     "model_name": "LayoutModel",
     "state": {
      "_model_module": "@jupyter-widgets/base",
      "_model_module_version": "1.2.0",
      "_model_name": "LayoutModel",
      "_view_count": null,
      "_view_module": "@jupyter-widgets/base",
      "_view_module_version": "1.2.0",
      "_view_name": "LayoutView",
      "align_content": null,
      "align_items": null,
      "align_self": null,
      "border": null,
      "bottom": null,
      "display": null,
      "flex": null,
      "flex_flow": null,
      "grid_area": null,
      "grid_auto_columns": null,
      "grid_auto_flow": null,
      "grid_auto_rows": null,
      "grid_column": null,
      "grid_gap": null,
      "grid_row": null,
      "grid_template_areas": null,
      "grid_template_columns": null,
      "grid_template_rows": null,
      "height": null,
      "justify_content": null,
      "justify_items": null,
      "left": null,
      "margin": null,
      "max_height": null,
      "max_width": null,
      "min_height": null,
      "min_width": null,
      "object_fit": null,
      "object_position": null,
      "order": null,
      "overflow": null,
      "overflow_x": null,
      "overflow_y": null,
      "padding": null,
      "right": null,
      "top": null,
      "visibility": null,
      "width": null
     }
    },
    "9ba026bbd2d448dfbeeacda80dabb4a8": {
     "model_module": "@jupyter-widgets/controls",
     "model_module_version": "1.5.0",
     "model_name": "HTMLModel",
     "state": {
      "_dom_classes": [],
      "_model_module": "@jupyter-widgets/controls",
      "_model_module_version": "1.5.0",
      "_model_name": "HTMLModel",
      "_view_count": null,
      "_view_module": "@jupyter-widgets/controls",
      "_view_module_version": "1.5.0",
      "_view_name": "HTMLView",
      "description": "",
      "description_tooltip": null,
      "layout": "IPY_MODEL_eeb6d43eeb194bdcaaeeeebdfdb1a783",
      "placeholder": "​",
      "style": "IPY_MODEL_76566dd06c534690850dc6aa6d235490",
      "value": "tokenizer.json: 100%"
     }
    },
    "9d9e1a84ef304ccfb9fdd34dcd330de1": {
     "model_module": "@jupyter-widgets/base",
     "model_module_version": "1.2.0",
     "model_name": "LayoutModel",
     "state": {
      "_model_module": "@jupyter-widgets/base",
      "_model_module_version": "1.2.0",
      "_model_name": "LayoutModel",
      "_view_count": null,
      "_view_module": "@jupyter-widgets/base",
      "_view_module_version": "1.2.0",
      "_view_name": "LayoutView",
      "align_content": null,
      "align_items": null,
      "align_self": null,
      "border": null,
      "bottom": null,
      "display": null,
      "flex": null,
      "flex_flow": null,
      "grid_area": null,
      "grid_auto_columns": null,
      "grid_auto_flow": null,
      "grid_auto_rows": null,
      "grid_column": null,
      "grid_gap": null,
      "grid_row": null,
      "grid_template_areas": null,
      "grid_template_columns": null,
      "grid_template_rows": null,
      "height": null,
      "justify_content": null,
      "justify_items": null,
      "left": null,
      "margin": null,
      "max_height": null,
      "max_width": null,
      "min_height": null,
      "min_width": null,
      "object_fit": null,
      "object_position": null,
      "order": null,
      "overflow": null,
      "overflow_x": null,
      "overflow_y": null,
      "padding": null,
      "right": null,
      "top": null,
      "visibility": null,
      "width": null
     }
    },
    "9e2c534ca9fc4ef3b5d7eb852ca78dd4": {
     "model_module": "@jupyter-widgets/base",
     "model_module_version": "1.2.0",
     "model_name": "LayoutModel",
     "state": {
      "_model_module": "@jupyter-widgets/base",
      "_model_module_version": "1.2.0",
      "_model_name": "LayoutModel",
      "_view_count": null,
      "_view_module": "@jupyter-widgets/base",
      "_view_module_version": "1.2.0",
      "_view_name": "LayoutView",
      "align_content": null,
      "align_items": null,
      "align_self": null,
      "border": null,
      "bottom": null,
      "display": null,
      "flex": null,
      "flex_flow": null,
      "grid_area": null,
      "grid_auto_columns": null,
      "grid_auto_flow": null,
      "grid_auto_rows": null,
      "grid_column": null,
      "grid_gap": null,
      "grid_row": null,
      "grid_template_areas": null,
      "grid_template_columns": null,
      "grid_template_rows": null,
      "height": null,
      "justify_content": null,
      "justify_items": null,
      "left": null,
      "margin": null,
      "max_height": null,
      "max_width": null,
      "min_height": null,
      "min_width": null,
      "object_fit": null,
      "object_position": null,
      "order": null,
      "overflow": null,
      "overflow_x": null,
      "overflow_y": null,
      "padding": null,
      "right": null,
      "top": null,
      "visibility": null,
      "width": null
     }
    },
    "9e45175502d24659b081e1453627275a": {
     "model_module": "@jupyter-widgets/controls",
     "model_module_version": "1.5.0",
     "model_name": "FloatProgressModel",
     "state": {
      "_dom_classes": [],
      "_model_module": "@jupyter-widgets/controls",
      "_model_module_version": "1.5.0",
      "_model_name": "FloatProgressModel",
      "_view_count": null,
      "_view_module": "@jupyter-widgets/controls",
      "_view_module_version": "1.5.0",
      "_view_name": "ProgressView",
      "bar_style": "success",
      "description": "",
      "description_tooltip": null,
      "layout": "IPY_MODEL_22456e4d77a24e5da4df63578cf3f7fe",
      "max": 72,
      "min": 0,
      "orientation": "horizontal",
      "style": "IPY_MODEL_aa9cf8a5f0f649d589a9546f69e369e9",
      "value": 72
     }
    },
    "9f91e77875e44fb1b78455fd77c629a8": {
     "model_module": "@jupyter-widgets/controls",
     "model_module_version": "1.5.0",
     "model_name": "HBoxModel",
     "state": {
      "_dom_classes": [],
      "_model_module": "@jupyter-widgets/controls",
      "_model_module_version": "1.5.0",
      "_model_name": "HBoxModel",
      "_view_count": null,
      "_view_module": "@jupyter-widgets/controls",
      "_view_module_version": "1.5.0",
      "_view_name": "HBoxView",
      "box_style": "",
      "children": [
       "IPY_MODEL_5d893981f2f64ff5b0e214b7e7151d77",
       "IPY_MODEL_09eda2ddb2f24c1082d30beb7ae463c8",
       "IPY_MODEL_ec6861c7f95248048bbaeda30a9c3c8c"
      ],
      "layout": "IPY_MODEL_b44f42f57b73419d9a00b066e6b6b7f4"
     }
    },
    "9fbee15734f04fb48589f16ba0afcd8e": {
     "model_module": "@jupyter-widgets/controls",
     "model_module_version": "1.5.0",
     "model_name": "HTMLModel",
     "state": {
      "_dom_classes": [],
      "_model_module": "@jupyter-widgets/controls",
      "_model_module_version": "1.5.0",
      "_model_name": "HTMLModel",
      "_view_count": null,
      "_view_module": "@jupyter-widgets/controls",
      "_view_module_version": "1.5.0",
      "_view_name": "HTMLView",
      "description": "",
      "description_tooltip": null,
      "layout": "IPY_MODEL_5023468da7f04e0f98c3861349d8003e",
      "placeholder": "​",
      "style": "IPY_MODEL_3a89734604a7482eaf079ee269a66c27",
      "value": " 232k/232k [00:00&lt;00:00, 1.82MB/s]"
     }
    },
    "a03af6cc9c714f4eb8b30bf2ad7d3712": {
     "model_module": "@jupyter-widgets/base",
     "model_module_version": "1.2.0",
     "model_name": "LayoutModel",
     "state": {
      "_model_module": "@jupyter-widgets/base",
      "_model_module_version": "1.2.0",
      "_model_name": "LayoutModel",
      "_view_count": null,
      "_view_module": "@jupyter-widgets/base",
      "_view_module_version": "1.2.0",
      "_view_name": "LayoutView",
      "align_content": null,
      "align_items": null,
      "align_self": null,
      "border": null,
      "bottom": null,
      "display": null,
      "flex": null,
      "flex_flow": null,
      "grid_area": null,
      "grid_auto_columns": null,
      "grid_auto_flow": null,
      "grid_auto_rows": null,
      "grid_column": null,
      "grid_gap": null,
      "grid_row": null,
      "grid_template_areas": null,
      "grid_template_columns": null,
      "grid_template_rows": null,
      "height": null,
      "justify_content": null,
      "justify_items": null,
      "left": null,
      "margin": null,
      "max_height": null,
      "max_width": null,
      "min_height": null,
      "min_width": null,
      "object_fit": null,
      "object_position": null,
      "order": null,
      "overflow": null,
      "overflow_x": null,
      "overflow_y": null,
      "padding": null,
      "right": null,
      "top": null,
      "visibility": null,
      "width": null
     }
    },
    "a489daf348ec4c39aef6f813eb210f29": {
     "model_module": "@jupyter-widgets/base",
     "model_module_version": "1.2.0",
     "model_name": "LayoutModel",
     "state": {
      "_model_module": "@jupyter-widgets/base",
      "_model_module_version": "1.2.0",
      "_model_name": "LayoutModel",
      "_view_count": null,
      "_view_module": "@jupyter-widgets/base",
      "_view_module_version": "1.2.0",
      "_view_name": "LayoutView",
      "align_content": null,
      "align_items": null,
      "align_self": null,
      "border": null,
      "bottom": null,
      "display": null,
      "flex": null,
      "flex_flow": null,
      "grid_area": null,
      "grid_auto_columns": null,
      "grid_auto_flow": null,
      "grid_auto_rows": null,
      "grid_column": null,
      "grid_gap": null,
      "grid_row": null,
      "grid_template_areas": null,
      "grid_template_columns": null,
      "grid_template_rows": null,
      "height": null,
      "justify_content": null,
      "justify_items": null,
      "left": null,
      "margin": null,
      "max_height": null,
      "max_width": null,
      "min_height": null,
      "min_width": null,
      "object_fit": null,
      "object_position": null,
      "order": null,
      "overflow": null,
      "overflow_x": null,
      "overflow_y": null,
      "padding": null,
      "right": null,
      "top": null,
      "visibility": null,
      "width": null
     }
    },
    "a54e512d892b45ecab41976d6c340d16": {
     "model_module": "@jupyter-widgets/base",
     "model_module_version": "1.2.0",
     "model_name": "LayoutModel",
     "state": {
      "_model_module": "@jupyter-widgets/base",
      "_model_module_version": "1.2.0",
      "_model_name": "LayoutModel",
      "_view_count": null,
      "_view_module": "@jupyter-widgets/base",
      "_view_module_version": "1.2.0",
      "_view_name": "LayoutView",
      "align_content": null,
      "align_items": null,
      "align_self": null,
      "border": null,
      "bottom": null,
      "display": null,
      "flex": null,
      "flex_flow": null,
      "grid_area": null,
      "grid_auto_columns": null,
      "grid_auto_flow": null,
      "grid_auto_rows": null,
      "grid_column": null,
      "grid_gap": null,
      "grid_row": null,
      "grid_template_areas": null,
      "grid_template_columns": null,
      "grid_template_rows": null,
      "height": null,
      "justify_content": null,
      "justify_items": null,
      "left": null,
      "margin": null,
      "max_height": null,
      "max_width": null,
      "min_height": null,
      "min_width": null,
      "object_fit": null,
      "object_position": null,
      "order": null,
      "overflow": null,
      "overflow_x": null,
      "overflow_y": null,
      "padding": null,
      "right": null,
      "top": null,
      "visibility": null,
      "width": null
     }
    },
    "a72b84f943d64c8c97c1dfcd5446386c": {
     "model_module": "@jupyter-widgets/controls",
     "model_module_version": "1.5.0",
     "model_name": "DescriptionStyleModel",
     "state": {
      "_model_module": "@jupyter-widgets/controls",
      "_model_module_version": "1.5.0",
      "_model_name": "DescriptionStyleModel",
      "_view_count": null,
      "_view_module": "@jupyter-widgets/base",
      "_view_module_version": "1.2.0",
      "_view_name": "StyleView",
      "description_width": ""
     }
    },
    "a9605e7377144d4c89018b80d9fc22d3": {
     "model_module": "@jupyter-widgets/controls",
     "model_module_version": "1.5.0",
     "model_name": "DescriptionStyleModel",
     "state": {
      "_model_module": "@jupyter-widgets/controls",
      "_model_module_version": "1.5.0",
      "_model_name": "DescriptionStyleModel",
      "_view_count": null,
      "_view_module": "@jupyter-widgets/base",
      "_view_module_version": "1.2.0",
      "_view_name": "StyleView",
      "description_width": ""
     }
    },
    "a9f6442f0d474f638e7c80099e8f9806": {
     "model_module": "@jupyter-widgets/controls",
     "model_module_version": "1.5.0",
     "model_name": "ProgressStyleModel",
     "state": {
      "_model_module": "@jupyter-widgets/controls",
      "_model_module_version": "1.5.0",
      "_model_name": "ProgressStyleModel",
      "_view_count": null,
      "_view_module": "@jupyter-widgets/base",
      "_view_module_version": "1.2.0",
      "_view_name": "StyleView",
      "bar_color": null,
      "description_width": ""
     }
    },
    "aa90f9c1681d4f2e83c4f47e0b8f5980": {
     "model_module": "@jupyter-widgets/controls",
     "model_module_version": "1.5.0",
     "model_name": "FloatProgressModel",
     "state": {
      "_dom_classes": [],
      "_model_module": "@jupyter-widgets/controls",
      "_model_module_version": "1.5.0",
      "_model_name": "FloatProgressModel",
      "_view_count": null,
      "_view_module": "@jupyter-widgets/controls",
      "_view_module_version": "1.5.0",
      "_view_name": "ProgressView",
      "bar_style": "success",
      "description": "",
      "description_tooltip": null,
      "layout": "IPY_MODEL_93d47ddd42fa48b889e6e50c872d6674",
      "max": 112,
      "min": 0,
      "orientation": "horizontal",
      "style": "IPY_MODEL_4fb16fc3c08d47eeb2c4ed39db27be47",
      "value": 112
     }
    },
    "aa9cf8a5f0f649d589a9546f69e369e9": {
     "model_module": "@jupyter-widgets/controls",
     "model_module_version": "1.5.0",
     "model_name": "ProgressStyleModel",
     "state": {
      "_model_module": "@jupyter-widgets/controls",
      "_model_module_version": "1.5.0",
      "_model_name": "ProgressStyleModel",
      "_view_count": null,
      "_view_module": "@jupyter-widgets/base",
      "_view_module_version": "1.2.0",
      "_view_name": "StyleView",
      "bar_color": null,
      "description_width": ""
     }
    },
    "ac2eb52a63bd4e318ecee4b511c37af9": {
     "model_module": "@jupyter-widgets/controls",
     "model_module_version": "1.5.0",
     "model_name": "HBoxModel",
     "state": {
      "_dom_classes": [],
      "_model_module": "@jupyter-widgets/controls",
      "_model_module_version": "1.5.0",
      "_model_name": "HBoxModel",
      "_view_count": null,
      "_view_module": "@jupyter-widgets/controls",
      "_view_module_version": "1.5.0",
      "_view_name": "HBoxView",
      "box_style": "",
      "children": [
       "IPY_MODEL_8e78d05d622449479027cb6190d46ac1",
       "IPY_MODEL_62c05a4e04324f429fa55647ac7ff51e",
       "IPY_MODEL_dc5abb9c990e4bab953b07fd295195e6"
      ],
      "layout": "IPY_MODEL_8bc375d10359456da3441816bd217162"
     }
    },
    "ac8d9f457ed843068e0458cfd81cb43c": {
     "model_module": "@jupyter-widgets/base",
     "model_module_version": "1.2.0",
     "model_name": "LayoutModel",
     "state": {
      "_model_module": "@jupyter-widgets/base",
      "_model_module_version": "1.2.0",
      "_model_name": "LayoutModel",
      "_view_count": null,
      "_view_module": "@jupyter-widgets/base",
      "_view_module_version": "1.2.0",
      "_view_name": "LayoutView",
      "align_content": null,
      "align_items": null,
      "align_self": null,
      "border": null,
      "bottom": null,
      "display": null,
      "flex": null,
      "flex_flow": null,
      "grid_area": null,
      "grid_auto_columns": null,
      "grid_auto_flow": null,
      "grid_auto_rows": null,
      "grid_column": null,
      "grid_gap": null,
      "grid_row": null,
      "grid_template_areas": null,
      "grid_template_columns": null,
      "grid_template_rows": null,
      "height": null,
      "justify_content": null,
      "justify_items": null,
      "left": null,
      "margin": null,
      "max_height": null,
      "max_width": null,
      "min_height": null,
      "min_width": null,
      "object_fit": null,
      "object_position": null,
      "order": null,
      "overflow": null,
      "overflow_x": null,
      "overflow_y": null,
      "padding": null,
      "right": null,
      "top": null,
      "visibility": null,
      "width": null
     }
    },
    "b135c321cf5841419b61eca47ab53516": {
     "model_module": "@jupyter-widgets/controls",
     "model_module_version": "1.5.0",
     "model_name": "FloatProgressModel",
     "state": {
      "_dom_classes": [],
      "_model_module": "@jupyter-widgets/controls",
      "_model_module_version": "1.5.0",
      "_model_name": "FloatProgressModel",
      "_view_count": null,
      "_view_module": "@jupyter-widgets/controls",
      "_view_module_version": "1.5.0",
      "_view_name": "ProgressView",
      "bar_style": "success",
      "description": "",
      "description_tooltip": null,
      "layout": "IPY_MODEL_554b711d8eaf4aa8ba021ea07cf0969a",
      "max": 4999819336,
      "min": 0,
      "orientation": "horizontal",
      "style": "IPY_MODEL_cbf84cd25ba74b3cbe000cf410918346",
      "value": 4999819336
     }
    },
    "b15f08b15f1c4e9b87925af4893683c0": {
     "model_module": "@jupyter-widgets/controls",
     "model_module_version": "1.5.0",
     "model_name": "DescriptionStyleModel",
     "state": {
      "_model_module": "@jupyter-widgets/controls",
      "_model_module_version": "1.5.0",
      "_model_name": "DescriptionStyleModel",
      "_view_count": null,
      "_view_module": "@jupyter-widgets/base",
      "_view_module_version": "1.2.0",
      "_view_name": "StyleView",
      "description_width": ""
     }
    },
    "b3ce2429429e474baf137257dca4b76c": {
     "model_module": "@jupyter-widgets/base",
     "model_module_version": "1.2.0",
     "model_name": "LayoutModel",
     "state": {
      "_model_module": "@jupyter-widgets/base",
      "_model_module_version": "1.2.0",
      "_model_name": "LayoutModel",
      "_view_count": null,
      "_view_module": "@jupyter-widgets/base",
      "_view_module_version": "1.2.0",
      "_view_name": "LayoutView",
      "align_content": null,
      "align_items": null,
      "align_self": null,
      "border": null,
      "bottom": null,
      "display": null,
      "flex": null,
      "flex_flow": null,
      "grid_area": null,
      "grid_auto_columns": null,
      "grid_auto_flow": null,
      "grid_auto_rows": null,
      "grid_column": null,
      "grid_gap": null,
      "grid_row": null,
      "grid_template_areas": null,
      "grid_template_columns": null,
      "grid_template_rows": null,
      "height": null,
      "justify_content": null,
      "justify_items": null,
      "left": null,
      "margin": null,
      "max_height": null,
      "max_width": null,
      "min_height": null,
      "min_width": null,
      "object_fit": null,
      "object_position": null,
      "order": null,
      "overflow": null,
      "overflow_x": null,
      "overflow_y": null,
      "padding": null,
      "right": null,
      "top": null,
      "visibility": null,
      "width": null
     }
    },
    "b44f42f57b73419d9a00b066e6b6b7f4": {
     "model_module": "@jupyter-widgets/base",
     "model_module_version": "1.2.0",
     "model_name": "LayoutModel",
     "state": {
      "_model_module": "@jupyter-widgets/base",
      "_model_module_version": "1.2.0",
      "_model_name": "LayoutModel",
      "_view_count": null,
      "_view_module": "@jupyter-widgets/base",
      "_view_module_version": "1.2.0",
      "_view_name": "LayoutView",
      "align_content": null,
      "align_items": null,
      "align_self": null,
      "border": null,
      "bottom": null,
      "display": null,
      "flex": null,
      "flex_flow": null,
      "grid_area": null,
      "grid_auto_columns": null,
      "grid_auto_flow": null,
      "grid_auto_rows": null,
      "grid_column": null,
      "grid_gap": null,
      "grid_row": null,
      "grid_template_areas": null,
      "grid_template_columns": null,
      "grid_template_rows": null,
      "height": null,
      "justify_content": null,
      "justify_items": null,
      "left": null,
      "margin": null,
      "max_height": null,
      "max_width": null,
      "min_height": null,
      "min_width": null,
      "object_fit": null,
      "object_position": null,
      "order": null,
      "overflow": null,
      "overflow_x": null,
      "overflow_y": null,
      "padding": null,
      "right": null,
      "top": null,
      "visibility": null,
      "width": null
     }
    },
    "b62bfac304484f879727ca756964ccd0": {
     "model_module": "@jupyter-widgets/controls",
     "model_module_version": "1.5.0",
     "model_name": "DescriptionStyleModel",
     "state": {
      "_model_module": "@jupyter-widgets/controls",
      "_model_module_version": "1.5.0",
      "_model_name": "DescriptionStyleModel",
      "_view_count": null,
      "_view_module": "@jupyter-widgets/base",
      "_view_module_version": "1.2.0",
      "_view_name": "StyleView",
      "description_width": ""
     }
    },
    "b7e44bab58624d5898cde1b26db5dbe9": {
     "model_module": "@jupyter-widgets/controls",
     "model_module_version": "1.5.0",
     "model_name": "HBoxModel",
     "state": {
      "_dom_classes": [],
      "_model_module": "@jupyter-widgets/controls",
      "_model_module_version": "1.5.0",
      "_model_name": "HBoxModel",
      "_view_count": null,
      "_view_module": "@jupyter-widgets/controls",
      "_view_module_version": "1.5.0",
      "_view_name": "HBoxView",
      "box_style": "",
      "children": [
       "IPY_MODEL_03402be3c0cc4e3da4ac00e2b644ebb2",
       "IPY_MODEL_b135c321cf5841419b61eca47ab53516",
       "IPY_MODEL_22ba9da434fd4f0aaa7cb0a02b1b8215"
      ],
      "layout": "IPY_MODEL_851a71702fbb4ee392ffc31021c9d71b"
     }
    },
    "b8630829046341cd908166d8a7fd77fe": {
     "model_module": "@jupyter-widgets/controls",
     "model_module_version": "1.5.0",
     "model_name": "ProgressStyleModel",
     "state": {
      "_model_module": "@jupyter-widgets/controls",
      "_model_module_version": "1.5.0",
      "_model_name": "ProgressStyleModel",
      "_view_count": null,
      "_view_module": "@jupyter-widgets/base",
      "_view_module_version": "1.2.0",
      "_view_name": "StyleView",
      "bar_color": null,
      "description_width": ""
     }
    },
    "b9091d21ad4249fd8aceda64fce24164": {
     "model_module": "@jupyter-widgets/controls",
     "model_module_version": "1.5.0",
     "model_name": "HTMLModel",
     "state": {
      "_dom_classes": [],
      "_model_module": "@jupyter-widgets/controls",
      "_model_module_version": "1.5.0",
      "_model_name": "HTMLModel",
      "_view_count": null,
      "_view_module": "@jupyter-widgets/controls",
      "_view_module_version": "1.5.0",
      "_view_name": "HTMLView",
      "description": "",
      "description_tooltip": null,
      "layout": "IPY_MODEL_681586af52b840f2ba2187966e176eb1",
      "placeholder": "​",
      "style": "IPY_MODEL_f5930ffbe47043d189ed3a83838adec6",
      "value": "tokenizer.json: 100%"
     }
    },
    "b93259d2f4384a18a1de62b22226e9ab": {
     "model_module": "@jupyter-widgets/controls",
     "model_module_version": "1.5.0",
     "model_name": "FloatProgressModel",
     "state": {
      "_dom_classes": [],
      "_model_module": "@jupyter-widgets/controls",
      "_model_module_version": "1.5.0",
      "_model_name": "FloatProgressModel",
      "_view_count": null,
      "_view_module": "@jupyter-widgets/controls",
      "_view_module_version": "1.5.0",
      "_view_name": "ProgressView",
      "bar_style": "success",
      "description": "",
      "description_tooltip": null,
      "layout": "IPY_MODEL_f59c4db97921495a8e6620fc81c80bef",
      "max": 1795303,
      "min": 0,
      "orientation": "horizontal",
      "style": "IPY_MODEL_67af698972744071be510e4182f4864b",
      "value": 1795303
     }
    },
    "ba2f7d4c360848d1b69562b817543970": {
     "model_module": "@jupyter-widgets/base",
     "model_module_version": "1.2.0",
     "model_name": "LayoutModel",
     "state": {
      "_model_module": "@jupyter-widgets/base",
      "_model_module_version": "1.2.0",
      "_model_name": "LayoutModel",
      "_view_count": null,
      "_view_module": "@jupyter-widgets/base",
      "_view_module_version": "1.2.0",
      "_view_name": "LayoutView",
      "align_content": null,
      "align_items": null,
      "align_self": null,
      "border": null,
      "bottom": null,
      "display": null,
      "flex": null,
      "flex_flow": null,
      "grid_area": null,
      "grid_auto_columns": null,
      "grid_auto_flow": null,
      "grid_auto_rows": null,
      "grid_column": null,
      "grid_gap": null,
      "grid_row": null,
      "grid_template_areas": null,
      "grid_template_columns": null,
      "grid_template_rows": null,
      "height": null,
      "justify_content": null,
      "justify_items": null,
      "left": null,
      "margin": null,
      "max_height": null,
      "max_width": null,
      "min_height": null,
      "min_width": null,
      "object_fit": null,
      "object_position": null,
      "order": null,
      "overflow": null,
      "overflow_x": null,
      "overflow_y": null,
      "padding": null,
      "right": null,
      "top": null,
      "visibility": null,
      "width": null
     }
    },
    "ba51610b3eef46fabbf656168f210df2": {
     "model_module": "@jupyter-widgets/base",
     "model_module_version": "1.2.0",
     "model_name": "LayoutModel",
     "state": {
      "_model_module": "@jupyter-widgets/base",
      "_model_module_version": "1.2.0",
      "_model_name": "LayoutModel",
      "_view_count": null,
      "_view_module": "@jupyter-widgets/base",
      "_view_module_version": "1.2.0",
      "_view_name": "LayoutView",
      "align_content": null,
      "align_items": null,
      "align_self": null,
      "border": null,
      "bottom": null,
      "display": null,
      "flex": null,
      "flex_flow": null,
      "grid_area": null,
      "grid_auto_columns": null,
      "grid_auto_flow": null,
      "grid_auto_rows": null,
      "grid_column": null,
      "grid_gap": null,
      "grid_row": null,
      "grid_template_areas": null,
      "grid_template_columns": null,
      "grid_template_rows": null,
      "height": null,
      "justify_content": null,
      "justify_items": null,
      "left": null,
      "margin": null,
      "max_height": null,
      "max_width": null,
      "min_height": null,
      "min_width": null,
      "object_fit": null,
      "object_position": null,
      "order": null,
      "overflow": null,
      "overflow_x": null,
      "overflow_y": null,
      "padding": null,
      "right": null,
      "top": null,
      "visibility": null,
      "width": null
     }
    },
    "bcfa300e76484b4cba766626eb58c9f4": {
     "model_module": "@jupyter-widgets/controls",
     "model_module_version": "1.5.0",
     "model_name": "HTMLModel",
     "state": {
      "_dom_classes": [],
      "_model_module": "@jupyter-widgets/controls",
      "_model_module_version": "1.5.0",
      "_model_name": "HTMLModel",
      "_view_count": null,
      "_view_module": "@jupyter-widgets/controls",
      "_view_module_version": "1.5.0",
      "_view_name": "HTMLView",
      "description": "",
      "description_tooltip": null,
      "layout": "IPY_MODEL_ba2f7d4c360848d1b69562b817543970",
      "placeholder": "​",
      "style": "IPY_MODEL_3af814e558a94f00bdff3549c4b5b6f5",
      "value": "special_tokens_map.json: 100%"
     }
    },
    "bfefcb99043b47e7b97934c08cac90c6": {
     "model_module": "@jupyter-widgets/controls",
     "model_module_version": "1.5.0",
     "model_name": "FloatProgressModel",
     "state": {
      "_dom_classes": [],
      "_model_module": "@jupyter-widgets/controls",
      "_model_module_version": "1.5.0",
      "_model_name": "FloatProgressModel",
      "_view_count": null,
      "_view_module": "@jupyter-widgets/controls",
      "_view_module_version": "1.5.0",
      "_view_name": "ProgressView",
      "bar_style": "success",
      "description": "",
      "description_tooltip": null,
      "layout": "IPY_MODEL_ffe2ccd6c9294c2b95b6f9aa6c3abab6",
      "max": 612,
      "min": 0,
      "orientation": "horizontal",
      "style": "IPY_MODEL_4f68e068868a43739e5d5e634ea0a47e",
      "value": 612
     }
    },
    "c02b5d3363bd4406b9787bb621b50b3d": {
     "model_module": "@jupyter-widgets/controls",
     "model_module_version": "1.5.0",
     "model_name": "HTMLModel",
     "state": {
      "_dom_classes": [],
      "_model_module": "@jupyter-widgets/controls",
      "_model_module_version": "1.5.0",
      "_model_name": "HTMLModel",
      "_view_count": null,
      "_view_module": "@jupyter-widgets/controls",
      "_view_module_version": "1.5.0",
      "_view_name": "HTMLView",
      "description": "",
      "description_tooltip": null,
      "layout": "IPY_MODEL_48b1908998b24b4c89b1493afa1a7a03",
      "placeholder": "​",
      "style": "IPY_MODEL_932bc9fae1be47f9af6b9041781cd6b6",
      "value": " 596/596 [00:00&lt;00:00, 24.8kB/s]"
     }
    },
    "c4a011027239401fa5969ea0291571f7": {
     "model_module": "@jupyter-widgets/base",
     "model_module_version": "1.2.0",
     "model_name": "LayoutModel",
     "state": {
      "_model_module": "@jupyter-widgets/base",
      "_model_module_version": "1.2.0",
      "_model_name": "LayoutModel",
      "_view_count": null,
      "_view_module": "@jupyter-widgets/base",
      "_view_module_version": "1.2.0",
      "_view_name": "LayoutView",
      "align_content": null,
      "align_items": null,
      "align_self": null,
      "border": null,
      "bottom": null,
      "display": null,
      "flex": null,
      "flex_flow": null,
      "grid_area": null,
      "grid_auto_columns": null,
      "grid_auto_flow": null,
      "grid_auto_rows": null,
      "grid_column": null,
      "grid_gap": null,
      "grid_row": null,
      "grid_template_areas": null,
      "grid_template_columns": null,
      "grid_template_rows": null,
      "height": null,
      "justify_content": null,
      "justify_items": null,
      "left": null,
      "margin": null,
      "max_height": null,
      "max_width": null,
      "min_height": null,
      "min_width": null,
      "object_fit": null,
      "object_position": null,
      "order": null,
      "overflow": null,
      "overflow_x": null,
      "overflow_y": null,
      "padding": null,
      "right": null,
      "top": null,
      "visibility": null,
      "width": null
     }
    },
    "c4fd4b73103e4cf4a5c9419cd5e3cd01": {
     "model_module": "@jupyter-widgets/controls",
     "model_module_version": "1.5.0",
     "model_name": "HTMLModel",
     "state": {
      "_dom_classes": [],
      "_model_module": "@jupyter-widgets/controls",
      "_model_module_version": "1.5.0",
      "_model_name": "HTMLModel",
      "_view_count": null,
      "_view_module": "@jupyter-widgets/controls",
      "_view_module_version": "1.5.0",
      "_view_name": "HTMLView",
      "description": "",
      "description_tooltip": null,
      "layout": "IPY_MODEL_eed0174f7ea247e0b9f5cd62cd3bdb50",
      "placeholder": "​",
      "style": "IPY_MODEL_332d126e2ead4907be7e9aab4baf2ecf",
      "value": " 350/350 [00:00&lt;00:00, 27.8kB/s]"
     }
    },
    "c56b7de117a8465886aaa87360cd7276": {
     "model_module": "@jupyter-widgets/controls",
     "model_module_version": "1.5.0",
     "model_name": "HTMLModel",
     "state": {
      "_dom_classes": [],
      "_model_module": "@jupyter-widgets/controls",
      "_model_module_version": "1.5.0",
      "_model_name": "HTMLModel",
      "_view_count": null,
      "_view_module": "@jupyter-widgets/controls",
      "_view_module_version": "1.5.0",
      "_view_name": "HTMLView",
      "description": "",
      "description_tooltip": null,
      "layout": "IPY_MODEL_55f1ff79df554ae6bbc35db9f20834c6",
      "placeholder": "​",
      "style": "IPY_MODEL_f6453d0922054e96a887f947a3b07593",
      "value": "generation_config.json: 100%"
     }
    },
    "c73f6f12a69744e0a873f102917265ea": {
     "model_module": "@jupyter-widgets/controls",
     "model_module_version": "1.5.0",
     "model_name": "DescriptionStyleModel",
     "state": {
      "_model_module": "@jupyter-widgets/controls",
      "_model_module_version": "1.5.0",
      "_model_name": "DescriptionStyleModel",
      "_view_count": null,
      "_view_module": "@jupyter-widgets/base",
      "_view_module_version": "1.2.0",
      "_view_name": "StyleView",
      "description_width": ""
     }
    },
    "c7f3af1b1c8b42a2889edb7213ecb605": {
     "model_module": "@jupyter-widgets/controls",
     "model_module_version": "1.5.0",
     "model_name": "DescriptionStyleModel",
     "state": {
      "_model_module": "@jupyter-widgets/controls",
      "_model_module_version": "1.5.0",
      "_model_name": "DescriptionStyleModel",
      "_view_count": null,
      "_view_module": "@jupyter-widgets/base",
      "_view_module_version": "1.2.0",
      "_view_name": "StyleView",
      "description_width": ""
     }
    },
    "c8d9b26953d245ff8d75d5c0c0148f3f": {
     "model_module": "@jupyter-widgets/base",
     "model_module_version": "1.2.0",
     "model_name": "LayoutModel",
     "state": {
      "_model_module": "@jupyter-widgets/base",
      "_model_module_version": "1.2.0",
      "_model_name": "LayoutModel",
      "_view_count": null,
      "_view_module": "@jupyter-widgets/base",
      "_view_module_version": "1.2.0",
      "_view_name": "LayoutView",
      "align_content": null,
      "align_items": null,
      "align_self": null,
      "border": null,
      "bottom": null,
      "display": null,
      "flex": null,
      "flex_flow": null,
      "grid_area": null,
      "grid_auto_columns": null,
      "grid_auto_flow": null,
      "grid_auto_rows": null,
      "grid_column": null,
      "grid_gap": null,
      "grid_row": null,
      "grid_template_areas": null,
      "grid_template_columns": null,
      "grid_template_rows": null,
      "height": null,
      "justify_content": null,
      "justify_items": null,
      "left": null,
      "margin": null,
      "max_height": null,
      "max_width": null,
      "min_height": null,
      "min_width": null,
      "object_fit": null,
      "object_position": null,
      "order": null,
      "overflow": null,
      "overflow_x": null,
      "overflow_y": null,
      "padding": null,
      "right": null,
      "top": null,
      "visibility": null,
      "width": null
     }
    },
    "cbf84cd25ba74b3cbe000cf410918346": {
     "model_module": "@jupyter-widgets/controls",
     "model_module_version": "1.5.0",
     "model_name": "ProgressStyleModel",
     "state": {
      "_model_module": "@jupyter-widgets/controls",
      "_model_module_version": "1.5.0",
      "_model_name": "ProgressStyleModel",
      "_view_count": null,
      "_view_module": "@jupyter-widgets/base",
      "_view_module_version": "1.2.0",
      "_view_name": "StyleView",
      "bar_color": null,
      "description_width": ""
     }
    },
    "ccadbdba698648428b2b5167da3ac809": {
     "model_module": "@jupyter-widgets/controls",
     "model_module_version": "1.5.0",
     "model_name": "HTMLModel",
     "state": {
      "_dom_classes": [],
      "_model_module": "@jupyter-widgets/controls",
      "_model_module_version": "1.5.0",
      "_model_name": "HTMLModel",
      "_view_count": null,
      "_view_module": "@jupyter-widgets/controls",
      "_view_module_version": "1.5.0",
      "_view_name": "HTMLView",
      "description": "",
      "description_tooltip": null,
      "layout": "IPY_MODEL_ff333b1108094a4c8d5252e22425ea14",
      "placeholder": "​",
      "style": "IPY_MODEL_294fa6b108d7407abcaba939ab7cf6ad",
      "value": " 112/112 [00:00&lt;00:00, 7.60kB/s]"
     }
    },
    "cd449e751eb4493ab7e0fc6cdf9c707b": {
     "model_module": "@jupyter-widgets/controls",
     "model_module_version": "1.5.0",
     "model_name": "FloatProgressModel",
     "state": {
      "_dom_classes": [],
      "_model_module": "@jupyter-widgets/controls",
      "_model_module_version": "1.5.0",
      "_model_name": "FloatProgressModel",
      "_view_count": null,
      "_view_module": "@jupyter-widgets/controls",
      "_view_module_version": "1.5.0",
      "_view_name": "ProgressView",
      "bar_style": "success",
      "description": "",
      "description_tooltip": null,
      "layout": "IPY_MODEL_4ff40ccf7e0a4de987e1c03e401bd701",
      "max": 1460,
      "min": 0,
      "orientation": "horizontal",
      "style": "IPY_MODEL_f7b8c713ea8147fd938cd19fd3d4efa2",
      "value": 1460
     }
    },
    "cd84f8ded0734a9f8f63bf4ff5745e92": {
     "model_module": "@jupyter-widgets/base",
     "model_module_version": "1.2.0",
     "model_name": "LayoutModel",
     "state": {
      "_model_module": "@jupyter-widgets/base",
      "_model_module_version": "1.2.0",
      "_model_name": "LayoutModel",
      "_view_count": null,
      "_view_module": "@jupyter-widgets/base",
      "_view_module_version": "1.2.0",
      "_view_name": "LayoutView",
      "align_content": null,
      "align_items": null,
      "align_self": null,
      "border": null,
      "bottom": null,
      "display": null,
      "flex": null,
      "flex_flow": null,
      "grid_area": null,
      "grid_auto_columns": null,
      "grid_auto_flow": null,
      "grid_auto_rows": null,
      "grid_column": null,
      "grid_gap": null,
      "grid_row": null,
      "grid_template_areas": null,
      "grid_template_columns": null,
      "grid_template_rows": null,
      "height": null,
      "justify_content": null,
      "justify_items": null,
      "left": null,
      "margin": null,
      "max_height": null,
      "max_width": null,
      "min_height": null,
      "min_width": null,
      "object_fit": null,
      "object_position": null,
      "order": null,
      "overflow": null,
      "overflow_x": null,
      "overflow_y": null,
      "padding": null,
      "right": null,
      "top": null,
      "visibility": null,
      "width": null
     }
    },
    "cdeeb4b90e054a07bb3434ad097355a1": {
     "model_module": "@jupyter-widgets/base",
     "model_module_version": "1.2.0",
     "model_name": "LayoutModel",
     "state": {
      "_model_module": "@jupyter-widgets/base",
      "_model_module_version": "1.2.0",
      "_model_name": "LayoutModel",
      "_view_count": null,
      "_view_module": "@jupyter-widgets/base",
      "_view_module_version": "1.2.0",
      "_view_name": "LayoutView",
      "align_content": null,
      "align_items": null,
      "align_self": null,
      "border": null,
      "bottom": null,
      "display": null,
      "flex": null,
      "flex_flow": null,
      "grid_area": null,
      "grid_auto_columns": null,
      "grid_auto_flow": null,
      "grid_auto_rows": null,
      "grid_column": null,
      "grid_gap": null,
      "grid_row": null,
      "grid_template_areas": null,
      "grid_template_columns": null,
      "grid_template_rows": null,
      "height": null,
      "justify_content": null,
      "justify_items": null,
      "left": null,
      "margin": null,
      "max_height": null,
      "max_width": null,
      "min_height": null,
      "min_width": null,
      "object_fit": null,
      "object_position": null,
      "order": null,
      "overflow": null,
      "overflow_x": null,
      "overflow_y": null,
      "padding": null,
      "right": null,
      "top": null,
      "visibility": null,
      "width": null
     }
    },
    "d2dd4c01d45143b592966372ae6ae30b": {
     "model_module": "@jupyter-widgets/controls",
     "model_module_version": "1.5.0",
     "model_name": "DescriptionStyleModel",
     "state": {
      "_model_module": "@jupyter-widgets/controls",
      "_model_module_version": "1.5.0",
      "_model_name": "DescriptionStyleModel",
      "_view_count": null,
      "_view_module": "@jupyter-widgets/base",
      "_view_module_version": "1.2.0",
      "_view_name": "StyleView",
      "description_width": ""
     }
    },
    "d40824643a454f008439faff8e6979f8": {
     "model_module": "@jupyter-widgets/controls",
     "model_module_version": "1.5.0",
     "model_name": "HBoxModel",
     "state": {
      "_dom_classes": [],
      "_model_module": "@jupyter-widgets/controls",
      "_model_module_version": "1.5.0",
      "_model_name": "HBoxModel",
      "_view_count": null,
      "_view_module": "@jupyter-widgets/controls",
      "_view_module_version": "1.5.0",
      "_view_name": "HBoxView",
      "box_style": "",
      "children": [
       "IPY_MODEL_18242c28358f49af8480699fdf2aea76",
       "IPY_MODEL_59b56e5b31f5467bbf3787270d1efd32",
       "IPY_MODEL_e439509840aa49048d188e72e02e03d2"
      ],
      "layout": "IPY_MODEL_ef08df7f48f94dbf8c5bb3d6cf1d0f24"
     }
    },
    "d4e4eeac406f46a98d9cd03aecd04678": {
     "model_module": "@jupyter-widgets/base",
     "model_module_version": "1.2.0",
     "model_name": "LayoutModel",
     "state": {
      "_model_module": "@jupyter-widgets/base",
      "_model_module_version": "1.2.0",
      "_model_name": "LayoutModel",
      "_view_count": null,
      "_view_module": "@jupyter-widgets/base",
      "_view_module_version": "1.2.0",
      "_view_name": "LayoutView",
      "align_content": null,
      "align_items": null,
      "align_self": null,
      "border": null,
      "bottom": null,
      "display": null,
      "flex": null,
      "flex_flow": null,
      "grid_area": null,
      "grid_auto_columns": null,
      "grid_auto_flow": null,
      "grid_auto_rows": null,
      "grid_column": null,
      "grid_gap": null,
      "grid_row": null,
      "grid_template_areas": null,
      "grid_template_columns": null,
      "grid_template_rows": null,
      "height": null,
      "justify_content": null,
      "justify_items": null,
      "left": null,
      "margin": null,
      "max_height": null,
      "max_width": null,
      "min_height": null,
      "min_width": null,
      "object_fit": null,
      "object_position": null,
      "order": null,
      "overflow": null,
      "overflow_x": null,
      "overflow_y": null,
      "padding": null,
      "right": null,
      "top": null,
      "visibility": null,
      "width": null
     }
    },
    "d566defb3fb04bae8541626ad9af99d9": {
     "model_module": "@jupyter-widgets/controls",
     "model_module_version": "1.5.0",
     "model_name": "HBoxModel",
     "state": {
      "_dom_classes": [],
      "_model_module": "@jupyter-widgets/controls",
      "_model_module_version": "1.5.0",
      "_model_name": "HBoxModel",
      "_view_count": null,
      "_view_module": "@jupyter-widgets/controls",
      "_view_module_version": "1.5.0",
      "_view_name": "HBoxView",
      "box_style": "",
      "children": [
       "IPY_MODEL_e7f63058cf1241599238aa78414e4534",
       "IPY_MODEL_1ea816a596a04099af860f303ae3730c",
       "IPY_MODEL_4a0bfb833cb6463b89d00ae4b7e9a44c"
      ],
      "layout": "IPY_MODEL_3c3423dbb7d14b439dbb1c8fe58d2db9"
     }
    },
    "d5cb42bca7574b94a0bb8eb2964f2ff4": {
     "model_module": "@jupyter-widgets/controls",
     "model_module_version": "1.5.0",
     "model_name": "FloatProgressModel",
     "state": {
      "_dom_classes": [],
      "_model_module": "@jupyter-widgets/controls",
      "_model_module_version": "1.5.0",
      "_model_name": "FloatProgressModel",
      "_view_count": null,
      "_view_module": "@jupyter-widgets/controls",
      "_view_module_version": "1.5.0",
      "_view_name": "ProgressView",
      "bar_style": "success",
      "description": "",
      "description_tooltip": null,
      "layout": "IPY_MODEL_e3a2d5fcdec849379bb7213efb0ca18c",
      "max": 350,
      "min": 0,
      "orientation": "horizontal",
      "style": "IPY_MODEL_e73fbfd81c834caa8f0179f512d20099",
      "value": 350
     }
    },
    "d64023c8826846e7aa12953804d71e1d": {
     "model_module": "@jupyter-widgets/controls",
     "model_module_version": "1.5.0",
     "model_name": "HBoxModel",
     "state": {
      "_dom_classes": [],
      "_model_module": "@jupyter-widgets/controls",
      "_model_module_version": "1.5.0",
      "_model_name": "HBoxModel",
      "_view_count": null,
      "_view_module": "@jupyter-widgets/controls",
      "_view_module_version": "1.5.0",
      "_view_name": "HBoxView",
      "box_style": "",
      "children": [
       "IPY_MODEL_bcfa300e76484b4cba766626eb58c9f4",
       "IPY_MODEL_aa90f9c1681d4f2e83c4f47e0b8f5980",
       "IPY_MODEL_ccadbdba698648428b2b5167da3ac809"
      ],
      "layout": "IPY_MODEL_8b7a83c224ec4e579fee41ae170ffcc4"
     }
    },
    "d8743e58968c417fb6031be23fa06b14": {
     "model_module": "@jupyter-widgets/controls",
     "model_module_version": "1.5.0",
     "model_name": "FloatProgressModel",
     "state": {
      "_dom_classes": [],
      "_model_module": "@jupyter-widgets/controls",
      "_model_module_version": "1.5.0",
      "_model_name": "FloatProgressModel",
      "_view_count": null,
      "_view_module": "@jupyter-widgets/controls",
      "_view_module_version": "1.5.0",
      "_view_name": "ProgressView",
      "bar_style": "success",
      "description": "",
      "description_tooltip": null,
      "layout": "IPY_MODEL_c4a011027239401fa5969ea0291571f7",
      "max": 3,
      "min": 0,
      "orientation": "horizontal",
      "style": "IPY_MODEL_37347ad986984a4fb2579c9158d62acb",
      "value": 3
     }
    },
    "d94ea4a55d59466f962f128b41859767": {
     "model_module": "@jupyter-widgets/controls",
     "model_module_version": "1.5.0",
     "model_name": "DescriptionStyleModel",
     "state": {
      "_model_module": "@jupyter-widgets/controls",
      "_model_module_version": "1.5.0",
      "_model_name": "DescriptionStyleModel",
      "_view_count": null,
      "_view_module": "@jupyter-widgets/base",
      "_view_module_version": "1.2.0",
      "_view_name": "StyleView",
      "description_width": ""
     }
    },
    "d9f42b968a6e49ea8f8b17f15e0c27ed": {
     "model_module": "@jupyter-widgets/base",
     "model_module_version": "1.2.0",
     "model_name": "LayoutModel",
     "state": {
      "_model_module": "@jupyter-widgets/base",
      "_model_module_version": "1.2.0",
      "_model_name": "LayoutModel",
      "_view_count": null,
      "_view_module": "@jupyter-widgets/base",
      "_view_module_version": "1.2.0",
      "_view_name": "LayoutView",
      "align_content": null,
      "align_items": null,
      "align_self": null,
      "border": null,
      "bottom": null,
      "display": null,
      "flex": null,
      "flex_flow": null,
      "grid_area": null,
      "grid_auto_columns": null,
      "grid_auto_flow": null,
      "grid_auto_rows": null,
      "grid_column": null,
      "grid_gap": null,
      "grid_row": null,
      "grid_template_areas": null,
      "grid_template_columns": null,
      "grid_template_rows": null,
      "height": null,
      "justify_content": null,
      "justify_items": null,
      "left": null,
      "margin": null,
      "max_height": null,
      "max_width": null,
      "min_height": null,
      "min_width": null,
      "object_fit": null,
      "object_position": null,
      "order": null,
      "overflow": null,
      "overflow_x": null,
      "overflow_y": null,
      "padding": null,
      "right": null,
      "top": null,
      "visibility": null,
      "width": null
     }
    },
    "dbb919e4b6464c8fa5c88598aa137bd6": {
     "model_module": "@jupyter-widgets/controls",
     "model_module_version": "1.5.0",
     "model_name": "FloatProgressModel",
     "state": {
      "_dom_classes": [],
      "_model_module": "@jupyter-widgets/controls",
      "_model_module_version": "1.5.0",
      "_model_name": "FloatProgressModel",
      "_view_count": null,
      "_view_module": "@jupyter-widgets/controls",
      "_view_module_version": "1.5.0",
      "_view_name": "ProgressView",
      "bar_style": "success",
      "description": "",
      "description_tooltip": null,
      "layout": "IPY_MODEL_f249252862424d6180f3ce03db1306e5",
      "max": 466247,
      "min": 0,
      "orientation": "horizontal",
      "style": "IPY_MODEL_3cdecea831db4539b8605722bf5cab62",
      "value": 466247
     }
    },
    "dc5abb9c990e4bab953b07fd295195e6": {
     "model_module": "@jupyter-widgets/controls",
     "model_module_version": "1.5.0",
     "model_name": "HTMLModel",
     "state": {
      "_dom_classes": [],
      "_model_module": "@jupyter-widgets/controls",
      "_model_module_version": "1.5.0",
      "_model_name": "HTMLModel",
      "_view_count": null,
      "_view_module": "@jupyter-widgets/controls",
      "_view_module_version": "1.5.0",
      "_view_name": "HTMLView",
      "description": "",
      "description_tooltip": null,
      "layout": "IPY_MODEL_a489daf348ec4c39aef6f813eb210f29",
      "placeholder": "​",
      "style": "IPY_MODEL_1e951806d6ee482b98d94438afa11561",
      "value": " 25.1k/25.1k [00:00&lt;00:00, 942kB/s]"
     }
    },
    "de45745342c84150a6be4764dc8e3705": {
     "model_module": "@jupyter-widgets/base",
     "model_module_version": "1.2.0",
     "model_name": "LayoutModel",
     "state": {
      "_model_module": "@jupyter-widgets/base",
      "_model_module_version": "1.2.0",
      "_model_name": "LayoutModel",
      "_view_count": null,
      "_view_module": "@jupyter-widgets/base",
      "_view_module_version": "1.2.0",
      "_view_name": "LayoutView",
      "align_content": null,
      "align_items": null,
      "align_self": null,
      "border": null,
      "bottom": null,
      "display": null,
      "flex": null,
      "flex_flow": null,
      "grid_area": null,
      "grid_auto_columns": null,
      "grid_auto_flow": null,
      "grid_auto_rows": null,
      "grid_column": null,
      "grid_gap": null,
      "grid_row": null,
      "grid_template_areas": null,
      "grid_template_columns": null,
      "grid_template_rows": null,
      "height": null,
      "justify_content": null,
      "justify_items": null,
      "left": null,
      "margin": null,
      "max_height": null,
      "max_width": null,
      "min_height": null,
      "min_width": null,
      "object_fit": null,
      "object_position": null,
      "order": null,
      "overflow": null,
      "overflow_x": null,
      "overflow_y": null,
      "padding": null,
      "right": null,
      "top": null,
      "visibility": null,
      "width": null
     }
    },
    "de464a4dd60449af8e9b722f7f51a070": {
     "model_module": "@jupyter-widgets/controls",
     "model_module_version": "1.5.0",
     "model_name": "DescriptionStyleModel",
     "state": {
      "_model_module": "@jupyter-widgets/controls",
      "_model_module_version": "1.5.0",
      "_model_name": "DescriptionStyleModel",
      "_view_count": null,
      "_view_module": "@jupyter-widgets/base",
      "_view_module_version": "1.2.0",
      "_view_name": "StyleView",
      "description_width": ""
     }
    },
    "de633d347208477991ba40968ac3053e": {
     "model_module": "@jupyter-widgets/controls",
     "model_module_version": "1.5.0",
     "model_name": "HTMLModel",
     "state": {
      "_dom_classes": [],
      "_model_module": "@jupyter-widgets/controls",
      "_model_module_version": "1.5.0",
      "_model_name": "HTMLModel",
      "_view_count": null,
      "_view_module": "@jupyter-widgets/controls",
      "_view_module_version": "1.5.0",
      "_view_name": "HTMLView",
      "description": "",
      "description_tooltip": null,
      "layout": "IPY_MODEL_250e143ceffa451c88b3085311f09a53",
      "placeholder": "​",
      "style": "IPY_MODEL_33d8d0105ed44269bd133fc31e73b64e",
      "value": " 3/3 [03:54&lt;00:00, 76.89s/it]"
     }
    },
    "e04bb049434c4023813b394aa7ee3ac1": {
     "model_module": "@jupyter-widgets/base",
     "model_module_version": "1.2.0",
     "model_name": "LayoutModel",
     "state": {
      "_model_module": "@jupyter-widgets/base",
      "_model_module_version": "1.2.0",
      "_model_name": "LayoutModel",
      "_view_count": null,
      "_view_module": "@jupyter-widgets/base",
      "_view_module_version": "1.2.0",
      "_view_name": "LayoutView",
      "align_content": null,
      "align_items": null,
      "align_self": null,
      "border": null,
      "bottom": null,
      "display": null,
      "flex": null,
      "flex_flow": null,
      "grid_area": null,
      "grid_auto_columns": null,
      "grid_auto_flow": null,
      "grid_auto_rows": null,
      "grid_column": null,
      "grid_gap": null,
      "grid_row": null,
      "grid_template_areas": null,
      "grid_template_columns": null,
      "grid_template_rows": null,
      "height": null,
      "justify_content": null,
      "justify_items": null,
      "left": null,
      "margin": null,
      "max_height": null,
      "max_width": null,
      "min_height": null,
      "min_width": null,
      "object_fit": null,
      "object_position": null,
      "order": null,
      "overflow": null,
      "overflow_x": null,
      "overflow_y": null,
      "padding": null,
      "right": null,
      "top": null,
      "visibility": null,
      "width": null
     }
    },
    "e16c946e63aa4da4b7020c94bc5dc214": {
     "model_module": "@jupyter-widgets/controls",
     "model_module_version": "1.5.0",
     "model_name": "ProgressStyleModel",
     "state": {
      "_model_module": "@jupyter-widgets/controls",
      "_model_module_version": "1.5.0",
      "_model_name": "ProgressStyleModel",
      "_view_count": null,
      "_view_module": "@jupyter-widgets/base",
      "_view_module_version": "1.2.0",
      "_view_name": "StyleView",
      "bar_color": null,
      "description_width": ""
     }
    },
    "e16d452d04524f46a347002177a8b528": {
     "model_module": "@jupyter-widgets/base",
     "model_module_version": "1.2.0",
     "model_name": "LayoutModel",
     "state": {
      "_model_module": "@jupyter-widgets/base",
      "_model_module_version": "1.2.0",
      "_model_name": "LayoutModel",
      "_view_count": null,
      "_view_module": "@jupyter-widgets/base",
      "_view_module_version": "1.2.0",
      "_view_name": "LayoutView",
      "align_content": null,
      "align_items": null,
      "align_self": null,
      "border": null,
      "bottom": null,
      "display": null,
      "flex": null,
      "flex_flow": null,
      "grid_area": null,
      "grid_auto_columns": null,
      "grid_auto_flow": null,
      "grid_auto_rows": null,
      "grid_column": null,
      "grid_gap": null,
      "grid_row": null,
      "grid_template_areas": null,
      "grid_template_columns": null,
      "grid_template_rows": null,
      "height": null,
      "justify_content": null,
      "justify_items": null,
      "left": null,
      "margin": null,
      "max_height": null,
      "max_width": null,
      "min_height": null,
      "min_width": null,
      "object_fit": null,
      "object_position": null,
      "order": null,
      "overflow": null,
      "overflow_x": null,
      "overflow_y": null,
      "padding": null,
      "right": null,
      "top": null,
      "visibility": null,
      "width": null
     }
    },
    "e3a2d5fcdec849379bb7213efb0ca18c": {
     "model_module": "@jupyter-widgets/base",
     "model_module_version": "1.2.0",
     "model_name": "LayoutModel",
     "state": {
      "_model_module": "@jupyter-widgets/base",
      "_model_module_version": "1.2.0",
      "_model_name": "LayoutModel",
      "_view_count": null,
      "_view_module": "@jupyter-widgets/base",
      "_view_module_version": "1.2.0",
      "_view_name": "LayoutView",
      "align_content": null,
      "align_items": null,
      "align_self": null,
      "border": null,
      "bottom": null,
      "display": null,
      "flex": null,
      "flex_flow": null,
      "grid_area": null,
      "grid_auto_columns": null,
      "grid_auto_flow": null,
      "grid_auto_rows": null,
      "grid_column": null,
      "grid_gap": null,
      "grid_row": null,
      "grid_template_areas": null,
      "grid_template_columns": null,
      "grid_template_rows": null,
      "height": null,
      "justify_content": null,
      "justify_items": null,
      "left": null,
      "margin": null,
      "max_height": null,
      "max_width": null,
      "min_height": null,
      "min_width": null,
      "object_fit": null,
      "object_position": null,
      "order": null,
      "overflow": null,
      "overflow_x": null,
      "overflow_y": null,
      "padding": null,
      "right": null,
      "top": null,
      "visibility": null,
      "width": null
     }
    },
    "e439509840aa49048d188e72e02e03d2": {
     "model_module": "@jupyter-widgets/controls",
     "model_module_version": "1.5.0",
     "model_name": "HTMLModel",
     "state": {
      "_dom_classes": [],
      "_model_module": "@jupyter-widgets/controls",
      "_model_module_version": "1.5.0",
      "_model_name": "HTMLModel",
      "_view_count": null,
      "_view_module": "@jupyter-widgets/controls",
      "_view_module_version": "1.5.0",
      "_view_name": "HTMLView",
      "description": "",
      "description_tooltip": null,
      "layout": "IPY_MODEL_ba51610b3eef46fabbf656168f210df2",
      "placeholder": "​",
      "style": "IPY_MODEL_528ed3aa2bba4295b0284bac5020d65e",
      "value": " 4.94G/4.94G [01:20&lt;00:00, 99.4MB/s]"
     }
    },
    "e6749126264b4d9da81ac2dd8310e290": {
     "model_module": "@jupyter-widgets/controls",
     "model_module_version": "1.5.0",
     "model_name": "HTMLModel",
     "state": {
      "_dom_classes": [],
      "_model_module": "@jupyter-widgets/controls",
      "_model_module_version": "1.5.0",
      "_model_name": "HTMLModel",
      "_view_count": null,
      "_view_module": "@jupyter-widgets/controls",
      "_view_module_version": "1.5.0",
      "_view_name": "HTMLView",
      "description": "",
      "description_tooltip": null,
      "layout": "IPY_MODEL_e16d452d04524f46a347002177a8b528",
      "placeholder": "​",
      "style": "IPY_MODEL_67a769e450494d658a725bea7a0f2c08",
      "value": "tokenizer_config.json: 100%"
     }
    },
    "e73fbfd81c834caa8f0179f512d20099": {
     "model_module": "@jupyter-widgets/controls",
     "model_module_version": "1.5.0",
     "model_name": "ProgressStyleModel",
     "state": {
      "_model_module": "@jupyter-widgets/controls",
      "_model_module_version": "1.5.0",
      "_model_name": "ProgressStyleModel",
      "_view_count": null,
      "_view_module": "@jupyter-widgets/base",
      "_view_module_version": "1.2.0",
      "_view_name": "StyleView",
      "bar_color": null,
      "description_width": ""
     }
    },
    "e752e42e29b3445ebe5193af580cd7fa": {
     "model_module": "@jupyter-widgets/controls",
     "model_module_version": "1.5.0",
     "model_name": "HTMLModel",
     "state": {
      "_dom_classes": [],
      "_model_module": "@jupyter-widgets/controls",
      "_model_module_version": "1.5.0",
      "_model_name": "HTMLModel",
      "_view_count": null,
      "_view_module": "@jupyter-widgets/controls",
      "_view_module_version": "1.5.0",
      "_view_name": "HTMLView",
      "description": "",
      "description_tooltip": null,
      "layout": "IPY_MODEL_e90faa423a7d48efbf2f583b6ba64446",
      "placeholder": "​",
      "style": "IPY_MODEL_d2dd4c01d45143b592966372ae6ae30b",
      "value": "Loading checkpoint shards: 100%"
     }
    },
    "e7f63058cf1241599238aa78414e4534": {
     "model_module": "@jupyter-widgets/controls",
     "model_module_version": "1.5.0",
     "model_name": "HTMLModel",
     "state": {
      "_dom_classes": [],
      "_model_module": "@jupyter-widgets/controls",
      "_model_module_version": "1.5.0",
      "_model_name": "HTMLModel",
      "_view_count": null,
      "_view_module": "@jupyter-widgets/controls",
      "_view_module_version": "1.5.0",
      "_view_name": "HTMLView",
      "description": "",
      "description_tooltip": null,
      "layout": "IPY_MODEL_00cf0bb3b649425c9152ac76630c482d",
      "placeholder": "​",
      "style": "IPY_MODEL_1b081205729d4f8c808ee684dc09c56a",
      "value": "model-00003-of-00003.safetensors: 100%"
     }
    },
    "e8772846d1ac44f49d7bc12ddedff1ef": {
     "model_module": "@jupyter-widgets/base",
     "model_module_version": "1.2.0",
     "model_name": "LayoutModel",
     "state": {
      "_model_module": "@jupyter-widgets/base",
      "_model_module_version": "1.2.0",
      "_model_name": "LayoutModel",
      "_view_count": null,
      "_view_module": "@jupyter-widgets/base",
      "_view_module_version": "1.2.0",
      "_view_name": "LayoutView",
      "align_content": null,
      "align_items": null,
      "align_self": null,
      "border": null,
      "bottom": null,
      "display": null,
      "flex": null,
      "flex_flow": null,
      "grid_area": null,
      "grid_auto_columns": null,
      "grid_auto_flow": null,
      "grid_auto_rows": null,
      "grid_column": null,
      "grid_gap": null,
      "grid_row": null,
      "grid_template_areas": null,
      "grid_template_columns": null,
      "grid_template_rows": null,
      "height": null,
      "justify_content": null,
      "justify_items": null,
      "left": null,
      "margin": null,
      "max_height": null,
      "max_width": null,
      "min_height": null,
      "min_width": null,
      "object_fit": null,
      "object_position": null,
      "order": null,
      "overflow": null,
      "overflow_x": null,
      "overflow_y": null,
      "padding": null,
      "right": null,
      "top": null,
      "visibility": null,
      "width": null
     }
    },
    "e8909890c02744319c0728066ccbedf0": {
     "model_module": "@jupyter-widgets/controls",
     "model_module_version": "1.5.0",
     "model_name": "HBoxModel",
     "state": {
      "_dom_classes": [],
      "_model_module": "@jupyter-widgets/controls",
      "_model_module_version": "1.5.0",
      "_model_name": "HBoxModel",
      "_view_count": null,
      "_view_module": "@jupyter-widgets/controls",
      "_view_module_version": "1.5.0",
      "_view_name": "HBoxView",
      "box_style": "",
      "children": [
       "IPY_MODEL_9ba026bbd2d448dfbeeacda80dabb4a8",
       "IPY_MODEL_dbb919e4b6464c8fa5c88598aa137bd6",
       "IPY_MODEL_91e208050fc4450687546b6f43a8bfe3"
      ],
      "layout": "IPY_MODEL_0bfaf396463b4d088aafcf072bc629f8"
     }
    },
    "e90faa423a7d48efbf2f583b6ba64446": {
     "model_module": "@jupyter-widgets/base",
     "model_module_version": "1.2.0",
     "model_name": "LayoutModel",
     "state": {
      "_model_module": "@jupyter-widgets/base",
      "_model_module_version": "1.2.0",
      "_model_name": "LayoutModel",
      "_view_count": null,
      "_view_module": "@jupyter-widgets/base",
      "_view_module_version": "1.2.0",
      "_view_name": "LayoutView",
      "align_content": null,
      "align_items": null,
      "align_self": null,
      "border": null,
      "bottom": null,
      "display": null,
      "flex": null,
      "flex_flow": null,
      "grid_area": null,
      "grid_auto_columns": null,
      "grid_auto_flow": null,
      "grid_auto_rows": null,
      "grid_column": null,
      "grid_gap": null,
      "grid_row": null,
      "grid_template_areas": null,
      "grid_template_columns": null,
      "grid_template_rows": null,
      "height": null,
      "justify_content": null,
      "justify_items": null,
      "left": null,
      "margin": null,
      "max_height": null,
      "max_width": null,
      "min_height": null,
      "min_width": null,
      "object_fit": null,
      "object_position": null,
      "order": null,
      "overflow": null,
      "overflow_x": null,
      "overflow_y": null,
      "padding": null,
      "right": null,
      "top": null,
      "visibility": null,
      "width": null
     }
    },
    "eb45ee68476a4df6a9db3f1b7ef6247c": {
     "model_module": "@jupyter-widgets/controls",
     "model_module_version": "1.5.0",
     "model_name": "HBoxModel",
     "state": {
      "_dom_classes": [],
      "_model_module": "@jupyter-widgets/controls",
      "_model_module_version": "1.5.0",
      "_model_name": "HBoxModel",
      "_view_count": null,
      "_view_module": "@jupyter-widgets/controls",
      "_view_module_version": "1.5.0",
      "_view_name": "HBoxView",
      "box_style": "",
      "children": [
       "IPY_MODEL_b9091d21ad4249fd8aceda64fce24164",
       "IPY_MODEL_b93259d2f4384a18a1de62b22226e9ab",
       "IPY_MODEL_3025de5cd61b4c79abef6f88b4c5dc8d"
      ],
      "layout": "IPY_MODEL_a03af6cc9c714f4eb8b30bf2ad7d3712"
     }
    },
    "ec6861c7f95248048bbaeda30a9c3c8c": {
     "model_module": "@jupyter-widgets/controls",
     "model_module_version": "1.5.0",
     "model_name": "HTMLModel",
     "state": {
      "_dom_classes": [],
      "_model_module": "@jupyter-widgets/controls",
      "_model_module_version": "1.5.0",
      "_model_name": "HTMLModel",
      "_view_count": null,
      "_view_module": "@jupyter-widgets/controls",
      "_view_module_version": "1.5.0",
      "_view_name": "HTMLView",
      "description": "",
      "description_tooltip": null,
      "layout": "IPY_MODEL_ec726112365644ac9f887bd3e5e86209",
      "placeholder": "​",
      "style": "IPY_MODEL_2e7a830835cc415ea04daab77eb1a3fd",
      "value": " 90.9M/90.9M [00:00&lt;00:00, 252MB/s]"
     }
    },
    "ec726112365644ac9f887bd3e5e86209": {
     "model_module": "@jupyter-widgets/base",
     "model_module_version": "1.2.0",
     "model_name": "LayoutModel",
     "state": {
      "_model_module": "@jupyter-widgets/base",
      "_model_module_version": "1.2.0",
      "_model_name": "LayoutModel",
      "_view_count": null,
      "_view_module": "@jupyter-widgets/base",
      "_view_module_version": "1.2.0",
      "_view_name": "LayoutView",
      "align_content": null,
      "align_items": null,
      "align_self": null,
      "border": null,
      "bottom": null,
      "display": null,
      "flex": null,
      "flex_flow": null,
      "grid_area": null,
      "grid_auto_columns": null,
      "grid_auto_flow": null,
      "grid_auto_rows": null,
      "grid_column": null,
      "grid_gap": null,
      "grid_row": null,
      "grid_template_areas": null,
      "grid_template_columns": null,
      "grid_template_rows": null,
      "height": null,
      "justify_content": null,
      "justify_items": null,
      "left": null,
      "margin": null,
      "max_height": null,
      "max_width": null,
      "min_height": null,
      "min_width": null,
      "object_fit": null,
      "object_position": null,
      "order": null,
      "overflow": null,
      "overflow_x": null,
      "overflow_y": null,
      "padding": null,
      "right": null,
      "top": null,
      "visibility": null,
      "width": null
     }
    },
    "ee3af3128c5a488e882a15caea29639e": {
     "model_module": "@jupyter-widgets/base",
     "model_module_version": "1.2.0",
     "model_name": "LayoutModel",
     "state": {
      "_model_module": "@jupyter-widgets/base",
      "_model_module_version": "1.2.0",
      "_model_name": "LayoutModel",
      "_view_count": null,
      "_view_module": "@jupyter-widgets/base",
      "_view_module_version": "1.2.0",
      "_view_name": "LayoutView",
      "align_content": null,
      "align_items": null,
      "align_self": null,
      "border": null,
      "bottom": null,
      "display": null,
      "flex": null,
      "flex_flow": null,
      "grid_area": null,
      "grid_auto_columns": null,
      "grid_auto_flow": null,
      "grid_auto_rows": null,
      "grid_column": null,
      "grid_gap": null,
      "grid_row": null,
      "grid_template_areas": null,
      "grid_template_columns": null,
      "grid_template_rows": null,
      "height": null,
      "justify_content": null,
      "justify_items": null,
      "left": null,
      "margin": null,
      "max_height": null,
      "max_width": null,
      "min_height": null,
      "min_width": null,
      "object_fit": null,
      "object_position": null,
      "order": null,
      "overflow": null,
      "overflow_x": null,
      "overflow_y": null,
      "padding": null,
      "right": null,
      "top": null,
      "visibility": null,
      "width": null
     }
    },
    "eeb6d43eeb194bdcaaeeeebdfdb1a783": {
     "model_module": "@jupyter-widgets/base",
     "model_module_version": "1.2.0",
     "model_name": "LayoutModel",
     "state": {
      "_model_module": "@jupyter-widgets/base",
      "_model_module_version": "1.2.0",
      "_model_name": "LayoutModel",
      "_view_count": null,
      "_view_module": "@jupyter-widgets/base",
      "_view_module_version": "1.2.0",
      "_view_name": "LayoutView",
      "align_content": null,
      "align_items": null,
      "align_self": null,
      "border": null,
      "bottom": null,
      "display": null,
      "flex": null,
      "flex_flow": null,
      "grid_area": null,
      "grid_auto_columns": null,
      "grid_auto_flow": null,
      "grid_auto_rows": null,
      "grid_column": null,
      "grid_gap": null,
      "grid_row": null,
      "grid_template_areas": null,
      "grid_template_columns": null,
      "grid_template_rows": null,
      "height": null,
      "justify_content": null,
      "justify_items": null,
      "left": null,
      "margin": null,
      "max_height": null,
      "max_width": null,
      "min_height": null,
      "min_width": null,
      "object_fit": null,
      "object_position": null,
      "order": null,
      "overflow": null,
      "overflow_x": null,
      "overflow_y": null,
      "padding": null,
      "right": null,
      "top": null,
      "visibility": null,
      "width": null
     }
    },
    "eed0174f7ea247e0b9f5cd62cd3bdb50": {
     "model_module": "@jupyter-widgets/base",
     "model_module_version": "1.2.0",
     "model_name": "LayoutModel",
     "state": {
      "_model_module": "@jupyter-widgets/base",
      "_model_module_version": "1.2.0",
      "_model_name": "LayoutModel",
      "_view_count": null,
      "_view_module": "@jupyter-widgets/base",
      "_view_module_version": "1.2.0",
      "_view_name": "LayoutView",
      "align_content": null,
      "align_items": null,
      "align_self": null,
      "border": null,
      "bottom": null,
      "display": null,
      "flex": null,
      "flex_flow": null,
      "grid_area": null,
      "grid_auto_columns": null,
      "grid_auto_flow": null,
      "grid_auto_rows": null,
      "grid_column": null,
      "grid_gap": null,
      "grid_row": null,
      "grid_template_areas": null,
      "grid_template_columns": null,
      "grid_template_rows": null,
      "height": null,
      "justify_content": null,
      "justify_items": null,
      "left": null,
      "margin": null,
      "max_height": null,
      "max_width": null,
      "min_height": null,
      "min_width": null,
      "object_fit": null,
      "object_position": null,
      "order": null,
      "overflow": null,
      "overflow_x": null,
      "overflow_y": null,
      "padding": null,
      "right": null,
      "top": null,
      "visibility": null,
      "width": null
     }
    },
    "ef0831617eee48d2b6be978fffaccaa9": {
     "model_module": "@jupyter-widgets/controls",
     "model_module_version": "1.5.0",
     "model_name": "HBoxModel",
     "state": {
      "_dom_classes": [],
      "_model_module": "@jupyter-widgets/controls",
      "_model_module_version": "1.5.0",
      "_model_name": "HBoxModel",
      "_view_count": null,
      "_view_module": "@jupyter-widgets/controls",
      "_view_module_version": "1.5.0",
      "_view_name": "HBoxView",
      "box_style": "",
      "children": [
       "IPY_MODEL_7fd5cd30508c4a7388a1b3981f613901",
       "IPY_MODEL_f7f5257e580046ebbe766dbd8716d77b",
       "IPY_MODEL_de633d347208477991ba40968ac3053e"
      ],
      "layout": "IPY_MODEL_3195e701137e425fbb46c9fdc27f90d0"
     }
    },
    "ef08df7f48f94dbf8c5bb3d6cf1d0f24": {
     "model_module": "@jupyter-widgets/base",
     "model_module_version": "1.2.0",
     "model_name": "LayoutModel",
     "state": {
      "_model_module": "@jupyter-widgets/base",
      "_model_module_version": "1.2.0",
      "_model_name": "LayoutModel",
      "_view_count": null,
      "_view_module": "@jupyter-widgets/base",
      "_view_module_version": "1.2.0",
      "_view_name": "LayoutView",
      "align_content": null,
      "align_items": null,
      "align_self": null,
      "border": null,
      "bottom": null,
      "display": null,
      "flex": null,
      "flex_flow": null,
      "grid_area": null,
      "grid_auto_columns": null,
      "grid_auto_flow": null,
      "grid_auto_rows": null,
      "grid_column": null,
      "grid_gap": null,
      "grid_row": null,
      "grid_template_areas": null,
      "grid_template_columns": null,
      "grid_template_rows": null,
      "height": null,
      "justify_content": null,
      "justify_items": null,
      "left": null,
      "margin": null,
      "max_height": null,
      "max_width": null,
      "min_height": null,
      "min_width": null,
      "object_fit": null,
      "object_position": null,
      "order": null,
      "overflow": null,
      "overflow_x": null,
      "overflow_y": null,
      "padding": null,
      "right": null,
      "top": null,
      "visibility": null,
      "width": null
     }
    },
    "f1623525aafa49238b5a7192e3631aa4": {
     "model_module": "@jupyter-widgets/controls",
     "model_module_version": "1.5.0",
     "model_name": "DescriptionStyleModel",
     "state": {
      "_model_module": "@jupyter-widgets/controls",
      "_model_module_version": "1.5.0",
      "_model_name": "DescriptionStyleModel",
      "_view_count": null,
      "_view_module": "@jupyter-widgets/base",
      "_view_module_version": "1.2.0",
      "_view_name": "StyleView",
      "description_width": ""
     }
    },
    "f222945cafa74c0f99079d03397b8ea6": {
     "model_module": "@jupyter-widgets/controls",
     "model_module_version": "1.5.0",
     "model_name": "DescriptionStyleModel",
     "state": {
      "_model_module": "@jupyter-widgets/controls",
      "_model_module_version": "1.5.0",
      "_model_name": "DescriptionStyleModel",
      "_view_count": null,
      "_view_module": "@jupyter-widgets/base",
      "_view_module_version": "1.2.0",
      "_view_name": "StyleView",
      "description_width": ""
     }
    },
    "f249252862424d6180f3ce03db1306e5": {
     "model_module": "@jupyter-widgets/base",
     "model_module_version": "1.2.0",
     "model_name": "LayoutModel",
     "state": {
      "_model_module": "@jupyter-widgets/base",
      "_model_module_version": "1.2.0",
      "_model_name": "LayoutModel",
      "_view_count": null,
      "_view_module": "@jupyter-widgets/base",
      "_view_module_version": "1.2.0",
      "_view_name": "LayoutView",
      "align_content": null,
      "align_items": null,
      "align_self": null,
      "border": null,
      "bottom": null,
      "display": null,
      "flex": null,
      "flex_flow": null,
      "grid_area": null,
      "grid_auto_columns": null,
      "grid_auto_flow": null,
      "grid_auto_rows": null,
      "grid_column": null,
      "grid_gap": null,
      "grid_row": null,
      "grid_template_areas": null,
      "grid_template_columns": null,
      "grid_template_rows": null,
      "height": null,
      "justify_content": null,
      "justify_items": null,
      "left": null,
      "margin": null,
      "max_height": null,
      "max_width": null,
      "min_height": null,
      "min_width": null,
      "object_fit": null,
      "object_position": null,
      "order": null,
      "overflow": null,
      "overflow_x": null,
      "overflow_y": null,
      "padding": null,
      "right": null,
      "top": null,
      "visibility": null,
      "width": null
     }
    },
    "f2c90a2b9b8b4369860dc8bfbf57076e": {
     "model_module": "@jupyter-widgets/base",
     "model_module_version": "1.2.0",
     "model_name": "LayoutModel",
     "state": {
      "_model_module": "@jupyter-widgets/base",
      "_model_module_version": "1.2.0",
      "_model_name": "LayoutModel",
      "_view_count": null,
      "_view_module": "@jupyter-widgets/base",
      "_view_module_version": "1.2.0",
      "_view_name": "LayoutView",
      "align_content": null,
      "align_items": null,
      "align_self": null,
      "border": null,
      "bottom": null,
      "display": null,
      "flex": null,
      "flex_flow": null,
      "grid_area": null,
      "grid_auto_columns": null,
      "grid_auto_flow": null,
      "grid_auto_rows": null,
      "grid_column": null,
      "grid_gap": null,
      "grid_row": null,
      "grid_template_areas": null,
      "grid_template_columns": null,
      "grid_template_rows": null,
      "height": null,
      "justify_content": null,
      "justify_items": null,
      "left": null,
      "margin": null,
      "max_height": null,
      "max_width": null,
      "min_height": null,
      "min_width": null,
      "object_fit": null,
      "object_position": null,
      "order": null,
      "overflow": null,
      "overflow_x": null,
      "overflow_y": null,
      "padding": null,
      "right": null,
      "top": null,
      "visibility": null,
      "width": null
     }
    },
    "f5930ffbe47043d189ed3a83838adec6": {
     "model_module": "@jupyter-widgets/controls",
     "model_module_version": "1.5.0",
     "model_name": "DescriptionStyleModel",
     "state": {
      "_model_module": "@jupyter-widgets/controls",
      "_model_module_version": "1.5.0",
      "_model_name": "DescriptionStyleModel",
      "_view_count": null,
      "_view_module": "@jupyter-widgets/base",
      "_view_module_version": "1.2.0",
      "_view_name": "StyleView",
      "description_width": ""
     }
    },
    "f59c4db97921495a8e6620fc81c80bef": {
     "model_module": "@jupyter-widgets/base",
     "model_module_version": "1.2.0",
     "model_name": "LayoutModel",
     "state": {
      "_model_module": "@jupyter-widgets/base",
      "_model_module_version": "1.2.0",
      "_model_name": "LayoutModel",
      "_view_count": null,
      "_view_module": "@jupyter-widgets/base",
      "_view_module_version": "1.2.0",
      "_view_name": "LayoutView",
      "align_content": null,
      "align_items": null,
      "align_self": null,
      "border": null,
      "bottom": null,
      "display": null,
      "flex": null,
      "flex_flow": null,
      "grid_area": null,
      "grid_auto_columns": null,
      "grid_auto_flow": null,
      "grid_auto_rows": null,
      "grid_column": null,
      "grid_gap": null,
      "grid_row": null,
      "grid_template_areas": null,
      "grid_template_columns": null,
      "grid_template_rows": null,
      "height": null,
      "justify_content": null,
      "justify_items": null,
      "left": null,
      "margin": null,
      "max_height": null,
      "max_width": null,
      "min_height": null,
      "min_width": null,
      "object_fit": null,
      "object_position": null,
      "order": null,
      "overflow": null,
      "overflow_x": null,
      "overflow_y": null,
      "padding": null,
      "right": null,
      "top": null,
      "visibility": null,
      "width": null
     }
    },
    "f6453d0922054e96a887f947a3b07593": {
     "model_module": "@jupyter-widgets/controls",
     "model_module_version": "1.5.0",
     "model_name": "DescriptionStyleModel",
     "state": {
      "_model_module": "@jupyter-widgets/controls",
      "_model_module_version": "1.5.0",
      "_model_name": "DescriptionStyleModel",
      "_view_count": null,
      "_view_module": "@jupyter-widgets/base",
      "_view_module_version": "1.2.0",
      "_view_name": "StyleView",
      "description_width": ""
     }
    },
    "f7b8c713ea8147fd938cd19fd3d4efa2": {
     "model_module": "@jupyter-widgets/controls",
     "model_module_version": "1.5.0",
     "model_name": "ProgressStyleModel",
     "state": {
      "_model_module": "@jupyter-widgets/controls",
      "_model_module_version": "1.5.0",
      "_model_name": "ProgressStyleModel",
      "_view_count": null,
      "_view_module": "@jupyter-widgets/base",
      "_view_module_version": "1.2.0",
      "_view_name": "StyleView",
      "bar_color": null,
      "description_width": ""
     }
    },
    "f7f5257e580046ebbe766dbd8716d77b": {
     "model_module": "@jupyter-widgets/controls",
     "model_module_version": "1.5.0",
     "model_name": "FloatProgressModel",
     "state": {
      "_dom_classes": [],
      "_model_module": "@jupyter-widgets/controls",
      "_model_module_version": "1.5.0",
      "_model_name": "FloatProgressModel",
      "_view_count": null,
      "_view_module": "@jupyter-widgets/controls",
      "_view_module_version": "1.5.0",
      "_view_name": "ProgressView",
      "bar_style": "success",
      "description": "",
      "description_tooltip": null,
      "layout": "IPY_MODEL_62ada286282b4a709f0a97be76bb5a74",
      "max": 3,
      "min": 0,
      "orientation": "horizontal",
      "style": "IPY_MODEL_e16c946e63aa4da4b7020c94bc5dc214",
      "value": 3
     }
    },
    "f9712d0b0b4f4d508ca5b319022d92b3": {
     "model_module": "@jupyter-widgets/base",
     "model_module_version": "1.2.0",
     "model_name": "LayoutModel",
     "state": {
      "_model_module": "@jupyter-widgets/base",
      "_model_module_version": "1.2.0",
      "_model_name": "LayoutModel",
      "_view_count": null,
      "_view_module": "@jupyter-widgets/base",
      "_view_module_version": "1.2.0",
      "_view_name": "LayoutView",
      "align_content": null,
      "align_items": null,
      "align_self": null,
      "border": null,
      "bottom": null,
      "display": null,
      "flex": null,
      "flex_flow": null,
      "grid_area": null,
      "grid_auto_columns": null,
      "grid_auto_flow": null,
      "grid_auto_rows": null,
      "grid_column": null,
      "grid_gap": null,
      "grid_row": null,
      "grid_template_areas": null,
      "grid_template_columns": null,
      "grid_template_rows": null,
      "height": null,
      "justify_content": null,
      "justify_items": null,
      "left": null,
      "margin": null,
      "max_height": null,
      "max_width": null,
      "min_height": null,
      "min_width": null,
      "object_fit": null,
      "object_position": null,
      "order": null,
      "overflow": null,
      "overflow_x": null,
      "overflow_y": null,
      "padding": null,
      "right": null,
      "top": null,
      "visibility": null,
      "width": null
     }
    },
    "fad8e78e6173458cae9f16b470791f70": {
     "model_module": "@jupyter-widgets/controls",
     "model_module_version": "1.5.0",
     "model_name": "HBoxModel",
     "state": {
      "_dom_classes": [],
      "_model_module": "@jupyter-widgets/controls",
      "_model_module_version": "1.5.0",
      "_model_name": "HBoxModel",
      "_view_count": null,
      "_view_module": "@jupyter-widgets/controls",
      "_view_module_version": "1.5.0",
      "_view_name": "HBoxView",
      "box_style": "",
      "children": [
       "IPY_MODEL_c56b7de117a8465886aaa87360cd7276",
       "IPY_MODEL_2b6b898e332247b992b94edacc369ab8",
       "IPY_MODEL_1c68ef2091694f6781a3c4522d7d2e3a"
      ],
      "layout": "IPY_MODEL_de45745342c84150a6be4764dc8e3705"
     }
    },
    "fc4cb7e594484b9fa4aadf817e0a8536": {
     "model_module": "@jupyter-widgets/controls",
     "model_module_version": "1.5.0",
     "model_name": "ProgressStyleModel",
     "state": {
      "_model_module": "@jupyter-widgets/controls",
      "_model_module_version": "1.5.0",
      "_model_name": "ProgressStyleModel",
      "_view_count": null,
      "_view_module": "@jupyter-widgets/base",
      "_view_module_version": "1.2.0",
      "_view_name": "StyleView",
      "bar_color": null,
      "description_width": ""
     }
    },
    "fefa75b78563471eb1644064166cfc51": {
     "model_module": "@jupyter-widgets/controls",
     "model_module_version": "1.5.0",
     "model_name": "HTMLModel",
     "state": {
      "_dom_classes": [],
      "_model_module": "@jupyter-widgets/controls",
      "_model_module_version": "1.5.0",
      "_model_name": "HTMLModel",
      "_view_count": null,
      "_view_module": "@jupyter-widgets/controls",
      "_view_module_version": "1.5.0",
      "_view_name": "HTMLView",
      "description": "",
      "description_tooltip": null,
      "layout": "IPY_MODEL_009097ea2c2c46b3a406dd398a200e07",
      "placeholder": "​",
      "style": "IPY_MODEL_f1623525aafa49238b5a7192e3631aa4",
      "value": " 1.46k/1.46k [00:00&lt;00:00, 63.4kB/s]"
     }
    },
    "fefeae156ad74efc9d44e1529e1112db": {
     "model_module": "@jupyter-widgets/controls",
     "model_module_version": "1.5.0",
     "model_name": "HBoxModel",
     "state": {
      "_dom_classes": [],
      "_model_module": "@jupyter-widgets/controls",
      "_model_module_version": "1.5.0",
      "_model_name": "HBoxModel",
      "_view_count": null,
      "_view_module": "@jupyter-widgets/controls",
      "_view_module_version": "1.5.0",
      "_view_name": "HBoxView",
      "box_style": "",
      "children": [
       "IPY_MODEL_e752e42e29b3445ebe5193af580cd7fa",
       "IPY_MODEL_d8743e58968c417fb6031be23fa06b14",
       "IPY_MODEL_184e3da22f0d42b3b59a9315dd64658c"
      ],
      "layout": "IPY_MODEL_98a3df0404ea4bad9807d946862cea8a"
     }
    },
    "ff333b1108094a4c8d5252e22425ea14": {
     "model_module": "@jupyter-widgets/base",
     "model_module_version": "1.2.0",
     "model_name": "LayoutModel",
     "state": {
      "_model_module": "@jupyter-widgets/base",
      "_model_module_version": "1.2.0",
      "_model_name": "LayoutModel",
      "_view_count": null,
      "_view_module": "@jupyter-widgets/base",
      "_view_module_version": "1.2.0",
      "_view_name": "LayoutView",
      "align_content": null,
      "align_items": null,
      "align_self": null,
      "border": null,
      "bottom": null,
      "display": null,
      "flex": null,
      "flex_flow": null,
      "grid_area": null,
      "grid_auto_columns": null,
      "grid_auto_flow": null,
      "grid_auto_rows": null,
      "grid_column": null,
      "grid_gap": null,
      "grid_row": null,
      "grid_template_areas": null,
      "grid_template_columns": null,
      "grid_template_rows": null,
      "height": null,
      "justify_content": null,
      "justify_items": null,
      "left": null,
      "margin": null,
      "max_height": null,
      "max_width": null,
      "min_height": null,
      "min_width": null,
      "object_fit": null,
      "object_position": null,
      "order": null,
      "overflow": null,
      "overflow_x": null,
      "overflow_y": null,
      "padding": null,
      "right": null,
      "top": null,
      "visibility": null,
      "width": null
     }
    },
    "ffe2ccd6c9294c2b95b6f9aa6c3abab6": {
     "model_module": "@jupyter-widgets/base",
     "model_module_version": "1.2.0",
     "model_name": "LayoutModel",
     "state": {
      "_model_module": "@jupyter-widgets/base",
      "_model_module_version": "1.2.0",
      "_model_name": "LayoutModel",
      "_view_count": null,
      "_view_module": "@jupyter-widgets/base",
      "_view_module_version": "1.2.0",
      "_view_name": "LayoutView",
      "align_content": null,
      "align_items": null,
      "align_self": null,
      "border": null,
      "bottom": null,
      "display": null,
      "flex": null,
      "flex_flow": null,
      "grid_area": null,
      "grid_auto_columns": null,
      "grid_auto_flow": null,
      "grid_auto_rows": null,
      "grid_column": null,
      "grid_gap": null,
      "grid_row": null,
      "grid_template_areas": null,
      "grid_template_columns": null,
      "grid_template_rows": null,
      "height": null,
      "justify_content": null,
      "justify_items": null,
      "left": null,
      "margin": null,
      "max_height": null,
      "max_width": null,
      "min_height": null,
      "min_width": null,
      "object_fit": null,
      "object_position": null,
      "order": null,
      "overflow": null,
      "overflow_x": null,
      "overflow_y": null,
      "padding": null,
      "right": null,
      "top": null,
      "visibility": null,
      "width": null
     }
    }
   }
  }
 },
 "nbformat": 4,
 "nbformat_minor": 4
}
